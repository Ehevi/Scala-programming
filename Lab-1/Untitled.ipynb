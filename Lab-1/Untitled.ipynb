{
 "cells": [
  {
   "cell_type": "code",
   "execution_count": 1,
   "id": "arranged-admission",
   "metadata": {},
   "outputs": [
    {
     "data": {
      "text/plain": [
       "Intitializing Scala interpreter ..."
      ]
     },
     "metadata": {},
     "output_type": "display_data"
    },
    {
     "data": {
      "text/plain": [
       "Spark Web UI available at http://192.168.196.150:4041\n",
       "SparkContext available as 'sc' (version = 3.1.1, master = local[*], app id = local-1615106020089)\n",
       "SparkSession available as 'spark'\n"
      ]
     },
     "metadata": {},
     "output_type": "display_data"
    },
    {
     "data": {
      "text/plain": [
       "xsa: Array[Int] = Array(1, 2, 3)\n"
      ]
     },
     "execution_count": 1,
     "metadata": {},
     "output_type": "execute_result"
    }
   ],
   "source": [
    "val xsa = for (i <- (1 to 3).toArray) yield(i)"
   ]
  },
  {
   "cell_type": "code",
   "execution_count": 2,
   "id": "round-airplane",
   "metadata": {},
   "outputs": [
    {
     "data": {
      "text/plain": [
       "xsa: Array[Int] = Array(0, 0, 0)\n"
      ]
     },
     "execution_count": 2,
     "metadata": {},
     "output_type": "execute_result"
    }
   ],
   "source": [
    "val xsa = new Array[Int](3)"
   ]
  },
  {
   "cell_type": "code",
   "execution_count": 3,
   "id": "limiting-daily",
   "metadata": {},
   "outputs": [],
   "source": [
    "xsa(0)=0"
   ]
  },
  {
   "cell_type": "code",
   "execution_count": 4,
   "id": "forward-guard",
   "metadata": {},
   "outputs": [
    {
     "data": {
      "text/plain": [
       "xsa0: Int = 0\n"
      ]
     },
     "execution_count": 4,
     "metadata": {},
     "output_type": "execute_result"
    }
   ],
   "source": [
    "val xsa0 = xsa(0)"
   ]
  },
  {
   "cell_type": "code",
   "execution_count": 5,
   "id": "scenic-indication",
   "metadata": {},
   "outputs": [
    {
     "ename": "<console>",
     "evalue": "28: error: not found: value i",
     "output_type": "error",
     "traceback": [
      "<console>:28: error: not found: value i",
      "       while(i <= 3) {xsa(i) = i; i+= 1}",
      "             ^",
      "<console>:28: error: not found: value i",
      "       while(i <= 3) {xsa(i) = i; i+= 1}",
      "                          ^",
      "<console>:28: error: not found: value i",
      "       while(i <= 3) {xsa(i) = i; i+= 1}",
      "                               ^",
      "<console>:28: error: not found: value i",
      "       while(i <= 3) {xsa(i) = i; i+= 1}",
      "                                  ^",
      ""
     ]
    }
   ],
   "source": [
    "while(i <= 3) {xsa(i) = i; i+= 1}"
   ]
  },
  {
   "cell_type": "code",
   "execution_count": 6,
   "id": "unique-recycling",
   "metadata": {},
   "outputs": [
    {
     "data": {
      "text/plain": [
       "i: Int = 1\n"
      ]
     },
     "execution_count": 6,
     "metadata": {},
     "output_type": "execute_result"
    }
   ],
   "source": [
    "val i = 1"
   ]
  },
  {
   "cell_type": "code",
   "execution_count": 7,
   "id": "ordered-southwest",
   "metadata": {},
   "outputs": [
    {
     "ename": "<console>",
     "evalue": "30: error: value += is not a member of Int",
     "output_type": "error",
     "traceback": [
      "<console>:30: error: value += is not a member of Int",
      "  Expression does not convert to assignment because receiver is not assignable.",
      "       while(i <= 3) {xsa(i) = i; i+= 1}",
      "                                   ^",
      ""
     ]
    }
   ],
   "source": [
    "while(i <= 3) {xsa(i) = i; i+= 1}"
   ]
  },
  {
   "cell_type": "code",
   "execution_count": 8,
   "id": "fancy-postage",
   "metadata": {},
   "outputs": [
    {
     "data": {
      "text/plain": [
       "i: Int = 1\n"
      ]
     },
     "execution_count": 8,
     "metadata": {},
     "output_type": "execute_result"
    }
   ],
   "source": [
    "var i = 1"
   ]
  },
  {
   "cell_type": "code",
   "execution_count": 9,
   "id": "prepared-packaging",
   "metadata": {},
   "outputs": [
    {
     "ename": "java.lang.ArrayIndexOutOfBoundsException",
     "evalue": " Index 3 out of bounds for length 3",
     "output_type": "error",
     "traceback": [
      "java.lang.ArrayIndexOutOfBoundsException: Index 3 out of bounds for length 3",
      "  ... 37 elided",
      ""
     ]
    }
   ],
   "source": [
    "while(i <= 3) {xsa(i) = i; i+= 1}"
   ]
  },
  {
   "cell_type": "code",
   "execution_count": 10,
   "id": "vertical-albany",
   "metadata": {},
   "outputs": [
    {
     "data": {
      "text/plain": [
       "i: Int = 0\n"
      ]
     },
     "execution_count": 10,
     "metadata": {},
     "output_type": "execute_result"
    }
   ],
   "source": [
    "i = 0"
   ]
  },
  {
   "cell_type": "code",
   "execution_count": 13,
   "id": "wicked-founder",
   "metadata": {},
   "outputs": [],
   "source": [
    "while(i < 3) {xsa(i) = i+1; i+= 1}"
   ]
  },
  {
   "cell_type": "code",
   "execution_count": 14,
   "id": "chronic-hacker",
   "metadata": {},
   "outputs": [
    {
     "data": {
      "text/plain": [
       "res7: Array[Int] = Array(0, 1, 2)\n"
      ]
     },
     "execution_count": 14,
     "metadata": {},
     "output_type": "execute_result"
    }
   ],
   "source": [
    "xsa"
   ]
  },
  {
   "cell_type": "code",
   "execution_count": null,
   "id": "loved-hacker",
   "metadata": {},
   "outputs": [],
   "source": []
  }
 ],
 "metadata": {
  "kernelspec": {
   "display_name": "spylon-kernel",
   "language": "scala",
   "name": "spylon-kernel"
  },
  "language_info": {
   "codemirror_mode": "text/x-scala",
   "file_extension": ".scala",
   "help_links": [
    {
     "text": "MetaKernel Magics",
     "url": "https://metakernel.readthedocs.io/en/latest/source/README.html"
    }
   ],
   "mimetype": "text/x-scala",
   "name": "scala",
   "pygments_lexer": "scala",
   "version": "0.4.1"
  }
 },
 "nbformat": 4,
 "nbformat_minor": 5
}
