{
 "cells": [
  {
   "cell_type": "code",
   "execution_count": 1,
   "id": "egyptian-creature",
   "metadata": {},
   "outputs": [
    {
     "data": {
      "text/plain": [
       "Intitializing Scala interpreter ..."
      ]
     },
     "metadata": {},
     "output_type": "display_data"
    },
    {
     "data": {
      "text/plain": [
       "Spark Web UI available at http://192.168.196.150:4042\n",
       "SparkContext available as 'sc' (version = 3.1.1, master = local[*], app id = local-1615106377788)\n",
       "SparkSession available as 'spark'\n"
      ]
     },
     "metadata": {},
     "output_type": "display_data"
    },
    {
     "data": {
      "text/plain": [
       "xsa: Array[Int] = Array(1, 2, 3)\n",
       "i: Int = 3\n"
      ]
     },
     "execution_count": 1,
     "metadata": {},
     "output_type": "execute_result"
    }
   ],
   "source": [
    "val xsa = new Array[Int](3)\n",
    "var i = 0\n",
    "while(i < 3) {xsa(i) = i+1; i+= 1}"
   ]
  },
  {
   "cell_type": "code",
   "execution_count": 2,
   "id": "practical-journey",
   "metadata": {},
   "outputs": [
    {
     "data": {
      "text/plain": [
       "xsa: Array[Int] = Array(1, 2, 3)\n"
      ]
     },
     "execution_count": 2,
     "metadata": {},
     "output_type": "execute_result"
    }
   ],
   "source": [
    "val xsa = for (i <- (1 to 3).toArray) yield(i)"
   ]
  },
  {
   "cell_type": "code",
   "execution_count": null,
   "id": "thousand-parallel",
   "metadata": {},
   "outputs": [],
   "source": []
  }
 ],
 "metadata": {
  "kernelspec": {
   "display_name": "spylon-kernel",
   "language": "scala",
   "name": "spylon-kernel"
  },
  "language_info": {
   "codemirror_mode": "text/x-scala",
   "file_extension": ".scala",
   "help_links": [
    {
     "text": "MetaKernel Magics",
     "url": "https://metakernel.readthedocs.io/en/latest/source/README.html"
    }
   ],
   "mimetype": "text/x-scala",
   "name": "scala",
   "pygments_lexer": "scala",
   "version": "0.4.1"
  }
 },
 "nbformat": 4,
 "nbformat_minor": 5
}
