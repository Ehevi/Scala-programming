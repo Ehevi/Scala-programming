{
 "cells": [
  {
   "cell_type": "code",
   "execution_count": 19,
   "id": "bridal-convergence",
   "metadata": {},
   "outputs": [
    {
     "data": {
      "text/plain": [
       "typedPatterns: (tp: Any)Unit\n"
      ]
     },
     "execution_count": 19,
     "metadata": {},
     "output_type": "execute_result"
    }
   ],
   "source": [
    "def typedPatterns(tp: Any) = tp match {\n",
    "    case s: String => println(\"String matched, str = \" + s)\n",
    "    case i: Int => println(\"Int matched, i = \" + i)\n",
    "    case b: Boolean => println(\"Boolean matched, b = \" + b)\n",
    "    case a: Array[_] => println(\"Array matched, a = \" + a)\n",
    "}"
   ]
  },
  {
   "cell_type": "code",
   "execution_count": 2,
   "id": "manual-asset",
   "metadata": {},
   "outputs": [
    {
     "name": "stdout",
     "output_type": "stream",
     "text": [
      "String matched, str = hello there\n"
     ]
    }
   ],
   "source": [
    "typedPatterns(\"hello there\")"
   ]
  },
  {
   "cell_type": "code",
   "execution_count": 3,
   "id": "underlying-camel",
   "metadata": {},
   "outputs": [
    {
     "name": "stdout",
     "output_type": "stream",
     "text": [
      "Int matched, i = 1\n"
     ]
    }
   ],
   "source": [
    "typedPatterns(1)"
   ]
  },
  {
   "cell_type": "code",
   "execution_count": 4,
   "id": "joined-portland",
   "metadata": {},
   "outputs": [
    {
     "name": "stdout",
     "output_type": "stream",
     "text": [
      "Boolean matched, b = false\n"
     ]
    }
   ],
   "source": [
    "typedPatterns(false)"
   ]
  },
  {
   "cell_type": "code",
   "execution_count": 20,
   "id": "eastern-passport",
   "metadata": {},
   "outputs": [
    {
     "name": "stdout",
     "output_type": "stream",
     "text": [
      "Array matched, a = [I@37b5b3e7\n"
     ]
    }
   ],
   "source": [
    "typedPatterns(Array(1, 2, 5))"
   ]
  },
  {
   "cell_type": "code",
   "execution_count": 17,
   "id": "remarkable-stranger",
   "metadata": {},
   "outputs": [
    {
     "data": {
      "text/plain": [
       "typedPatterns: (tp: Any)Unit\n"
      ]
     },
     "execution_count": 17,
     "metadata": {},
     "output_type": "execute_result"
    }
   ],
   "source": [
    "def typedPatterns(tp: Any) = tp match {\n",
    "    case s: String => println(\"String matched, str = \" + s)\n",
    "    case i: Int => println(\"Int matched, i = \" + i)\n",
    "    case b: Boolean => println(\"Boolean matched, b = \" + b)\n",
    "    case a: Array[_] => println(\"Array matched, a = \" + a.mkString(\", \"))\n",
    "}"
   ]
  },
  {
   "cell_type": "code",
   "execution_count": 18,
   "id": "veterinary-funds",
   "metadata": {},
   "outputs": [
    {
     "name": "stdout",
     "output_type": "stream",
     "text": [
      "Array matched, a = 1, 2, 5\n"
     ]
    }
   ],
   "source": [
    "typedPatterns(Array(1, 2, 5))"
   ]
  },
  {
   "cell_type": "code",
   "execution_count": 21,
   "id": "engaging-guarantee",
   "metadata": {},
   "outputs": [
    {
     "ename": "scala.MatchError",
     "evalue": " 3.14 (of class java.lang.Double)",
     "output_type": "error",
     "traceback": [
      "scala.MatchError: 3.14 (of class java.lang.Double)",
      "  at typedPatterns(<console>:24)",
      "  ... 36 elided",
      ""
     ]
    }
   ],
   "source": [
    "typedPatterns(3.14)"
   ]
  },
  {
   "cell_type": "code",
   "execution_count": 22,
   "id": "color-freedom",
   "metadata": {},
   "outputs": [
    {
     "data": {
      "text/plain": [
       "typedPatterns: (tp: Any)Unit\n"
      ]
     },
     "execution_count": 22,
     "metadata": {},
     "output_type": "execute_result"
    }
   ],
   "source": [
    "def typedPatterns(tp: Any) = tp match {\n",
    "    case s: String => println(\"String matched, str = \" + s)\n",
    "    case i: Int => println(\"Int matched, i = \" + i)\n",
    "    case b: Boolean => println(\"Boolean matched, b = \" + b)\n",
    "    case a: Array[_] => println(\"Array matched, a = \" + a.mkString(\", \"))\n",
    "    case _ => println(\"Default handler\")\n",
    "}"
   ]
  },
  {
   "cell_type": "code",
   "execution_count": 23,
   "id": "excellent-courtesy",
   "metadata": {},
   "outputs": [
    {
     "name": "stdout",
     "output_type": "stream",
     "text": [
      "Default handler\n"
     ]
    }
   ],
   "source": [
    "typedPatterns(3.14)"
   ]
  },
  {
   "cell_type": "code",
   "execution_count": null,
   "id": "august-allowance",
   "metadata": {},
   "outputs": [],
   "source": []
  }
 ],
 "metadata": {
  "kernelspec": {
   "display_name": "spylon-kernel",
   "language": "scala",
   "name": "spylon-kernel"
  },
  "language_info": {
   "codemirror_mode": "text/x-scala",
   "file_extension": ".scala",
   "help_links": [
    {
     "text": "MetaKernel Magics",
     "url": "https://metakernel.readthedocs.io/en/latest/source/README.html"
    }
   ],
   "mimetype": "text/x-scala",
   "name": "scala",
   "pygments_lexer": "scala",
   "version": "0.4.1"
  }
 },
 "nbformat": 4,
 "nbformat_minor": 5
}
