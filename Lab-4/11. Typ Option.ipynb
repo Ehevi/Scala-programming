{
 "cells": [
  {
   "cell_type": "code",
   "execution_count": 2,
   "id": "figured-acting",
   "metadata": {},
   "outputs": [
    {
     "data": {
      "text/plain": [
       "wrap: (s: String)Option[String]\n",
       "import scala.language.implicitConversions\n",
       "unwrap: (opt: Option[String])String\n"
      ]
     },
     "execution_count": 2,
     "metadata": {},
     "output_type": "execute_result"
    }
   ],
   "source": [
    "def wrap(s: String) = s match {\n",
    "    case s if (s != null) => Some(s)\n",
    "    case _ => None\n",
    "}\n",
    "\n",
    "import scala.language.implicitConversions\n",
    "implicit def unwrap(opt: Option[String]) = opt match {\n",
    "    case Some(s) => s\n",
    "    case None => \"\"\n",
    "}"
   ]
  },
  {
   "cell_type": "code",
   "execution_count": 3,
   "id": "gothic-stewart",
   "metadata": {},
   "outputs": [
    {
     "data": {
      "text/plain": [
       "res0: Option[String] = Some(abc)\n"
      ]
     },
     "execution_count": 3,
     "metadata": {},
     "output_type": "execute_result"
    }
   ],
   "source": [
    "wrap(\"abc\")"
   ]
  },
  {
   "cell_type": "code",
   "execution_count": 4,
   "id": "quality-spirituality",
   "metadata": {},
   "outputs": [
    {
     "data": {
      "text/plain": [
       "res1: Option[String] = Some()\n"
      ]
     },
     "execution_count": 4,
     "metadata": {},
     "output_type": "execute_result"
    }
   ],
   "source": [
    "wrap(\"\")"
   ]
  },
  {
   "cell_type": "code",
   "execution_count": 5,
   "id": "relevant-stamp",
   "metadata": {},
   "outputs": [
    {
     "data": {
      "text/plain": [
       "res2: Option[String] = None\n"
      ]
     },
     "execution_count": 5,
     "metadata": {},
     "output_type": "execute_result"
    }
   ],
   "source": [
    "wrap(null)"
   ]
  },
  {
   "cell_type": "code",
   "execution_count": 6,
   "id": "noticed-portugal",
   "metadata": {},
   "outputs": [
    {
     "data": {
      "text/plain": [
       "a1: Array[String] = Array(s1, s2, null, s3)\n"
      ]
     },
     "execution_count": 6,
     "metadata": {},
     "output_type": "execute_result"
    }
   ],
   "source": [
    "val a1 = Array(\"s1\", \"s2\", null, \"s3\")"
   ]
  },
  {
   "cell_type": "code",
   "execution_count": 7,
   "id": "arbitrary-authorization",
   "metadata": {},
   "outputs": [
    {
     "ename": "java.lang.NullPointerException",
     "evalue": "",
     "output_type": "error",
     "traceback": [
      "java.lang.NullPointerException",
      "  at $anonfun$s1Lengths$1(<console>:29)",
      "  at $anonfun$s1Lengths$1$adapted(<console>:29)",
      "  at scala.collection.TraversableLike.$anonfun$map$1(TraversableLike.scala:238)",
      "  at scala.collection.IndexedSeqOptimized.foreach(IndexedSeqOptimized.scala:36)",
      "  at scala.collection.IndexedSeqOptimized.foreach$(IndexedSeqOptimized.scala:33)",
      "  at scala.collection.mutable.ArrayOps$ofRef.foreach(ArrayOps.scala:198)",
      "  at scala.collection.TraversableLike.map(TraversableLike.scala:238)",
      "  at scala.collection.TraversableLike.map$(TraversableLike.scala:231)",
      "  at scala.collection.mutable.ArrayOps$ofRef.map(ArrayOps.scala:198)",
      "  ... 37 elided",
      ""
     ]
    }
   ],
   "source": [
    "val s1Lengths = for(s <- a1) yield s.length"
   ]
  },
  {
   "cell_type": "code",
   "execution_count": 8,
   "id": "ultimate-gibson",
   "metadata": {},
   "outputs": [
    {
     "data": {
      "text/plain": [
       "a1Safe: Array[Option[String]] = Array(Some(s1), Some(s2), None, Some(s3))\n"
      ]
     },
     "execution_count": 8,
     "metadata": {},
     "output_type": "execute_result"
    }
   ],
   "source": [
    "val a1Safe = for (s <- a1) yield wrap(s)"
   ]
  },
  {
   "cell_type": "code",
   "execution_count": 9,
   "id": "sized-therapy",
   "metadata": {},
   "outputs": [
    {
     "data": {
      "text/plain": [
       "s1Lengths1: Array[Int] = Array(2, 2, 0, 2)\n"
      ]
     },
     "execution_count": 9,
     "metadata": {},
     "output_type": "execute_result"
    }
   ],
   "source": [
    "val s1Lengths1 = for (s <- a1Safe) yield unwrap(s).length"
   ]
  },
  {
   "cell_type": "code",
   "execution_count": 10,
   "id": "higher-newcastle",
   "metadata": {},
   "outputs": [
    {
     "data": {
      "text/plain": [
       "s1Lengths2: Array[Int] = Array(2, 2, 0, 2)\n"
      ]
     },
     "execution_count": 10,
     "metadata": {},
     "output_type": "execute_result"
    }
   ],
   "source": [
    "val s1Lengths2 = for (s <- a1Safe) yield s.length"
   ]
  },
  {
   "cell_type": "code",
   "execution_count": null,
   "id": "auburn-sydney",
   "metadata": {},
   "outputs": [],
   "source": []
  }
 ],
 "metadata": {
  "kernelspec": {
   "display_name": "spylon-kernel",
   "language": "scala",
   "name": "spylon-kernel"
  },
  "language_info": {
   "codemirror_mode": "text/x-scala",
   "file_extension": ".scala",
   "help_links": [
    {
     "text": "MetaKernel Magics",
     "url": "https://metakernel.readthedocs.io/en/latest/source/README.html"
    }
   ],
   "mimetype": "text/x-scala",
   "name": "scala",
   "pygments_lexer": "scala",
   "version": "0.4.1"
  }
 },
 "nbformat": 4,
 "nbformat_minor": 5
}
