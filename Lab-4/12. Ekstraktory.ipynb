{
 "cells": [
  {
   "cell_type": "code",
   "execution_count": 1,
   "id": "accompanied-impossible",
   "metadata": {},
   "outputs": [
    {
     "data": {
      "text/plain": [
       "Intitializing Scala interpreter ..."
      ]
     },
     "metadata": {},
     "output_type": "display_data"
    },
    {
     "data": {
      "text/plain": [
       "Spark Web UI available at http://192.168.196.150:4042\n",
       "SparkContext available as 'sc' (version = 3.1.1, master = local[*], app id = local-1618511375877)\n",
       "SparkSession available as 'spark'\n"
      ]
     },
     "metadata": {},
     "output_type": "display_data"
    },
    {
     "data": {
      "text/plain": [
       "defined class Expr\n",
       "defined class Number\n",
       "defined class UnOp\n",
       "defined object Number\n",
       "defined object UnOp\n",
       "handleExpr: (e: Expr)Unit\n"
      ]
     },
     "execution_count": 1,
     "metadata": {},
     "output_type": "execute_result"
    }
   ],
   "source": [
    "abstract class Expr\n",
    "class Number(val num: Double) extends Expr\n",
    "class UnOp(val operator: String, val arg: Expr) extends Expr\n",
    "\n",
    "object Number {\n",
    "    def apply(num: Double) = new Number(num)\n",
    "    def unapply(e: Number): Option[Double] =\n",
    "        if(e != null) Some(e.num) else None\n",
    "}\n",
    "\n",
    "object UnOp {\n",
    "    def apply(op: String, arg: Expr) = new UnOp(op, arg)\n",
    "    def unapply(op: UnOp): Option[(String, Expr)] =\n",
    "        if(op != null) Some((op.operator, op.arg)) else None\n",
    "}\n",
    "\n",
    "def handleExpr(e: Expr) = e match {\n",
    "    case Number(num) => println(\"Number matched, num = \" + num)\n",
    "    case UnOp(op, _) => println(\"UnOp matched, operator = \" + op)\n",
    "    case _ => println(\"Default handler...\")\n",
    "}"
   ]
  },
  {
   "cell_type": "code",
   "execution_count": 2,
   "id": "biological-animation",
   "metadata": {},
   "outputs": [
    {
     "name": "stdout",
     "output_type": "stream",
     "text": [
      "Number matched, num = 10.0\n"
     ]
    }
   ],
   "source": [
    "handleExpr(Number(10))"
   ]
  },
  {
   "cell_type": "code",
   "execution_count": 3,
   "id": "rubber-straight",
   "metadata": {},
   "outputs": [
    {
     "name": "stdout",
     "output_type": "stream",
     "text": [
      "UnOp matched, operator = +\n"
     ]
    }
   ],
   "source": [
    "handleExpr(UnOp(\"+\", Number(10)))"
   ]
  },
  {
   "cell_type": "code",
   "execution_count": null,
   "id": "reported-tanzania",
   "metadata": {},
   "outputs": [],
   "source": []
  }
 ],
 "metadata": {
  "kernelspec": {
   "display_name": "spylon-kernel",
   "language": "scala",
   "name": "spylon-kernel"
  },
  "language_info": {
   "codemirror_mode": "text/x-scala",
   "file_extension": ".scala",
   "help_links": [
    {
     "text": "MetaKernel Magics",
     "url": "https://metakernel.readthedocs.io/en/latest/source/README.html"
    }
   ],
   "mimetype": "text/x-scala",
   "name": "scala",
   "pygments_lexer": "scala",
   "version": "0.4.1"
  }
 },
 "nbformat": 4,
 "nbformat_minor": 5
}
