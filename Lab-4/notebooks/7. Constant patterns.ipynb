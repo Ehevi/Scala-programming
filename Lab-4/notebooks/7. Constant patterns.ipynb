{
 "cells": [
  {
   "cell_type": "code",
   "execution_count": 1,
   "id": "relevant-geography",
   "metadata": {},
   "outputs": [
    {
     "data": {
      "text/plain": [
       "Intitializing Scala interpreter ..."
      ]
     },
     "metadata": {},
     "output_type": "display_data"
    },
    {
     "data": {
      "text/plain": [
       "Spark Web UI available at http://192.168.196.150:4040\n",
       "SparkContext available as 'sc' (version = 3.1.1, master = local[*], app id = local-1618509530321)\n",
       "SparkSession available as 'spark'\n"
      ]
     },
     "metadata": {},
     "output_type": "display_data"
    },
    {
     "data": {
      "text/plain": [
       "printConstInfo: (c: Any)Unit\n"
      ]
     },
     "execution_count": 1,
     "metadata": {},
     "output_type": "execute_result"
    }
   ],
   "source": [
    "def printConstInfo(c: Any) = c match {\n",
    "    case 1 => println(\"1 matched\")\n",
    "    case 1.1 => println(\"1.1 matched\")\n",
    "    case 1.1f => println(\"1.1f matched\")\n",
    "    case \"42\" => println(\"'42' matched\")\n",
    "    case true => println(\"true matched\")\n",
    "    case false => println(\"false matched\")\n",
    "    case () => println(\"() matched\")\n",
    "    case _ => println(\"Unknown const\")\n",
    "}"
   ]
  },
  {
   "cell_type": "code",
   "execution_count": 2,
   "id": "amazing-manitoba",
   "metadata": {},
   "outputs": [
    {
     "name": "stdout",
     "output_type": "stream",
     "text": [
      "1 matched\n",
      "1.1 matched\n",
      "1.1f matched\n",
      "'42' matched\n",
      "true matched\n",
      "false matched\n",
      "() matched\n",
      "Unknown const\n",
      "Unknown const\n",
      "Unknown const\n"
     ]
    }
   ],
   "source": [
    "printConstInfo(1)\n",
    "printConstInfo(1.1)\n",
    "printConstInfo(1.1f)\n",
    "printConstInfo(\"42\")\n",
    "printConstInfo(true)\n",
    "printConstInfo(false)\n",
    "printConstInfo(())\n",
    "printConstInfo(42)\n",
    "printConstInfo(\"abc\")\n",
    "printConstInfo(3.14)"
   ]
  },
  {
   "cell_type": "code",
   "execution_count": 3,
   "id": "juvenile-integral",
   "metadata": {},
   "outputs": [
    {
     "data": {
      "text/plain": [
       "printConstInfo: (c: Any)Unit\n"
      ]
     },
     "execution_count": 3,
     "metadata": {},
     "output_type": "execute_result"
    }
   ],
   "source": [
    "def printConstInfo(c: Any) = c match {\n",
    "    case 1 => println(\"1 matched\")\n",
    "    case 1.1 => println(\"1.1 matched\")\n",
    "    case 1.1f => println(\"1.1f matched\")\n",
    "    case \"42\" => println(\"'42' matched\")\n",
    "    case true => println(\"true matched\")\n",
    "    case false => println(\"false matched\")\n",
    "    case () => println(\"() matched\")\n",
    "    case any => println(\"Variable pattern matched, matched: \" + any)\n",
    "}"
   ]
  },
  {
   "cell_type": "code",
   "execution_count": 4,
   "id": "irish-cartoon",
   "metadata": {},
   "outputs": [
    {
     "name": "stdout",
     "output_type": "stream",
     "text": [
      "1 matched\n",
      "1.1 matched\n",
      "1.1f matched\n",
      "'42' matched\n",
      "true matched\n",
      "false matched\n",
      "() matched\n",
      "Variable pattern matched, matched: 42\n",
      "Variable pattern matched, matched: abc\n",
      "Variable pattern matched, matched: 3.14\n"
     ]
    }
   ],
   "source": [
    "printConstInfo(1)\n",
    "printConstInfo(1.1)\n",
    "printConstInfo(1.1f)\n",
    "printConstInfo(\"42\")\n",
    "printConstInfo(true)\n",
    "printConstInfo(false)\n",
    "printConstInfo(())\n",
    "printConstInfo(42)\n",
    "printConstInfo(\"abc\")\n",
    "printConstInfo(3.14)"
   ]
  },
  {
   "cell_type": "code",
   "execution_count": 5,
   "id": "greatest-intake",
   "metadata": {},
   "outputs": [
    {
     "data": {
      "text/plain": [
       "<console>:25: warning: patterns after a variable pattern cannot match (SLS 8.1.1)\n",
       "           case any => println(\"Variable pattern matched, matched: \" + any)\n",
       "                ^\n",
       "<console>:26: warning: unreachable code due to variable pattern 'any' on line 25\n",
       "           case 1 => println(\"1 matched\")\n",
       "                            ^\n",
       "<console>:27: warning: unreachable code due to variable pattern 'any' on line 25\n",
       "           case 1.1 => println(\"1.1 matched\")\n",
       "                              ^\n",
       "<console>:28: warning: unreachable code due to variable pattern 'any' on line 25\n",
       "           case 1.1f => println(\"1.1f matched\")\n",
       "                               ^\n",
       "<console>:29: warning: unreachable code due to variable pattern 'any' on line 25\n",
       "           case \"42\" => println(\"'42' matched\")\n",
       "                               ^\n",
       "<console>:30: warning: unreachable code due to variable pattern 'any' on line 25\n",
       "           case true => println(\"true matched\")\n",
       "                               ^\n",
       "<console>:31: warning: unreachable code due to variable pattern 'any' on line 25\n",
       "           case false => println(\"false matched\")\n",
       "                                ^\n",
       "<console>:32: warning: unreachable code due to variable pattern 'any' on line 25\n",
       "           case () => println(\"() matched\")\n",
       "                             ^\n",
       "<console>:26: warning: unreachable code\n",
       "           case 1 => println(\"1 matched\")\n",
       "                            ^\n",
       "printConstInfo: (c: Any)Unit\n"
      ]
     },
     "execution_count": 5,
     "metadata": {},
     "output_type": "execute_result"
    }
   ],
   "source": [
    "def printConstInfo(c: Any) = c match {\n",
    "    case any => println(\"Variable pattern matched, matched: \" + any)\n",
    "    case 1 => println(\"1 matched\")\n",
    "    case 1.1 => println(\"1.1 matched\")\n",
    "    case 1.1f => println(\"1.1f matched\")\n",
    "    case \"42\" => println(\"'42' matched\")\n",
    "    case true => println(\"true matched\")\n",
    "    case false => println(\"false matched\")\n",
    "    case () => println(\"() matched\")\n",
    "}"
   ]
  },
  {
   "cell_type": "code",
   "execution_count": 6,
   "id": "appointed-registrar",
   "metadata": {},
   "outputs": [
    {
     "name": "stdout",
     "output_type": "stream",
     "text": [
      "Variable pattern matched, matched: 1\n",
      "Variable pattern matched, matched: 1.1\n",
      "Variable pattern matched, matched: 1.1\n",
      "Variable pattern matched, matched: 42\n",
      "Variable pattern matched, matched: true\n",
      "Variable pattern matched, matched: false\n",
      "Variable pattern matched, matched: ()\n",
      "Variable pattern matched, matched: 42\n",
      "Variable pattern matched, matched: abc\n",
      "Variable pattern matched, matched: 3.14\n"
     ]
    }
   ],
   "source": [
    "printConstInfo(1)\n",
    "printConstInfo(1.1)\n",
    "printConstInfo(1.1f)\n",
    "printConstInfo(\"42\")\n",
    "printConstInfo(true)\n",
    "printConstInfo(false)\n",
    "printConstInfo(())\n",
    "printConstInfo(42)\n",
    "printConstInfo(\"abc\")\n",
    "printConstInfo(3.14)"
   ]
  },
  {
   "cell_type": "code",
   "execution_count": null,
   "id": "latest-feature",
   "metadata": {},
   "outputs": [],
   "source": []
  }
 ],
 "metadata": {
  "kernelspec": {
   "display_name": "spylon-kernel",
   "language": "scala",
   "name": "spylon-kernel"
  },
  "language_info": {
   "codemirror_mode": "text/x-scala",
   "file_extension": ".scala",
   "help_links": [
    {
     "text": "MetaKernel Magics",
     "url": "https://metakernel.readthedocs.io/en/latest/source/README.html"
    }
   ],
   "mimetype": "text/x-scala",
   "name": "scala",
   "pygments_lexer": "scala",
   "version": "0.4.1"
  }
 },
 "nbformat": 4,
 "nbformat_minor": 5
}
