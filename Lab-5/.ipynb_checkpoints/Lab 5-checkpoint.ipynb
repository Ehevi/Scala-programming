{
 "cells": [
  {
   "cell_type": "markdown",
   "id": "arranged-concept",
   "metadata": {},
   "source": [
    "# Laboratorium 5."
   ]
  },
  {
   "cell_type": "markdown",
   "id": "advance-insured",
   "metadata": {},
   "source": [
    "## 1. Funkcje w Scali: `trait FunctionN`"
   ]
  },
  {
   "cell_type": "code",
   "execution_count": 1,
   "id": "electronic-science",
   "metadata": {},
   "outputs": [
    {
     "data": {
      "text/plain": [
       "Intitializing Scala interpreter ..."
      ]
     },
     "metadata": {},
     "output_type": "display_data"
    },
    {
     "data": {
      "text/plain": [
       "Spark Web UI available at http://192.168.196.150:4040\n",
       "SparkContext available as 'sc' (version = 3.1.1, master = local[*], app id = local-1620036949043)\n",
       "SparkSession available as 'spark'\n"
      ]
     },
     "metadata": {},
     "output_type": "display_data"
    },
    {
     "data": {
      "text/plain": [
       "defined class NumOps\n"
      ]
     },
     "execution_count": 1,
     "metadata": {},
     "output_type": "execute_result"
    }
   ],
   "source": [
    "class NumOps {\n",
    "    def succ(a: Int) = a + 1\n",
    "    def pred(a: Int) = a - 1\n",
    "}"
   ]
  },
  {
   "cell_type": "code",
   "execution_count": 2,
   "id": "adjacent-formula",
   "metadata": {},
   "outputs": [
    {
     "data": {
      "text/plain": [
       "numOps: NumOps = NumOps@12081960\n",
       "after5: Int = 6\n",
       "before5: Int = 4\n"
      ]
     },
     "execution_count": 2,
     "metadata": {},
     "output_type": "execute_result"
    }
   ],
   "source": [
    "val numOps = new NumOps\n",
    "val after5 = numOps.succ(5)\n",
    "val before5 = numOps.pred(5)"
   ]
  },
  {
   "cell_type": "code",
   "execution_count": 3,
   "id": "prime-origin",
   "metadata": {},
   "outputs": [
    {
     "data": {
      "text/plain": [
       "defined class Succ\n"
      ]
     },
     "execution_count": 3,
     "metadata": {},
     "output_type": "execute_result"
    }
   ],
   "source": [
    "class Succ extends Function1[Int, Int] {\n",
    "    override def apply(a: Int) = a + 1\n",
    "}"
   ]
  },
  {
   "cell_type": "code",
   "execution_count": 4,
   "id": "raising-heavy",
   "metadata": {},
   "outputs": [
    {
     "data": {
      "text/plain": [
       "succ: Succ = <function1>\n"
      ]
     },
     "execution_count": 4,
     "metadata": {},
     "output_type": "execute_result"
    }
   ],
   "source": [
    "val succ = new Succ"
   ]
  },
  {
   "cell_type": "code",
   "execution_count": 5,
   "id": "found-template",
   "metadata": {},
   "outputs": [
    {
     "data": {
      "text/plain": [
       "after5: Int = 6\n"
      ]
     },
     "execution_count": 5,
     "metadata": {},
     "output_type": "execute_result"
    }
   ],
   "source": [
    "val after5 = succ.apply(5)"
   ]
  },
  {
   "cell_type": "code",
   "execution_count": 6,
   "id": "consolidated-selling",
   "metadata": {},
   "outputs": [
    {
     "data": {
      "text/plain": [
       "after5: Int = 6\n"
      ]
     },
     "execution_count": 6,
     "metadata": {},
     "output_type": "execute_result"
    }
   ],
   "source": [
    "val after5 = succ(5)"
   ]
  },
  {
   "cell_type": "markdown",
   "id": "incomplete-blogger",
   "metadata": {},
   "source": [
    "#### Zadanie\n",
    "zdefiniować klasę `Pred` odpowiadającą metodzie `pred` klasy `NumOps`"
   ]
  },
  {
   "cell_type": "code",
   "execution_count": 7,
   "id": "centered-virginia",
   "metadata": {},
   "outputs": [
    {
     "data": {
      "text/plain": [
       "defined class Pred\n"
      ]
     },
     "execution_count": 7,
     "metadata": {},
     "output_type": "execute_result"
    }
   ],
   "source": [
    "class Pred extends Function1[Int, Int] {\n",
    "    override def apply(a: Int) = a - 1\n",
    "}"
   ]
  },
  {
   "cell_type": "code",
   "execution_count": 8,
   "id": "played-estonia",
   "metadata": {},
   "outputs": [
    {
     "data": {
      "text/plain": [
       "pred: Pred = <function1>\n"
      ]
     },
     "execution_count": 8,
     "metadata": {},
     "output_type": "execute_result"
    }
   ],
   "source": [
    "val pred = new Pred"
   ]
  },
  {
   "cell_type": "code",
   "execution_count": 9,
   "id": "guilty-garden",
   "metadata": {},
   "outputs": [
    {
     "data": {
      "text/plain": [
       "before5: Int = 4\n"
      ]
     },
     "execution_count": 9,
     "metadata": {},
     "output_type": "execute_result"
    }
   ],
   "source": [
    "val before5 = pred.apply(5)"
   ]
  },
  {
   "cell_type": "code",
   "execution_count": 11,
   "id": "advised-lawrence",
   "metadata": {},
   "outputs": [
    {
     "data": {
      "text/plain": [
       "before5: Int = 4\n"
      ]
     },
     "execution_count": 11,
     "metadata": {},
     "output_type": "execute_result"
    }
   ],
   "source": [
    "val before5 = pred(5)"
   ]
  },
  {
   "cell_type": "markdown",
   "id": "sitting-carrier",
   "metadata": {},
   "source": [
    "#### Zadanie\n",
    "w klasie `NumOps` dodać metodę zwracającą maksymalną z trzech podanych liczb, a następnie zdefiniować klasę `MaxFrom3` z odpowiednią implementacją metody `apply`; napisać kilka testów sprawdzających poprawność napisanego kodu."
   ]
  },
  {
   "cell_type": "code",
   "execution_count": 42,
   "id": "middle-sacrifice",
   "metadata": {},
   "outputs": [
    {
     "data": {
      "text/plain": [
       "defined class NumOps\n"
      ]
     },
     "execution_count": 42,
     "metadata": {},
     "output_type": "execute_result"
    }
   ],
   "source": [
    "class NumOps {\n",
    "    def succ(a: Int) = a + 1\n",
    "    def pred(a: Int) = a - 1\n",
    "    def maxFrom3(d1: Double, d2: Double, d3: Double): Double = {\n",
    "        if (d1 > d2) {\n",
    "            if (d1 > d3) d1\n",
    "            else d3\n",
    "        }\n",
    "        else {\n",
    "            if (d2 > d3) d2\n",
    "            else d3\n",
    "        }\n",
    "    }\n",
    "}"
   ]
  },
  {
   "cell_type": "code",
   "execution_count": 43,
   "id": "loaded-process",
   "metadata": {},
   "outputs": [
    {
     "data": {
      "text/plain": [
       "numOps: NumOps = NumOps@262e61d0\n"
      ]
     },
     "execution_count": 43,
     "metadata": {},
     "output_type": "execute_result"
    }
   ],
   "source": [
    "val numOps = new NumOps"
   ]
  },
  {
   "cell_type": "code",
   "execution_count": 44,
   "id": "lightweight-canberra",
   "metadata": {},
   "outputs": [
    {
     "data": {
      "text/plain": [
       "myMaxFrom3: Double = 6.4\n"
      ]
     },
     "execution_count": 44,
     "metadata": {},
     "output_type": "execute_result"
    }
   ],
   "source": [
    "val myMaxFrom3 = numOps.maxFrom3(3.5, 2.1, 6.4)"
   ]
  },
  {
   "cell_type": "code",
   "execution_count": 45,
   "id": "aggressive-external",
   "metadata": {},
   "outputs": [
    {
     "data": {
      "text/plain": [
       "myMaxFrom3: Double = 10.5\n"
      ]
     },
     "execution_count": 45,
     "metadata": {},
     "output_type": "execute_result"
    }
   ],
   "source": [
    "val myMaxFrom3 = numOps.maxFrom3(10.5, 2.1, 10.4)"
   ]
  },
  {
   "cell_type": "code",
   "execution_count": 46,
   "id": "empty-metadata",
   "metadata": {},
   "outputs": [
    {
     "data": {
      "text/plain": [
       "myValFrom3: Double = 225.1\n"
      ]
     },
     "execution_count": 46,
     "metadata": {},
     "output_type": "execute_result"
    }
   ],
   "source": [
    "val myValFrom3 = numOps.maxFrom3(3.5, 225.1, 6.4)"
   ]
  },
  {
   "cell_type": "code",
   "execution_count": 47,
   "id": "defined-tenant",
   "metadata": {},
   "outputs": [
    {
     "data": {
      "text/plain": [
       "myValFrom3: Double = 3.5\n"
      ]
     },
     "execution_count": 47,
     "metadata": {},
     "output_type": "execute_result"
    }
   ],
   "source": [
    "val myValFrom3 = numOps.maxFrom3(3.5, 3.5, 3.5)"
   ]
  },
  {
   "cell_type": "code",
   "execution_count": 59,
   "id": "sophisticated-vampire",
   "metadata": {},
   "outputs": [
    {
     "data": {
      "text/plain": [
       "defined class MaxFrom3\n"
      ]
     },
     "execution_count": 59,
     "metadata": {},
     "output_type": "execute_result"
    }
   ],
   "source": [
    "class MaxFrom3 {\n",
    "    def apply(d1: Double, d2: Double, d3: Double): Double = {\n",
    "        if (d1 > d2) {\n",
    "            if (d1 > d3) d1\n",
    "            else d3\n",
    "        }\n",
    "        else {\n",
    "            if (d2 > d3) d2\n",
    "            else d3\n",
    "        }\n",
    "    }\n",
    "}"
   ]
  },
  {
   "cell_type": "code",
   "execution_count": 60,
   "id": "physical-lewis",
   "metadata": {},
   "outputs": [
    {
     "data": {
      "text/plain": [
       "maxFrom3Val: MaxFrom3 = MaxFrom3@213503f1\n"
      ]
     },
     "execution_count": 60,
     "metadata": {},
     "output_type": "execute_result"
    }
   ],
   "source": [
    "val maxFrom3Val = new MaxFrom3"
   ]
  },
  {
   "cell_type": "code",
   "execution_count": 61,
   "id": "catholic-diesel",
   "metadata": {},
   "outputs": [
    {
     "data": {
      "text/plain": [
       "myMaxFrom3: Double = 6.4\n"
      ]
     },
     "execution_count": 61,
     "metadata": {},
     "output_type": "execute_result"
    }
   ],
   "source": [
    "val myMaxFrom3 = maxFrom3Val.apply(3.5, 2.1, 6.4)"
   ]
  },
  {
   "cell_type": "code",
   "execution_count": 62,
   "id": "naughty-poetry",
   "metadata": {},
   "outputs": [
    {
     "data": {
      "text/plain": [
       "myMaxFrom3: Double = 6.4\n"
      ]
     },
     "execution_count": 62,
     "metadata": {},
     "output_type": "execute_result"
    }
   ],
   "source": [
    "val myMaxFrom3 = maxFrom3Val(3.5, 2.1, 6.4)"
   ]
  },
  {
   "cell_type": "markdown",
   "id": "appropriate-remedy",
   "metadata": {},
   "source": [
    "## 2. Literały funkcyjne, obiekty funkcyjne (*function literals*, *function values*)"
   ]
  },
  {
   "cell_type": "code",
   "execution_count": 69,
   "id": "demonstrated-redhead",
   "metadata": {},
   "outputs": [
    {
     "ename": "<console>",
     "evalue": "2: error: ')' expected but ':' found.",
     "output_type": "error",
     "traceback": [
      "<console>:2: error: ')' expected but ':' found.",
      "       val succ: (a: Int) = a + 1",
      "                   ^",
      ""
     ]
    }
   ],
   "source": [
    "val succ: (a: Int) = a + 1"
   ]
  },
  {
   "cell_type": "code",
   "execution_count": 70,
   "id": "reserved-flood",
   "metadata": {},
   "outputs": [
    {
     "ename": "<console>",
     "evalue": "2: error: ';' expected but '=' found.",
     "output_type": "error",
     "traceback": [
      "<console>:2: error: ';' expected but '=' found.",
      "       val succ = (a: Int) = a + 1",
      "                           ^",
      ""
     ]
    }
   ],
   "source": [
    "val succ = (a: Int) = a + 1"
   ]
  },
  {
   "cell_type": "code",
   "execution_count": 71,
   "id": "light-prediction",
   "metadata": {},
   "outputs": [
    {
     "ename": "<console>",
     "evalue": "2: error: '=' expected but '=>' found.",
     "output_type": "error",
     "traceback": [
      "<console>:2: error: '=' expected but '=>' found.",
      "       val succ => (a: Int) = a + 1",
      "                ^",
      ""
     ]
    }
   ],
   "source": [
    "val succ => (a: Int) = a + 1"
   ]
  },
  {
   "cell_type": "code",
   "execution_count": 72,
   "id": "representative-algeria",
   "metadata": {},
   "outputs": [
    {
     "ename": "<console>",
     "evalue": "2: error: ')' expected but ':' found.",
     "output_type": "error",
     "traceback": [
      "<console>:2: error: ')' expected but ':' found.",
      "       val succ: (a: Int) => Int = (a: Int) = a + 1",
      "                   ^",
      ""
     ]
    }
   ],
   "source": [
    "val succ: (a: Int) => Int = (a: Int) = a + 1"
   ]
  },
  {
   "cell_type": "code",
   "execution_count": 73,
   "id": "capital-vegetarian",
   "metadata": {},
   "outputs": [
    {
     "ename": "<console>",
     "evalue": "2: error: ')' expected but ':' found.",
     "output_type": "error",
     "traceback": [
      "<console>:2: error: ')' expected but ':' found.",
      "       val succ: (a: Int) => Int = (a: Int) => a + 1",
      "                   ^",
      ""
     ]
    }
   ],
   "source": [
    "val succ: (a: Int) => Int = (a: Int) => a + 1"
   ]
  },
  {
   "cell_type": "code",
   "execution_count": 79,
   "id": "toxic-announcement",
   "metadata": {},
   "outputs": [
    {
     "data": {
      "text/plain": [
       "succ: Int => Int = $Lambda$1960/556703718@edd4130\n"
      ]
     },
     "execution_count": 79,
     "metadata": {},
     "output_type": "execute_result"
    }
   ],
   "source": [
    "val succ: (Int) => Int = (a: Int) => a + 1 // obiekt funkcyjny (function value)"
   ]
  },
  {
   "cell_type": "code",
   "execution_count": 80,
   "id": "running-glucose",
   "metadata": {},
   "outputs": [
    {
     "data": {
      "text/plain": [
       "res1: Int = 6\n"
      ]
     },
     "execution_count": 80,
     "metadata": {},
     "output_type": "execute_result"
    }
   ],
   "source": [
    "succ(5)"
   ]
  },
  {
   "cell_type": "code",
   "execution_count": 81,
   "id": "herbal-chosen",
   "metadata": {},
   "outputs": [
    {
     "data": {
      "text/plain": [
       "succ: Int => Int = $Lambda$1961/880918354@5e466bf1\n"
      ]
     },
     "execution_count": 81,
     "metadata": {},
     "output_type": "execute_result"
    }
   ],
   "source": [
    "val succ: Int => Int = (a: Int) => a + 1 // opuszczenie nawiasów możliwe tylko dla funkcji jednoparametrowych"
   ]
  },
  {
   "cell_type": "code",
   "execution_count": 82,
   "id": "serious-beach",
   "metadata": {},
   "outputs": [
    {
     "data": {
      "text/plain": [
       "res2: Int = 6\n"
      ]
     },
     "execution_count": 82,
     "metadata": {},
     "output_type": "execute_result"
    }
   ],
   "source": [
    "succ(5)"
   ]
  },
  {
   "cell_type": "code",
   "execution_count": 83,
   "id": "behavioral-fairy",
   "metadata": {},
   "outputs": [
    {
     "data": {
      "text/plain": [
       "succ: Int => Int = $Lambda$1962/628507224@23a14acb\n"
      ]
     },
     "execution_count": 83,
     "metadata": {},
     "output_type": "execute_result"
    }
   ],
   "source": [
    "val succ = (a: Int) => a + 1"
   ]
  },
  {
   "cell_type": "code",
   "execution_count": 84,
   "id": "little-productivity",
   "metadata": {},
   "outputs": [
    {
     "data": {
      "text/plain": [
       "res3: Int = 6\n"
      ]
     },
     "execution_count": 84,
     "metadata": {},
     "output_type": "execute_result"
    }
   ],
   "source": [
    "succ(5)"
   ]
  },
  {
   "cell_type": "markdown",
   "id": "graduate-lingerie",
   "metadata": {},
   "source": [
    "#### Zadanie\n",
    "zdefiniować funkcje `pred` i `maxFrom3`"
   ]
  },
  {
   "cell_type": "code",
   "execution_count": 77,
   "id": "scenic-thickness",
   "metadata": {},
   "outputs": [
    {
     "data": {
      "text/plain": [
       "pred: Int => Int = $Lambda$1950/2101991735@3f21e372\n"
      ]
     },
     "execution_count": 77,
     "metadata": {},
     "output_type": "execute_result"
    }
   ],
   "source": [
    "val pred: (Int) => Int = (a: Int) => a - 1"
   ]
  },
  {
   "cell_type": "code",
   "execution_count": 78,
   "id": "southwest-sustainability",
   "metadata": {},
   "outputs": [
    {
     "data": {
      "text/plain": [
       "res0: Int = 2\n"
      ]
     },
     "execution_count": 78,
     "metadata": {},
     "output_type": "execute_result"
    }
   ],
   "source": [
    "succ(1)"
   ]
  },
  {
   "cell_type": "code",
   "execution_count": 85,
   "id": "harmful-cloud",
   "metadata": {},
   "outputs": [
    {
     "data": {
      "text/plain": [
       "maxFRom3: (Double, Double, Double) => Double = $Lambda$1967/444275011@7d39f910\n"
      ]
     },
     "execution_count": 85,
     "metadata": {},
     "output_type": "execute_result"
    }
   ],
   "source": [
    "val maxFRom3: (Double, Double, Double) => Double = (d1: Double, d2: Double, d3: Double) => {\n",
    "    if (d1 > d2) {\n",
    "            if (d1 > d3) d1\n",
    "            else d3\n",
    "        }\n",
    "        else {\n",
    "            if (d2 > d3) d2\n",
    "            else d3\n",
    "        }\n",
    "}"
   ]
  },
  {
   "cell_type": "code",
   "execution_count": 89,
   "id": "illegal-frontier",
   "metadata": {},
   "outputs": [
    {
     "data": {
      "text/plain": [
       "res5: Double = 245.7\n"
      ]
     },
     "execution_count": 89,
     "metadata": {},
     "output_type": "execute_result"
    }
   ],
   "source": [
    "maxFRom3(3.5, 135.3, 245.7)"
   ]
  },
  {
   "cell_type": "code",
   "execution_count": 90,
   "id": "unable-going",
   "metadata": {},
   "outputs": [
    {
     "data": {
      "text/plain": [
       "res6: Double = 995.3\n"
      ]
     },
     "execution_count": 90,
     "metadata": {},
     "output_type": "execute_result"
    }
   ],
   "source": [
    "maxFRom3(3.5, 995.3, 245.7)"
   ]
  },
  {
   "cell_type": "code",
   "execution_count": 91,
   "id": "future-supervision",
   "metadata": {},
   "outputs": [
    {
     "data": {
      "text/plain": [
       "res7: Double = 322225.0\n"
      ]
     },
     "execution_count": 91,
     "metadata": {},
     "output_type": "execute_result"
    }
   ],
   "source": [
    "maxFRom3(322225, 135.3, 245.7)"
   ]
  },
  {
   "cell_type": "code",
   "execution_count": 94,
   "id": "optional-editing",
   "metadata": {},
   "outputs": [
    {
     "data": {
      "text/plain": [
       "maxFrom3: (Double, Double, Double) => Double = $Lambda$1990/368980426@7d883175\n"
      ]
     },
     "execution_count": 94,
     "metadata": {},
     "output_type": "execute_result"
    }
   ],
   "source": [
    "val maxFrom3 = (d1: Double, d2: Double, d3: Double) => {\n",
    "    if (d1 > d2) {\n",
    "            if (d1 > d3) d1\n",
    "            else d3\n",
    "        }\n",
    "        else {\n",
    "            if (d2 > d3) d2\n",
    "            else d3\n",
    "        }\n",
    "}"
   ]
  },
  {
   "cell_type": "code",
   "execution_count": 95,
   "id": "multiple-expert",
   "metadata": {},
   "outputs": [
    {
     "data": {
      "text/plain": [
       "res8: Double = 245.7\n"
      ]
     },
     "execution_count": 95,
     "metadata": {},
     "output_type": "execute_result"
    }
   ],
   "source": [
    "maxFRom3(3.5, 135.3, 245.7)"
   ]
  },
  {
   "cell_type": "markdown",
   "id": "accepted-powell",
   "metadata": {},
   "source": [
    "## 3. Funkcje wyższego rzędu: funkcje jako argumenty"
   ]
  },
  {
   "attachments": {
    "lab531-scala.png": {
     "image/png": "[encoded data removed]"
    }
   },
   "cell_type": "markdown",
   "id": "optimum-score",
   "metadata": {},
   "source": [
    "![lab531-scala.png](attachment:lab531-scala.png)"
   ]
  },
  {
   "attachments": {
    "531-result-2.png": {
     "image/png": "[encoded data removed]"
    }
   },
   "cell_type": "markdown",
   "id": "enormous-plaza",
   "metadata": {},
   "source": [
    "![531-result-2.png](attachment:531-result-2.png)"
   ]
  },
  {
   "cell_type": "markdown",
   "id": "athletic-decision",
   "metadata": {},
   "source": [
    "#### Zadanie\n",
    "Dodać metody obliczające sumy: elementów podniesionych do kwadratu (`sumSqr`), do potęgi 3 (`sumCube`) i wartości bezwzględnych elementów (`sumAbs`)."
   ]
  },
  {
   "attachments": {
    "lab531-math-pow.png": {
     "image/png": "[encoded data removed]"
    }
   },
   "cell_type": "markdown",
   "id": "recorded-symposium",
   "metadata": {},
   "source": [
    "![lab531-math-pow.png](attachment:lab531-math-pow.png)"
   ]
  },
  {
   "attachments": {
    "appl531-math-result.png": {
     "image/png": "[encoded data removed]"
    }
   },
   "cell_type": "markdown",
   "id": "stupid-arizona",
   "metadata": {},
   "source": [
    "![appl531-math-result.png](attachment:appl531-math-result.png)"
   ]
  },
  {
   "cell_type": "markdown",
   "id": "cooperative-thermal",
   "metadata": {},
   "source": [
    "## 4. Funkcje wyższego rzędu: funkcje jako wyniki"
   ]
  },
  {
   "cell_type": "code",
   "execution_count": 96,
   "id": "medical-portfolio",
   "metadata": {},
   "outputs": [
    {
     "data": {
      "text/plain": [
       "df: (f: Double => Double)Double => Double\n"
      ]
     },
     "execution_count": 96,
     "metadata": {},
     "output_type": "execute_result"
    }
   ],
   "source": [
    "def df(f: Double => Double) = {\n",
    "    (x: Double) => {\n",
    "        val h = 1e-3\n",
    "        (f(x + h) - f(x)) / h\n",
    "    }\n",
    "}"
   ]
  },
  {
   "cell_type": "code",
   "execution_count": 102,
   "id": "brazilian-newcastle",
   "metadata": {},
   "outputs": [
    {
     "data": {
      "text/plain": [
       "sqr: Double => Double = $Lambda$2088/443758804@272f54c8\n",
       "dSqrExact: Double => Double = $Lambda$2089/1288211187@212cdcb8\n"
      ]
     },
     "execution_count": 102,
     "metadata": {},
     "output_type": "execute_result"
    }
   ],
   "source": [
    "val sqr = (x: Double) => x * x\n",
    "val dSqrExact = (x: Double) => 2 * x"
   ]
  },
  {
   "cell_type": "code",
   "execution_count": 103,
   "id": "fourth-pierre",
   "metadata": {},
   "outputs": [
    {
     "data": {
      "text/plain": [
       "dSqrAppx: Double => Double = $Lambda$2003/302790796@4bde2d6b\n"
      ]
     },
     "execution_count": 103,
     "metadata": {},
     "output_type": "execute_result"
    }
   ],
   "source": [
    "val dSqrAppx = df(sqr)"
   ]
  },
  {
   "cell_type": "code",
   "execution_count": 106,
   "id": "primary-motor",
   "metadata": {},
   "outputs": [
    {
     "name": "stdout",
     "output_type": "stream",
     "text": [
      "x = 0.0, delta = 0.001\n",
      "x = 0.2, delta = 9.999999999985576E-4\n",
      "x = 0.4, delta = 9.99999999996115E-4\n",
      "x = 0.6, delta = 0.0010000000000074394\n",
      "x = 0.8, delta = 9.999999999634746E-4\n",
      "x = 1.0, delta = 9.999999996974651E-4\n",
      "x = 1.2, delta = 9.999999996535003E-4\n",
      "x = 1.4, delta = 9.999999996095355E-4\n",
      "x = 1.6, delta = 9.999999997876152E-4\n",
      "x = 1.8, delta = 9.999999997436504E-4\n",
      "x = 2.0, delta = 0.001000000000587864\n"
     ]
    }
   ],
   "source": [
    "for (x <- 0.0 to 2.0 by 0.2;\n",
    "    d = math.abs(dSqrAppx(x) - dSqrExact(x)))\n",
    "println(f\"x = $x%2.1f, delta = $d\")"
   ]
  },
  {
   "cell_type": "markdown",
   "id": "spoken-experience",
   "metadata": {},
   "source": [
    "## 5. Porównanie typów `() => T` vs. `Unit => T` vs. `: => T`"
   ]
  },
  {
   "cell_type": "code",
   "execution_count": 107,
   "id": "mechanical-oxide",
   "metadata": {},
   "outputs": [
    {
     "data": {
      "text/plain": [
       "f1: (f: () => Int)Unit\n",
       "f2: (f: Unit => Int)Unit\n",
       "f3: (f: => Int)Unit\n"
      ]
     },
     "execution_count": 107,
     "metadata": {},
     "output_type": "execute_result"
    }
   ],
   "source": [
    "def f1(f: () => Int) = println(\"The number is: \" + f())\n",
    "def f2(f: Unit => Int) = println(\"The number is: \" + f(()))\n",
    "def f3(f: => Int) = println(\"The number is: \" + f)"
   ]
  },
  {
   "cell_type": "code",
   "execution_count": 108,
   "id": "floating-major",
   "metadata": {},
   "outputs": [
    {
     "ename": "<console>",
     "evalue": "28: error: type mismatch;",
     "output_type": "error",
     "traceback": [
      "<console>:28: error: type mismatch;",
      " found   : Int(1)",
      " required: () => Int",
      "       f1(1)",
      "          ^",
      ""
     ]
    }
   ],
   "source": [
    "f1(1)"
   ]
  },
  {
   "cell_type": "code",
   "execution_count": 109,
   "id": "favorite-affiliation",
   "metadata": {},
   "outputs": [
    {
     "ename": "<console>",
     "evalue": "28: error: type mismatch;",
     "output_type": "error",
     "traceback": [
      "<console>:28: error: type mismatch;",
      " found   : Int",
      " required: () => Int",
      "       f1({val x = 1; x})",
      "                      ^",
      ""
     ]
    }
   ],
   "source": [
    "f1({val x = 1; x})"
   ]
  },
  {
   "cell_type": "code",
   "execution_count": 110,
   "id": "varied-rhythm",
   "metadata": {},
   "outputs": [
    {
     "name": "stdout",
     "output_type": "stream",
     "text": [
      "The number is: 1\n"
     ]
    }
   ],
   "source": [
    "f1(() => 1)"
   ]
  },
  {
   "cell_type": "code",
   "execution_count": 111,
   "id": "located-simple",
   "metadata": {},
   "outputs": [
    {
     "ename": "<console>",
     "evalue": "28: error: type mismatch;",
     "output_type": "error",
     "traceback": [
      "<console>:28: error: type mismatch;",
      " found   : Int(1)",
      " required: Unit => Int",
      "       f2(1)",
      "          ^",
      ""
     ]
    }
   ],
   "source": [
    "f2(1)"
   ]
  },
  {
   "cell_type": "code",
   "execution_count": 112,
   "id": "disciplinary-monday",
   "metadata": {},
   "outputs": [
    {
     "ename": "<console>",
     "evalue": "28: error: type mismatch;",
     "output_type": "error",
     "traceback": [
      "<console>:28: error: type mismatch;",
      " found   : Int",
      " required: Unit => Int",
      "       f2({val x = 1; x})",
      "                      ^",
      ""
     ]
    }
   ],
   "source": [
    "f2({val x = 1; x})"
   ]
  },
  {
   "cell_type": "code",
   "execution_count": 113,
   "id": "second-underground",
   "metadata": {},
   "outputs": [
    {
     "ename": "<console>",
     "evalue": "28: error: type mismatch;",
     "output_type": "error",
     "traceback": [
      "<console>:28: error: type mismatch;",
      " found   : () => Int",
      " required: Unit => Int",
      "       f2(() => 1)",
      "             ^",
      ""
     ]
    }
   ],
   "source": [
    "f2(() => 1)"
   ]
  },
  {
   "cell_type": "code",
   "execution_count": 114,
   "id": "atomic-fight",
   "metadata": {},
   "outputs": [
    {
     "ename": "<console>",
     "evalue": "2: error: identifier expected but integer literal found.",
     "output_type": "error",
     "traceback": [
      "<console>:2: error: identifier expected but integer literal found.",
      "       f2(_:Unit => 1)",
      "                    ^",
      ""
     ]
    }
   ],
   "source": [
    "f2(_:Unit => 1)"
   ]
  },
  {
   "cell_type": "code",
   "execution_count": 115,
   "id": "running-contractor",
   "metadata": {},
   "outputs": [
    {
     "name": "stdout",
     "output_type": "stream",
     "text": [
      "The number is: 1\n"
     ]
    }
   ],
   "source": [
    "f2((_:Unit) => 1)"
   ]
  },
  {
   "cell_type": "code",
   "execution_count": 116,
   "id": "wrong-pixel",
   "metadata": {},
   "outputs": [
    {
     "name": "stdout",
     "output_type": "stream",
     "text": [
      "The number is: 1\n"
     ]
    }
   ],
   "source": [
    "f3(1)"
   ]
  },
  {
   "cell_type": "code",
   "execution_count": 117,
   "id": "supposed-extra",
   "metadata": {},
   "outputs": [
    {
     "name": "stdout",
     "output_type": "stream",
     "text": [
      "The number is: 1\n"
     ]
    }
   ],
   "source": [
    "f3({val x = 1; x})"
   ]
  },
  {
   "cell_type": "code",
   "execution_count": 118,
   "id": "increasing-component",
   "metadata": {},
   "outputs": [
    {
     "ename": "<console>",
     "evalue": "28: error: type mismatch;",
     "output_type": "error",
     "traceback": [
      "<console>:28: error: type mismatch;",
      " found   : () => Int",
      " required: Int",
      "       f3(() => 1)",
      "             ^",
      ""
     ]
    }
   ],
   "source": [
    "f3(() => 1)"
   ]
  },
  {
   "cell_type": "code",
   "execution_count": 119,
   "id": "plain-booking",
   "metadata": {},
   "outputs": [
    {
     "ename": "<console>",
     "evalue": "2: error: identifier expected but integer literal found.",
     "output_type": "error",
     "traceback": [
      "<console>:2: error: identifier expected but integer literal found.",
      "       f3(_:Unit => 1)",
      "                    ^",
      ""
     ]
    }
   ],
   "source": [
    "f3(_:Unit => 1)"
   ]
  },
  {
   "cell_type": "code",
   "execution_count": 120,
   "id": "binary-might",
   "metadata": {},
   "outputs": [
    {
     "ename": "<console>",
     "evalue": "28: error: type mismatch;",
     "output_type": "error",
     "traceback": [
      "<console>:28: error: type mismatch;",
      " found   : Unit => Int",
      " required: Int",
      "       f3((_:Unit) => 1)",
      "                   ^",
      ""
     ]
    }
   ],
   "source": [
    "f3((_:Unit) => 1)"
   ]
  },
  {
   "cell_type": "markdown",
   "id": "substantial-bermuda",
   "metadata": {},
   "source": [
    "## 6. Porównanie: _call by value_ vs. _call by name_"
   ]
  },
  {
   "cell_type": "code",
   "execution_count": 133,
   "id": "referenced-mailing",
   "metadata": {},
   "outputs": [
    {
     "data": {
      "text/plain": [
       "f: (argByVal: Long, argByName: => Long)Unit\n"
      ]
     },
     "execution_count": 133,
     "metadata": {},
     "output_type": "execute_result"
    }
   ],
   "source": [
    "def f(argByVal: Long, argByName: => Long) {\n",
    "    Thread.sleep(1000)\n",
    "    println(\"In function: \" + argByVal + \", \" + argByName)\n",
    "}"
   ]
  },
  {
   "cell_type": "code",
   "execution_count": 134,
   "id": "veterinary-racing",
   "metadata": {},
   "outputs": [
    {
     "name": "stdout",
     "output_type": "stream",
     "text": [
      "Before: 1620048372221\n",
      "In function: 1620048372221, 1620048373223\n",
      "After: 1620048373223\n"
     ]
    }
   ],
   "source": [
    "println(\"Before: \" + System.currentTimeMillis)\n",
    "f(System.currentTimeMillis(), System.currentTimeMillis())\n",
    "println(\"After: \" + System.currentTimeMillis)"
   ]
  },
  {
   "cell_type": "code",
   "execution_count": 135,
   "id": "judicial-federation",
   "metadata": {},
   "outputs": [
    {
     "data": {
      "text/plain": [
       "f: (argByVal: Long, argByName: Long)Unit\n"
      ]
     },
     "execution_count": 135,
     "metadata": {},
     "output_type": "execute_result"
    }
   ],
   "source": [
    "def f(argByVal: Long, argByName: Long) {\n",
    "    Thread.sleep(1000)\n",
    "    println(\"In function: \" + argByVal + \", \" + argByName)\n",
    "}"
   ]
  },
  {
   "cell_type": "code",
   "execution_count": 137,
   "id": "cardiovascular-liquid",
   "metadata": {},
   "outputs": [
    {
     "name": "stdout",
     "output_type": "stream",
     "text": [
      "Before: 1620048386928\n",
      "In function: 1620048386929, 1620048386929\n",
      "After: 1620048387929\n"
     ]
    }
   ],
   "source": [
    "println(\"Before: \" + System.currentTimeMillis)\n",
    "f(System.currentTimeMillis(), System.currentTimeMillis())\n",
    "println(\"After: \" + System.currentTimeMillis)"
   ]
  },
  {
   "cell_type": "code",
   "execution_count": 140,
   "id": "amber-encyclopedia",
   "metadata": {},
   "outputs": [
    {
     "name": "stdout",
     "output_type": "stream",
     "text": [
      "157570206\n",
      "157570206\n",
      "157570206\n"
     ]
    },
    {
     "data": {
      "text/plain": [
       "printNTimes: (toPrint: Int, n: Int)Unit\n"
      ]
     },
     "execution_count": 140,
     "metadata": {},
     "output_type": "execute_result"
    }
   ],
   "source": [
    "def printNTimes(toPrint: Int, n: Int) =\n",
    "    for(i <- 1 to n) println(toPrint)\n",
    "\n",
    "printNTimes(scala.util.Random.nextInt, 3)"
   ]
  },
  {
   "cell_type": "code",
   "execution_count": 143,
   "id": "occupational-payment",
   "metadata": {},
   "outputs": [
    {
     "name": "stdout",
     "output_type": "stream",
     "text": [
      "705577393\n",
      "43120294\n",
      "-282800363\n"
     ]
    },
    {
     "data": {
      "text/plain": [
       "printNTimes: (toPrint: => Int, n: Int)Unit\n"
      ]
     },
     "execution_count": 143,
     "metadata": {},
     "output_type": "execute_result"
    }
   ],
   "source": [
    "def printNTimes(toPrint: => Int, n: Int) =\n",
    "    for(i <- 1 to n) println(toPrint)\n",
    "\n",
    "printNTimes(scala.util.Random.nextInt, 3)"
   ]
  },
  {
   "cell_type": "markdown",
   "id": "deluxe-criticism",
   "metadata": {},
   "source": [
    "## 7. Literały funkcyjne: udogodnienia w składni"
   ]
  },
  {
   "cell_type": "code",
   "execution_count": 144,
   "id": "defensive-training",
   "metadata": {},
   "outputs": [
    {
     "data": {
      "text/plain": [
       "binaryOp: (a: Int, b: Int, f: (Int, Int) => Int)Int\n"
      ]
     },
     "execution_count": 144,
     "metadata": {},
     "output_type": "execute_result"
    }
   ],
   "source": [
    "def binaryOp(a: Int, b: Int, f: (Int, Int) => Int) = f(a, b)"
   ]
  },
  {
   "cell_type": "code",
   "execution_count": 145,
   "id": "verbal-occasions",
   "metadata": {},
   "outputs": [
    {
     "data": {
      "text/plain": [
       "aPlusB: Int = 8\n"
      ]
     },
     "execution_count": 145,
     "metadata": {},
     "output_type": "execute_result"
    }
   ],
   "source": [
    "val aPlusB = binaryOp(6, 2, (a: Int, b: Int) => a + b)"
   ]
  },
  {
   "cell_type": "code",
   "execution_count": 146,
   "id": "automatic-willow",
   "metadata": {},
   "outputs": [
    {
     "data": {
      "text/plain": [
       "aPlusB: Int = 8\n"
      ]
     },
     "execution_count": 146,
     "metadata": {},
     "output_type": "execute_result"
    }
   ],
   "source": [
    "val aPlusB = binaryOp(6, 2, (a, b) => a + b)"
   ]
  },
  {
   "cell_type": "code",
   "execution_count": 147,
   "id": "figured-impression",
   "metadata": {},
   "outputs": [
    {
     "data": {
      "text/plain": [
       "aPlusB: Int = 8\n"
      ]
     },
     "execution_count": 147,
     "metadata": {},
     "output_type": "execute_result"
    }
   ],
   "source": [
    "val aPlusB = binaryOp(6, 2, (_:Int) + (_:Int))"
   ]
  },
  {
   "cell_type": "code",
   "execution_count": 148,
   "id": "synthetic-brooks",
   "metadata": {},
   "outputs": [
    {
     "data": {
      "text/plain": [
       "aPlusB: Int = 8\n"
      ]
     },
     "execution_count": 148,
     "metadata": {},
     "output_type": "execute_result"
    }
   ],
   "source": [
    "val aPlusB = binaryOp(6, 2, _ + _)"
   ]
  },
  {
   "cell_type": "code",
   "execution_count": 149,
   "id": "advanced-chemical",
   "metadata": {},
   "outputs": [
    {
     "data": {
      "text/plain": [
       "aMinusB: Int = 4\n"
      ]
     },
     "execution_count": 149,
     "metadata": {},
     "output_type": "execute_result"
    }
   ],
   "source": [
    "val aMinusB = binaryOp(6, 2, _ - _)"
   ]
  },
  {
   "cell_type": "code",
   "execution_count": 150,
   "id": "ordered-final",
   "metadata": {},
   "outputs": [
    {
     "data": {
      "text/plain": [
       "aTimesB: Int = 12\n"
      ]
     },
     "execution_count": 150,
     "metadata": {},
     "output_type": "execute_result"
    }
   ],
   "source": [
    "val aTimesB = binaryOp(6, 2, _ * _)"
   ]
  },
  {
   "cell_type": "code",
   "execution_count": 151,
   "id": "curious-acting",
   "metadata": {},
   "outputs": [
    {
     "data": {
      "text/plain": [
       "aDivB: Int = 3\n"
      ]
     },
     "execution_count": 151,
     "metadata": {},
     "output_type": "execute_result"
    }
   ],
   "source": [
    "val aDivB = binaryOp(6, 2, _ / _)"
   ]
  },
  {
   "cell_type": "markdown",
   "id": "missing-survey",
   "metadata": {},
   "source": [
    "## 8. Domknięcie funkcji (_closure_), zmienne związane (_bound_) i \"swobodne/niezwiązane\" (_free_)"
   ]
  },
  {
   "cell_type": "code",
   "execution_count": 152,
   "id": "essential-forwarding",
   "metadata": {},
   "outputs": [
    {
     "data": {
      "text/plain": [
       "freeVar: Int = 0\n"
      ]
     },
     "execution_count": 152,
     "metadata": {},
     "output_type": "execute_result"
    }
   ],
   "source": [
    "var freeVar = 0"
   ]
  },
  {
   "cell_type": "code",
   "execution_count": 160,
   "id": "simple-bridges",
   "metadata": {},
   "outputs": [
    {
     "name": "stdout",
     "output_type": "stream",
     "text": [
      "[1]: freeVar = 14\n",
      "[2]: freeVar = 14\n",
      "[Inside f1]: freeVar = 14, boundVar = 5\n",
      "[3]: freeVar = 15\n",
      "[4]: freeVar = 25\n",
      "[Inside f1]: freeVar = 25, boundVar = 10\n",
      "[5]: freeVar = 26\n"
     ]
    },
    {
     "data": {
      "text/plain": [
       "f1: Int => Unit = $Lambda$2241/598347706@1b997be6\n"
      ]
     },
     "execution_count": 160,
     "metadata": {},
     "output_type": "execute_result"
    }
   ],
   "source": [
    "println(\"[1]: freeVar = \" + freeVar)\n",
    "var f1 = (boundVar: Int) => {\n",
    "    println(\"[Inside f1]: freeVar = \" + freeVar + \", boundVar = \" + boundVar)\n",
    "    freeVar += 1\n",
    "}\n",
    "\n",
    "println(\"[2]: freeVar = \" + freeVar)\n",
    "f1(5)\n",
    "println(\"[3]: freeVar = \" + freeVar)\n",
    "freeVar += 10\n",
    "println(\"[4]: freeVar = \" + freeVar)\n",
    "f1(10)\n",
    "println(\"[5]: freeVar = \" + freeVar)"
   ]
  },
  {
   "cell_type": "code",
   "execution_count": 161,
   "id": "supreme-metropolitan",
   "metadata": {},
   "outputs": [
    {
     "data": {
      "text/plain": [
       "df: (f: Double => Double, h: Double)Double => Double\n"
      ]
     },
     "execution_count": 161,
     "metadata": {},
     "output_type": "execute_result"
    }
   ],
   "source": [
    "def df(f: Double => Double, h: Double): Double => Double = {\n",
    "    (x: Double) => (f(x + h) - f(x - h)) / (2 * h)\n",
    "}"
   ]
  },
  {
   "cell_type": "code",
   "execution_count": 162,
   "id": "informative-coach",
   "metadata": {},
   "outputs": [
    {
     "data": {
      "text/plain": [
       "dSqrAppx: Double => Double = $Lambda$2321/734953148@2ee227e7\n",
       "dSqrExact: Double => Double = $Lambda$2322/746706865@6168c488\n"
      ]
     },
     "execution_count": 162,
     "metadata": {},
     "output_type": "execute_result"
    }
   ],
   "source": [
    "val dSqrAppx = df((x: Double) => x * x, h = 1e-6)\n",
    "val dSqrExact = (x: Double) => 2 * x"
   ]
  },
  {
   "cell_type": "code",
   "execution_count": 167,
   "id": "sticky-affairs",
   "metadata": {},
   "outputs": [
    {
     "name": "stdout",
     "output_type": "stream",
     "text": [
      "x = 0.0, delta = 0.0\n",
      "x = 0.2, delta = 1.0939027461631667E-12\n",
      "x = 0.4, delta = 1.8628876219395352E-11\n",
      "x = 0.6, delta = 3.4506619783769565E-11\n",
      "x = 0.8, delta = 4.600897440809604E-11\n",
      "x = 1.0, delta = 2.000177801164682E-12\n",
      "x = 1.2, delta = 2.64053223730798E-10\n",
      "x = 1.4, delta = 2.525508691064715E-10\n",
      "x = 1.6, delta = 3.520708169446607E-10\n",
      "x = 1.8, delta = 3.405684623203342E-10\n",
      "x = 2.0, delta = 3.2906610769600775E-10\n"
     ]
    }
   ],
   "source": [
    "for (x <- 0.0 to 2.0 by 0.2;\n",
    "    d = math.abs(dSqrExact(x) - dSqrAppx(x)))\n",
    "println(f\"x = $x%2.1f, delta = $d\")"
   ]
  },
  {
   "cell_type": "markdown",
   "id": "threaded-directive",
   "metadata": {},
   "source": [
    "## 9. Funkcje częściowe (_partial functions_)"
   ]
  },
  {
   "cell_type": "code",
   "execution_count": 168,
   "id": "liked-system",
   "metadata": {},
   "outputs": [
    {
     "ename": "<console>",
     "evalue": "25: error: type mismatch;",
     "output_type": "error",
     "traceback": [
      "<console>:25: error: type mismatch;",
      " found   : Unit",
      " required: Double",
      "           def apply(x: Double) = if (x == x.toInt) x",
      "                                  ^",
      ""
     ]
    }
   ],
   "source": [
    "val identForInts = new PartialFunction[Double, Double] {\n",
    "    def apply(x: Double) = if (x == x.toInt) x\n",
    "    def isDefinedAt(x: Double) = (x == x.toInt)\n",
    "}"
   ]
  },
  {
   "cell_type": "code",
   "execution_count": 169,
   "id": "mobile-vacation",
   "metadata": {},
   "outputs": [
    {
     "data": {
      "text/plain": [
       "identForInts: PartialFunction[Double,Double] = <function1>\n"
      ]
     },
     "execution_count": 169,
     "metadata": {},
     "output_type": "execute_result"
    }
   ],
   "source": [
    "val identForInts = new PartialFunction[Double, Double] {\n",
    "    def apply(x: Double) = if (x == x.toInt) x else Double.NaN\n",
    "    def isDefinedAt(x: Double) = (x == x.toInt)\n",
    "}"
   ]
  },
  {
   "cell_type": "code",
   "execution_count": 171,
   "id": "reported-spare",
   "metadata": {},
   "outputs": [
    {
     "data": {
      "text/plain": [
       "res55: Boolean = true\n"
      ]
     },
     "execution_count": 171,
     "metadata": {},
     "output_type": "execute_result"
    }
   ],
   "source": [
    "identForInts.isDefinedAt(1.0)"
   ]
  },
  {
   "cell_type": "code",
   "execution_count": 172,
   "id": "environmental-start",
   "metadata": {},
   "outputs": [
    {
     "data": {
      "text/plain": [
       "res56: Boolean = false\n"
      ]
     },
     "execution_count": 172,
     "metadata": {},
     "output_type": "execute_result"
    }
   ],
   "source": [
    "identForInts.isDefinedAt(1.3)"
   ]
  },
  {
   "cell_type": "code",
   "execution_count": 173,
   "id": "administrative-green",
   "metadata": {},
   "outputs": [
    {
     "data": {
      "text/plain": [
       "res57: Double = 1.0\n"
      ]
     },
     "execution_count": 173,
     "metadata": {},
     "output_type": "execute_result"
    }
   ],
   "source": [
    "identForInts.apply(1.0)"
   ]
  },
  {
   "cell_type": "code",
   "execution_count": 174,
   "id": "minimal-superior",
   "metadata": {},
   "outputs": [
    {
     "data": {
      "text/plain": [
       "res58: Double = 1.0\n"
      ]
     },
     "execution_count": 174,
     "metadata": {},
     "output_type": "execute_result"
    }
   ],
   "source": [
    "identForInts(1.0)"
   ]
  },
  {
   "cell_type": "code",
   "execution_count": 175,
   "id": "humanitarian-owner",
   "metadata": {},
   "outputs": [
    {
     "data": {
      "text/plain": [
       "res59: Double = NaN\n"
      ]
     },
     "execution_count": 175,
     "metadata": {},
     "output_type": "execute_result"
    }
   ],
   "source": [
    "identForInts(1.5)"
   ]
  },
  {
   "cell_type": "code",
   "execution_count": 176,
   "id": "italian-dryer",
   "metadata": {},
   "outputs": [
    {
     "data": {
      "text/plain": [
       "res60: Double = 1.0\n"
      ]
     },
     "execution_count": 176,
     "metadata": {},
     "output_type": "execute_result"
    }
   ],
   "source": [
    "identForInts.applyOrElse(1.0, (_:Double) => Double.NaN)"
   ]
  },
  {
   "cell_type": "code",
   "execution_count": 177,
   "id": "desperate-fleece",
   "metadata": {},
   "outputs": [
    {
     "data": {
      "text/plain": [
       "res61: Double = NaN\n"
      ]
     },
     "execution_count": 177,
     "metadata": {},
     "output_type": "execute_result"
    }
   ],
   "source": [
    "identForInts.applyOrElse(1.5, (_:Double) => Double.NaN)"
   ]
  },
  {
   "cell_type": "code",
   "execution_count": 178,
   "id": "accepted-blast",
   "metadata": {},
   "outputs": [
    {
     "data": {
      "text/plain": [
       "identForInts: PartialFunction[Double,Double] = <function1>\n"
      ]
     },
     "execution_count": 178,
     "metadata": {},
     "output_type": "execute_result"
    }
   ],
   "source": [
    "val identForInts: PartialFunction[Double, Double] = {\n",
    "    case x if x == x.toInt => x\n",
    "}"
   ]
  },
  {
   "cell_type": "code",
   "execution_count": 179,
   "id": "christian-glossary",
   "metadata": {},
   "outputs": [
    {
     "data": {
      "text/plain": [
       "res62: Boolean = true\n"
      ]
     },
     "execution_count": 179,
     "metadata": {},
     "output_type": "execute_result"
    }
   ],
   "source": [
    "identForInts.isDefinedAt(1.0)"
   ]
  },
  {
   "cell_type": "code",
   "execution_count": 180,
   "id": "progressive-killer",
   "metadata": {},
   "outputs": [
    {
     "data": {
      "text/plain": [
       "res63: Boolean = false\n"
      ]
     },
     "execution_count": 180,
     "metadata": {},
     "output_type": "execute_result"
    }
   ],
   "source": [
    "identForInts.isDefinedAt(1.3)"
   ]
  },
  {
   "cell_type": "code",
   "execution_count": 181,
   "id": "fatal-municipality",
   "metadata": {},
   "outputs": [
    {
     "data": {
      "text/plain": [
       "res64: Double = 1.0\n"
      ]
     },
     "execution_count": 181,
     "metadata": {},
     "output_type": "execute_result"
    }
   ],
   "source": [
    "identForInts.apply(1.0)"
   ]
  },
  {
   "cell_type": "code",
   "execution_count": 182,
   "id": "royal-antibody",
   "metadata": {},
   "outputs": [
    {
     "data": {
      "text/plain": [
       "res65: Double = 1.0\n"
      ]
     },
     "execution_count": 182,
     "metadata": {},
     "output_type": "execute_result"
    }
   ],
   "source": [
    "identForInts(1.0)"
   ]
  },
  {
   "cell_type": "code",
   "execution_count": 183,
   "id": "grateful-success",
   "metadata": {},
   "outputs": [
    {
     "ename": "scala.MatchError",
     "evalue": " 1.5 (of class java.lang.Double)",
     "output_type": "error",
     "traceback": [
      "scala.MatchError: 1.5 (of class java.lang.Double)",
      "  at scala.PartialFunction$$anon$1.apply(PartialFunction.scala:259)",
      "  at scala.PartialFunction$$anon$1.apply(PartialFunction.scala:257)",
      "  at $anonfun$1.applyOrElse(<console>:24)",
      "  at $anonfun$1.applyOrElse(<console>:24)",
      "  at scala.runtime.AbstractPartialFunction$mcDD$sp.apply$mcDD$sp(AbstractPartialFunction.scala:38)",
      "  ... 36 elided",
      ""
     ]
    }
   ],
   "source": [
    "identForInts(1.5)"
   ]
  },
  {
   "cell_type": "code",
   "execution_count": 184,
   "id": "relative-messaging",
   "metadata": {},
   "outputs": [
    {
     "data": {
      "text/plain": [
       "res67: Double = 1.0\n"
      ]
     },
     "execution_count": 184,
     "metadata": {},
     "output_type": "execute_result"
    }
   ],
   "source": [
    "identForInts.applyOrElse(1.0, (_:Double) => Double.NaN)"
   ]
  },
  {
   "cell_type": "code",
   "execution_count": 185,
   "id": "played-completion",
   "metadata": {},
   "outputs": [
    {
     "data": {
      "text/plain": [
       "res68: Double = NaN\n"
      ]
     },
     "execution_count": 185,
     "metadata": {},
     "output_type": "execute_result"
    }
   ],
   "source": [
    "identForInts.applyOrElse(1.5, (_:Double) => Double.NaN)"
   ]
  },
  {
   "cell_type": "markdown",
   "id": "smart-market",
   "metadata": {},
   "source": [
    "## 10. Partially applied functions"
   ]
  },
  {
   "cell_type": "code",
   "execution_count": 186,
   "id": "duplicate-resident",
   "metadata": {},
   "outputs": [
    {
     "data": {
      "text/plain": [
       "sum: (a: Int, b: Int, c: Int)Int\n"
      ]
     },
     "execution_count": 186,
     "metadata": {},
     "output_type": "execute_result"
    }
   ],
   "source": [
    "def sum(a: Int, b: Int, c: Int) = a + b +c"
   ]
  },
  {
   "cell_type": "code",
   "execution_count": 187,
   "id": "covered-contract",
   "metadata": {},
   "outputs": [
    {
     "data": {
      "text/plain": [
       "res69: Int = 6\n"
      ]
     },
     "execution_count": 187,
     "metadata": {},
     "output_type": "execute_result"
    }
   ],
   "source": [
    "sum(1, 2, 3)"
   ]
  },
  {
   "cell_type": "code",
   "execution_count": 188,
   "id": "living-credit",
   "metadata": {},
   "outputs": [
    {
     "data": {
      "text/plain": [
       "sumABC: (Int, Int, Int) => Int = $Lambda$2378/1565172368@d64c48b\n"
      ]
     },
     "execution_count": 188,
     "metadata": {},
     "output_type": "execute_result"
    }
   ],
   "source": [
    "val sumABC = sum _"
   ]
  },
  {
   "cell_type": "code",
   "execution_count": 189,
   "id": "thorough-theorem",
   "metadata": {},
   "outputs": [
    {
     "data": {
      "text/plain": [
       "aPlus: (Int, Int) => Int = $Lambda$2379/670622227@68b2be86\n"
      ]
     },
     "execution_count": 189,
     "metadata": {},
     "output_type": "execute_result"
    }
   ],
   "source": [
    "val aPlus = sumABC(1, _: Int, _: Int)"
   ]
  },
  {
   "cell_type": "code",
   "execution_count": 190,
   "id": "boolean-voice",
   "metadata": {},
   "outputs": [
    {
     "data": {
      "text/plain": [
       "aPlusBPlus: Int => Int = $Lambda$2380/2055348666@1a15b311\n"
      ]
     },
     "execution_count": 190,
     "metadata": {},
     "output_type": "execute_result"
    }
   ],
   "source": [
    "val aPlusBPlus = aPlus(2, _: Int)"
   ]
  },
  {
   "cell_type": "code",
   "execution_count": 191,
   "id": "alternate-pilot",
   "metadata": {},
   "outputs": [
    {
     "data": {
      "text/plain": [
       "aPlusBPlusC: Int = 6\n"
      ]
     },
     "execution_count": 191,
     "metadata": {},
     "output_type": "execute_result"
    }
   ],
   "source": [
    "val aPlusBPlusC = aPlusBPlus(3)"
   ]
  },
  {
   "cell_type": "markdown",
   "id": "suspended-stuart",
   "metadata": {},
   "source": [
    "## 11. Składanie funkcji"
   ]
  },
  {
   "cell_type": "code",
   "execution_count": 192,
   "id": "absent-conditioning",
   "metadata": {},
   "outputs": [
    {
     "data": {
      "text/plain": [
       "f: (x: Int)Int\n",
       "g: (x: Int)Int\n"
      ]
     },
     "execution_count": 192,
     "metadata": {},
     "output_type": "execute_result"
    }
   ],
   "source": [
    "def f(x: Int) = x + 3\n",
    "def g(x: Int) = x * x"
   ]
  },
  {
   "cell_type": "code",
   "execution_count": 193,
   "id": "liable-possibility",
   "metadata": {},
   "outputs": [
    {
     "data": {
      "text/plain": [
       "f_o_g: Int => Int = scala.Function1$$Lambda$2383/1057093395@6013e052\n"
      ]
     },
     "execution_count": 193,
     "metadata": {},
     "output_type": "execute_result"
    }
   ],
   "source": [
    "val f_o_g = f _ compose g _"
   ]
  },
  {
   "cell_type": "code",
   "execution_count": 194,
   "id": "loaded-rates",
   "metadata": {},
   "outputs": [
    {
     "data": {
      "text/plain": [
       "res70: Int = 28\n"
      ]
     },
     "execution_count": 194,
     "metadata": {},
     "output_type": "execute_result"
    }
   ],
   "source": [
    "f_o_g(5)"
   ]
  },
  {
   "cell_type": "code",
   "execution_count": 195,
   "id": "corresponding-strap",
   "metadata": {},
   "outputs": [
    {
     "data": {
      "text/plain": [
       "fAndThenG: Int => Int = scala.Function1$$Lambda$2386/1582748504@dfcdbae\n"
      ]
     },
     "execution_count": 195,
     "metadata": {},
     "output_type": "execute_result"
    }
   ],
   "source": [
    "val fAndThenG = f _ andThen g _"
   ]
  },
  {
   "cell_type": "code",
   "execution_count": 196,
   "id": "southeast-sapphire",
   "metadata": {},
   "outputs": [
    {
     "data": {
      "text/plain": [
       "res71: Int = 64\n"
      ]
     },
     "execution_count": 196,
     "metadata": {},
     "output_type": "execute_result"
    }
   ],
   "source": [
    "fAndThenG(5)"
   ]
  },
  {
   "cell_type": "markdown",
   "id": "atmospheric-smoke",
   "metadata": {},
   "source": [
    "## 12. Rozwijanie funkcji (_currying_)"
   ]
  },
  {
   "cell_type": "code",
   "execution_count": 197,
   "id": "progressive-runner",
   "metadata": {},
   "outputs": [
    {
     "data": {
      "text/plain": [
       "sumABC: (a: Int, b: Int, c: Int)Int\n"
      ]
     },
     "execution_count": 197,
     "metadata": {},
     "output_type": "execute_result"
    }
   ],
   "source": [
    "def sumABC(a: Int, b: Int, c: Int) = a + b + c"
   ]
  },
  {
   "cell_type": "code",
   "execution_count": 198,
   "id": "corresponding-collective",
   "metadata": {},
   "outputs": [
    {
     "data": {
      "text/plain": [
       "res72: Int = 6\n"
      ]
     },
     "execution_count": 198,
     "metadata": {},
     "output_type": "execute_result"
    }
   ],
   "source": [
    "sumABC(1, 2, 3)"
   ]
  },
  {
   "cell_type": "code",
   "execution_count": 199,
   "id": "funny-resistance",
   "metadata": {},
   "outputs": [
    {
     "data": {
      "text/plain": [
       "currSumABC: Int => (Int => (Int => Int)) = scala.Function3$$Lambda$2388/46823664@1080b85e\n"
      ]
     },
     "execution_count": 199,
     "metadata": {},
     "output_type": "execute_result"
    }
   ],
   "source": [
    "val currSumABC = (sumABC _).curried"
   ]
  },
  {
   "cell_type": "code",
   "execution_count": 200,
   "id": "formed-mailing",
   "metadata": {},
   "outputs": [
    {
     "ename": "<console>",
     "evalue": "28: error: too many arguments (3) for method apply: (v1: Int)Int => (Int => Int) in trait Function1",
     "output_type": "error",
     "traceback": [
      "<console>:28: error: too many arguments (3) for method apply: (v1: Int)Int => (Int => Int) in trait Function1",
      "       currSumABC(1, 2, 3)",
      "                     ^",
      ""
     ]
    }
   ],
   "source": [
    "currSumABC(1, 2, 3)"
   ]
  },
  {
   "cell_type": "code",
   "execution_count": 201,
   "id": "limited-teddy",
   "metadata": {},
   "outputs": [
    {
     "data": {
      "text/plain": [
       "res74: Int = 6\n"
      ]
     },
     "execution_count": 201,
     "metadata": {},
     "output_type": "execute_result"
    }
   ],
   "source": [
    "currSumABC(1)(2)(3)"
   ]
  },
  {
   "cell_type": "code",
   "execution_count": 202,
   "id": "protected-lounge",
   "metadata": {},
   "outputs": [
    {
     "data": {
      "text/plain": [
       "res75: Int = 6\n"
      ]
     },
     "execution_count": 202,
     "metadata": {},
     "output_type": "execute_result"
    }
   ],
   "source": [
    "currSumABC{1}{2}{3}"
   ]
  },
  {
   "cell_type": "code",
   "execution_count": 203,
   "id": "imported-papua",
   "metadata": {},
   "outputs": [
    {
     "data": {
      "text/plain": [
       "res76: Int = 6\n"
      ]
     },
     "execution_count": 203,
     "metadata": {},
     "output_type": "execute_result"
    }
   ],
   "source": [
    "currSumABC{1}(2){3}"
   ]
  },
  {
   "cell_type": "code",
   "execution_count": 204,
   "id": "automotive-illustration",
   "metadata": {},
   "outputs": [
    {
     "data": {
      "text/plain": [
       "mCurrSumABC: (a: Int)(b: Int)(c: Int)Int\n"
      ]
     },
     "execution_count": 204,
     "metadata": {},
     "output_type": "execute_result"
    }
   ],
   "source": [
    "def mCurrSumABC(a: Int)(b: Int)(c: Int) = a + b + c"
   ]
  },
  {
   "cell_type": "code",
   "execution_count": 205,
   "id": "embedded-document",
   "metadata": {},
   "outputs": [
    {
     "data": {
      "text/plain": [
       "res77: Int = 6\n"
      ]
     },
     "execution_count": 205,
     "metadata": {},
     "output_type": "execute_result"
    }
   ],
   "source": [
    "mCurrSumABC(1)(2)(3)"
   ]
  },
  {
   "cell_type": "code",
   "execution_count": 208,
   "id": "handed-comparative",
   "metadata": {},
   "outputs": [
    {
     "data": {
      "text/plain": [
       "res80: Int = 6\n"
      ]
     },
     "execution_count": 208,
     "metadata": {},
     "output_type": "execute_result"
    }
   ],
   "source": [
    "mCurrSumABC(1)(2){3}"
   ]
  },
  {
   "cell_type": "code",
   "execution_count": 209,
   "id": "cleared-carol",
   "metadata": {},
   "outputs": [
    {
     "data": {
      "text/plain": [
       "fCurrSumABC: Int => (Int => (Int => Int)) = $Lambda$2396/2146142325@3c1eddcb\n"
      ]
     },
     "execution_count": 209,
     "metadata": {},
     "output_type": "execute_result"
    }
   ],
   "source": [
    "val fCurrSumABC = (a: Int) => (b: Int) => (c: Int) => a + b + c"
   ]
  },
  {
   "cell_type": "code",
   "execution_count": 210,
   "id": "familiar-roberts",
   "metadata": {},
   "outputs": [
    {
     "data": {
      "text/plain": [
       "fCurrSumABC: Int => (Int => (Int => Int)) = $Lambda$2397/1433001946@1ea416a2\n"
      ]
     },
     "execution_count": 210,
     "metadata": {},
     "output_type": "execute_result"
    }
   ],
   "source": [
    "val fCurrSumABC: Int => (Int => (Int => Int)) =\n",
    "    (a: Int) => (b: Int) => (c: Int) => a + b + c"
   ]
  },
  {
   "cell_type": "code",
   "execution_count": 211,
   "id": "prepared-relation",
   "metadata": {},
   "outputs": [
    {
     "ename": "<console>",
     "evalue": "2: error: not a legal formal parameter.",
     "output_type": "error",
     "traceback": [
      "<console>:2: error: not a legal formal parameter.",
      "Note: Tuples cannot be directly destructured in method or function parameters.",
      "      Either create a single parameter accepting the Tuple1,",
      "      or consider a pattern matching anonymous function: `{ case (param1, param1) => ... }",
      "       val fCurrSumABC = (a: Int) => ((b: Int) => (c: Int)) => a + b + c",
      "                                               ^",
      ""
     ]
    }
   ],
   "source": [
    "val fCurrSumABC = (a: Int) => ((b: Int) => (c: Int)) => a + b + c"
   ]
  },
  {
   "cell_type": "code",
   "execution_count": 212,
   "id": "hired-clothing",
   "metadata": {},
   "outputs": [
    {
     "ename": "<console>",
     "evalue": "2: error: not a legal formal parameter.",
     "output_type": "error",
     "traceback": [
      "<console>:2: error: not a legal formal parameter.",
      "Note: Tuples cannot be directly destructured in method or function parameters.",
      "      Either create a single parameter accepting the Tuple1,",
      "      or consider a pattern matching anonymous function: `{ case (param1, param1) => ... }",
      "       val fCurrSumABC = ((a: Int) => ((b: Int) => (c: Int))) => a + b + c",
      "                                   ^",
      ""
     ]
    }
   ],
   "source": [
    "val fCurrSumABC = ((a: Int) => ((b: Int) => (c: Int))) => a + b + c"
   ]
  },
  {
   "cell_type": "code",
   "execution_count": 213,
   "id": "based-tablet",
   "metadata": {},
   "outputs": [
    {
     "data": {
      "text/plain": [
       "f: (ints: Int*)(doubles: Double*)(strings: String*)Unit\n"
      ]
     },
     "execution_count": 213,
     "metadata": {},
     "output_type": "execute_result"
    }
   ],
   "source": [
    "def f(ints: Int*)(doubles: Double*)(strings: String*) = {\n",
    "    for (i <- ints) print(i + \" \")\n",
    "    println()\n",
    "    for (d <- doubles) print(d + \" \")\n",
    "    println()\n",
    "    for (s <- strings) print(s + \" \")\n",
    "}"
   ]
  },
  {
   "cell_type": "code",
   "execution_count": 214,
   "id": "naked-wages",
   "metadata": {},
   "outputs": [
    {
     "name": "stdout",
     "output_type": "stream",
     "text": [
      "1 2 3 4 \n",
      "6.1 7.1 8.1 9.5 \n",
      "abc def ghi "
     ]
    }
   ],
   "source": [
    "f(1, 2, 3, 4)(6.1, 7.1, 8.1, 9.5)(\"abc\", \"def\", \"ghi\")"
   ]
  },
  {
   "cell_type": "code",
   "execution_count": 215,
   "id": "pacific-instrumentation",
   "metadata": {},
   "outputs": [
    {
     "data": {
      "text/plain": [
       "catchingAllExceptions: (tryBlock: => Unit)Unit\n"
      ]
     },
     "execution_count": 215,
     "metadata": {},
     "output_type": "execute_result"
    }
   ],
   "source": [
    "def catchingAllExceptions(tryBlock: => Unit) = {\n",
    "    try {\n",
    "        tryBlock\n",
    "    } catch {\n",
    "        case _: Throwable =>\n",
    "    }\n",
    "}"
   ]
  },
  {
   "cell_type": "code",
   "execution_count": 217,
   "id": "appreciated-american",
   "metadata": {},
   "outputs": [
    {
     "name": "stdout",
     "output_type": "stream",
     "text": [
      "x = 4\n",
      "y = 0\n"
     ]
    }
   ],
   "source": [
    "catchingAllExceptions {\n",
    "    val x = 4\n",
    "    println(\"x = \" + x)\n",
    "    val y = 0\n",
    "    println(\"y = \" + y)\n",
    "    val z = x / y\n",
    "    println(\"z = \" + z)\n",
    "}"
   ]
  },
  {
   "cell_type": "code",
   "execution_count": null,
   "id": "continent-lotus",
   "metadata": {},
   "outputs": [],
   "source": []
  }
 ],
 "metadata": {
  "kernelspec": {
   "display_name": "spylon-kernel",
   "language": "scala",
   "name": "spylon-kernel"
  },
  "language_info": {
   "codemirror_mode": "text/x-scala",
   "file_extension": ".scala",
   "help_links": [
    {
     "text": "MetaKernel Magics",
     "url": "https://metakernel.readthedocs.io/en/latest/source/README.html"
    }
   ],
   "mimetype": "text/x-scala",
   "name": "scala",
   "pygments_lexer": "scala",
   "version": "0.4.1"
  }
 },
 "nbformat": 4,
 "nbformat_minor": 5
}
