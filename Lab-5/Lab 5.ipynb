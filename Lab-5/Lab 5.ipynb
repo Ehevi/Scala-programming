{
 "cells": [
  {
   "cell_type": "code",
   "execution_count": 2,
   "id": "electronic-science",
   "metadata": {},
   "outputs": [
    {
     "data": {
      "text/plain": [
       "defined class NumOps\n"
      ]
     },
     "execution_count": 2,
     "metadata": {},
     "output_type": "execute_result"
    }
   ],
   "source": [
    "class NumOps {\n",
    "    def succ(a: Int) = a + 1\n",
    "    def pred(a: Int) = a - 1\n",
    "}"
   ]
  },
  {
   "cell_type": "code",
   "execution_count": 3,
   "id": "adjacent-formula",
   "metadata": {},
   "outputs": [
    {
     "data": {
      "text/plain": [
       "numOps: NumOps = NumOps@5fcb3d65\n",
       "after5: Int = 6\n",
       "before5: Int = 4\n"
      ]
     },
     "execution_count": 3,
     "metadata": {},
     "output_type": "execute_result"
    }
   ],
   "source": [
    "val numOps = new NumOps\n",
    "val after5 = numOps.succ(5)\n",
    "val before5 = numOps.pred(5)"
   ]
  },
  {
   "cell_type": "code",
   "execution_count": 4,
   "id": "prime-origin",
   "metadata": {},
   "outputs": [
    {
     "data": {
      "text/plain": [
       "defined class Succ\n"
      ]
     },
     "execution_count": 4,
     "metadata": {},
     "output_type": "execute_result"
    }
   ],
   "source": [
    "class Succ extends Function1[Int, Int] {\n",
    "    override def apply(a: Int) = a + 1\n",
    "}"
   ]
  },
  {
   "cell_type": "code",
   "execution_count": 6,
   "id": "raising-heavy",
   "metadata": {},
   "outputs": [
    {
     "data": {
      "text/plain": [
       "succ: Succ = <function1>\n"
      ]
     },
     "execution_count": 6,
     "metadata": {},
     "output_type": "execute_result"
    }
   ],
   "source": [
    "val succ = new Succ"
   ]
  },
  {
   "cell_type": "code",
   "execution_count": 7,
   "id": "found-template",
   "metadata": {},
   "outputs": [
    {
     "data": {
      "text/plain": [
       "after5: Int = 6\n"
      ]
     },
     "execution_count": 7,
     "metadata": {},
     "output_type": "execute_result"
    }
   ],
   "source": [
    "val after5 = succ.apply(5)"
   ]
  },
  {
   "cell_type": "code",
   "execution_count": 8,
   "id": "consolidated-selling",
   "metadata": {},
   "outputs": [
    {
     "data": {
      "text/plain": [
       "after5: Int = 6\n"
      ]
     },
     "execution_count": 8,
     "metadata": {},
     "output_type": "execute_result"
    }
   ],
   "source": [
    "val after5 = succ(5)"
   ]
  },
  {
   "cell_type": "markdown",
   "id": "appropriate-remedy",
   "metadata": {},
   "source": [
    "## 2. Literały funkcyjne, obiekty funkcyjne (*function literals*, *function values*)"
   ]
  },
  {
   "cell_type": "code",
   "execution_count": 9,
   "id": "demonstrated-redhead",
   "metadata": {},
   "outputs": [
    {
     "ename": "<console>",
     "evalue": "2: error: ')' expected but ':' found.",
     "output_type": "error",
     "traceback": [
      "<console>:2: error: ')' expected but ':' found.",
      "       val succ: (a: Int) = a + 1",
      "                   ^",
      ""
     ]
    }
   ],
   "source": [
    "val succ: (a: Int) = a + 1"
   ]
  },
  {
   "cell_type": "code",
   "execution_count": 10,
   "id": "reserved-flood",
   "metadata": {},
   "outputs": [
    {
     "ename": "<console>",
     "evalue": "2: error: ';' expected but '=' found.",
     "output_type": "error",
     "traceback": [
      "<console>:2: error: ';' expected but '=' found.",
      "       val succ = (a: Int) = a + 1",
      "                           ^",
      ""
     ]
    }
   ],
   "source": [
    "val succ = (a: Int) = a + 1"
   ]
  },
  {
   "cell_type": "code",
   "execution_count": 11,
   "id": "light-prediction",
   "metadata": {},
   "outputs": [
    {
     "ename": "<console>",
     "evalue": "2: error: '=' expected but '=>' found.",
     "output_type": "error",
     "traceback": [
      "<console>:2: error: '=' expected but '=>' found.",
      "       val succ => (a: Int) = a + 1",
      "                ^",
      ""
     ]
    }
   ],
   "source": [
    "val succ => (a: Int) = a + 1"
   ]
  },
  {
   "cell_type": "code",
   "execution_count": 12,
   "id": "representative-algeria",
   "metadata": {},
   "outputs": [
    {
     "ename": "<console>",
     "evalue": "2: error: ')' expected but ':' found.",
     "output_type": "error",
     "traceback": [
      "<console>:2: error: ')' expected but ':' found.",
      "       val succ: (a: Int) => Int = (a: Int) = a + 1",
      "                   ^",
      ""
     ]
    }
   ],
   "source": [
    "val succ: (a: Int) => Int = (a: Int) = a + 1"
   ]
  },
  {
   "cell_type": "code",
   "execution_count": 13,
   "id": "capital-vegetarian",
   "metadata": {},
   "outputs": [
    {
     "ename": "<console>",
     "evalue": "2: error: ')' expected but ':' found.",
     "output_type": "error",
     "traceback": [
      "<console>:2: error: ')' expected but ':' found.",
      "       val succ: (a: Int) => Int = (a: Int) => a + 1",
      "                   ^",
      ""
     ]
    }
   ],
   "source": [
    "val succ: (a: Int) => Int = (a: Int) => a + 1"
   ]
  },
  {
   "cell_type": "code",
   "execution_count": 14,
   "id": "toxic-announcement",
   "metadata": {},
   "outputs": [
    {
     "data": {
      "text/plain": [
       "succ: Int => Int = $Lambda$2021/0x0000000840c0c840@32d558ca\n"
      ]
     },
     "execution_count": 14,
     "metadata": {},
     "output_type": "execute_result"
    }
   ],
   "source": [
    "val succ: (Int) => Int = (a: Int) => a + 1"
   ]
  },
  {
   "cell_type": "code",
   "execution_count": 15,
   "id": "herbal-chosen",
   "metadata": {},
   "outputs": [
    {
     "data": {
      "text/plain": [
       "succ: Int => Int = $Lambda$2022/0x0000000840c0f840@3867ba55\n"
      ]
     },
     "execution_count": 15,
     "metadata": {},
     "output_type": "execute_result"
    }
   ],
   "source": [
    "val succ: Int => Int = (a: Int) => a + 1"
   ]
  },
  {
   "cell_type": "code",
   "execution_count": 16,
   "id": "behavioral-fairy",
   "metadata": {},
   "outputs": [
    {
     "data": {
      "text/plain": [
       "succ: Int => Int = $Lambda$2023/0x0000000840c0e040@2239b48a\n"
      ]
     },
     "execution_count": 16,
     "metadata": {},
     "output_type": "execute_result"
    }
   ],
   "source": [
    "val succ = (a: Int) => a + 1"
   ]
  },
  {
   "cell_type": "markdown",
   "id": "accepted-powell",
   "metadata": {},
   "source": [
    "## 3. Funkcje wyższego rzędu: funkcje jako argumenty"
   ]
  },
  {
   "cell_type": "code",
   "execution_count": null,
   "id": "statutory-majority",
   "metadata": {},
   "outputs": [],
   "source": []
  }
 ],
 "metadata": {
  "kernelspec": {
   "display_name": "spylon-kernel",
   "language": "scala",
   "name": "spylon-kernel"
  },
  "language_info": {
   "codemirror_mode": "text/x-scala",
   "file_extension": ".scala",
   "help_links": [
    {
     "text": "MetaKernel Magics",
     "url": "https://metakernel.readthedocs.io/en/latest/source/README.html"
    }
   ],
   "mimetype": "text/x-scala",
   "name": "scala",
   "pygments_lexer": "scala",
   "version": "0.4.1"
  }
 },
 "nbformat": 4,
 "nbformat_minor": 5
}
