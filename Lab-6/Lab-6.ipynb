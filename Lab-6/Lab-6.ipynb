{
 "cells": [
  {
   "cell_type": "markdown",
   "id": "sonic-farmer",
   "metadata": {},
   "source": [
    "# Laboratorium 6."
   ]
  },
  {
   "cell_type": "markdown",
   "id": "several-purse",
   "metadata": {},
   "source": [
    "## 1. \"Praca z listami\""
   ]
  },
  {
   "cell_type": "code",
   "execution_count": 1,
   "id": "binary-photograph",
   "metadata": {},
   "outputs": [
    {
     "data": {
      "text/plain": [
       "Intitializing Scala interpreter ..."
      ]
     },
     "metadata": {},
     "output_type": "display_data"
    },
    {
     "data": {
      "text/plain": [
       "Spark Web UI available at http://192.168.196.150:4040\n",
       "SparkContext available as 'sc' (version = 3.1.1, master = local[*], app id = local-1620158354111)\n",
       "SparkSession available as 'spark'\n"
      ]
     },
     "metadata": {},
     "output_type": "display_data"
    },
    {
     "data": {
      "text/plain": [
       "l123: List[Int] = List(1, 2, 3)\n"
      ]
     },
     "execution_count": 1,
     "metadata": {},
     "output_type": "execute_result"
    }
   ],
   "source": [
    "val l123 = 1 :: 2 :: 3 :: Nil"
   ]
  },
  {
   "cell_type": "code",
   "execution_count": 2,
   "id": "prescription-stack",
   "metadata": {},
   "outputs": [
    {
     "data": {
      "text/plain": [
       "l123: List[Int] = List(1, 2, 3)\n"
      ]
     },
     "execution_count": 2,
     "metadata": {},
     "output_type": "execute_result"
    }
   ],
   "source": [
    "val l123 = (1 :: (2 :: (3 :: Nil)))"
   ]
  },
  {
   "cell_type": "code",
   "execution_count": 3,
   "id": "recreational-playback",
   "metadata": {},
   "outputs": [
    {
     "data": {
      "text/plain": [
       "l123: List[Int] = List(1, 2, 3)\n"
      ]
     },
     "execution_count": 3,
     "metadata": {},
     "output_type": "execute_result"
    }
   ],
   "source": [
    "val l123 = Nil.::(3).::(2).::(1)"
   ]
  },
  {
   "cell_type": "code",
   "execution_count": 4,
   "id": "attached-turner",
   "metadata": {},
   "outputs": [
    {
     "data": {
      "text/plain": [
       "l123: List[Int] = List(1, 2, 3)\n"
      ]
     },
     "execution_count": 4,
     "metadata": {},
     "output_type": "execute_result"
    }
   ],
   "source": [
    "val l123 = List(1, 2, 3)"
   ]
  },
  {
   "cell_type": "code",
   "execution_count": 5,
   "id": "together-health",
   "metadata": {},
   "outputs": [
    {
     "data": {
      "text/plain": [
       "l123: scala.collection.immutable.::[Int] = List(1, 2, 3)\n"
      ]
     },
     "execution_count": 5,
     "metadata": {},
     "output_type": "execute_result"
    }
   ],
   "source": [
    "val l123 = new ::(1, List(2, 3))"
   ]
  },
  {
   "cell_type": "markdown",
   "id": "informative-senator",
   "metadata": {},
   "source": [
    "\n"
   ]
  },
  {
   "cell_type": "code",
   "execution_count": 6,
   "id": "rising-ethnic",
   "metadata": {},
   "outputs": [
    {
     "ename": "<console>",
     "evalue": "24: error: class List is abstract; cannot be instantiated",
     "output_type": "error",
     "traceback": [
      "<console>:24: error: class List is abstract; cannot be instantiated",
      "       val l123 = new List(1, 2, 3)",
      "                  ^",
      ""
     ]
    }
   ],
   "source": [
    "val l123 = new List(1, 2, 3)"
   ]
  },
  {
   "cell_type": "code",
   "execution_count": 7,
   "id": "convertible-dinner",
   "metadata": {},
   "outputs": [
    {
     "data": {
      "text/plain": [
       "l3: List[Int] = List(3)\n"
      ]
     },
     "execution_count": 7,
     "metadata": {},
     "output_type": "execute_result"
    }
   ],
   "source": [
    "val l3 = 3 :: Nil"
   ]
  },
  {
   "cell_type": "code",
   "execution_count": 8,
   "id": "automated-identification",
   "metadata": {},
   "outputs": [
    {
     "data": {
      "text/plain": [
       "l23: List[Int] = List(2, 3)\n"
      ]
     },
     "execution_count": 8,
     "metadata": {},
     "output_type": "execute_result"
    }
   ],
   "source": [
    "val l23 = 2 :: l3"
   ]
  },
  {
   "cell_type": "code",
   "execution_count": 9,
   "id": "known-acoustic",
   "metadata": {},
   "outputs": [
    {
     "data": {
      "text/plain": [
       "l123: List[Int] = List(1, 2, 3)\n"
      ]
     },
     "execution_count": 9,
     "metadata": {},
     "output_type": "execute_result"
    }
   ],
   "source": [
    "val l123 = 1 :: l23"
   ]
  },
  {
   "cell_type": "markdown",
   "id": "editorial-flesh",
   "metadata": {},
   "source": [
    "\n"
   ]
  },
  {
   "cell_type": "code",
   "execution_count": 10,
   "id": "pointed-liverpool",
   "metadata": {},
   "outputs": [
    {
     "data": {
      "text/plain": [
       "l3: List[Int] = List(3)\n"
      ]
     },
     "execution_count": 10,
     "metadata": {},
     "output_type": "execute_result"
    }
   ],
   "source": [
    "val l3 = Nil.::(3)"
   ]
  },
  {
   "cell_type": "code",
   "execution_count": 11,
   "id": "israeli-detector",
   "metadata": {},
   "outputs": [
    {
     "data": {
      "text/plain": [
       "l23: List[Int] = List(2, 3)\n"
      ]
     },
     "execution_count": 11,
     "metadata": {},
     "output_type": "execute_result"
    }
   ],
   "source": [
    "val l23 = l3.::(2)"
   ]
  },
  {
   "cell_type": "code",
   "execution_count": 12,
   "id": "fitted-turkish",
   "metadata": {},
   "outputs": [
    {
     "data": {
      "text/plain": [
       "l123: List[Int] = List(1, 2, 3)\n"
      ]
     },
     "execution_count": 12,
     "metadata": {},
     "output_type": "execute_result"
    }
   ],
   "source": [
    "val l123 = l23.::(1)"
   ]
  },
  {
   "cell_type": "markdown",
   "id": "affecting-illinois",
   "metadata": {},
   "source": [
    "\n"
   ]
  },
  {
   "cell_type": "code",
   "execution_count": 13,
   "id": "burning-homeless",
   "metadata": {},
   "outputs": [
    {
     "data": {
      "text/plain": [
       "l3: scala.collection.immutable.::[Int] = List(3)\n"
      ]
     },
     "execution_count": 13,
     "metadata": {},
     "output_type": "execute_result"
    }
   ],
   "source": [
    "val l3 = new ::(3, Nil)"
   ]
  },
  {
   "cell_type": "code",
   "execution_count": 14,
   "id": "invalid-pledge",
   "metadata": {},
   "outputs": [
    {
     "data": {
      "text/plain": [
       "l23: scala.collection.immutable.::[Int] = List(2, 3)\n"
      ]
     },
     "execution_count": 14,
     "metadata": {},
     "output_type": "execute_result"
    }
   ],
   "source": [
    "val l23 = new ::(2, l3)"
   ]
  },
  {
   "cell_type": "code",
   "execution_count": 15,
   "id": "reduced-politics",
   "metadata": {},
   "outputs": [
    {
     "data": {
      "text/plain": [
       "l123: scala.collection.immutable.::[Int] = List(1, 2, 3)\n"
      ]
     },
     "execution_count": 15,
     "metadata": {},
     "output_type": "execute_result"
    }
   ],
   "source": [
    "val l123 = new ::(1, l23)"
   ]
  },
  {
   "cell_type": "markdown",
   "id": "welcome-ontario",
   "metadata": {},
   "source": [
    "#### Zadanie\n",
    "powtórzyć powyższe kroki dla listy (\"a\", \"bb\", \"ccc\", \"dddd\")"
   ]
  },
  {
   "cell_type": "code",
   "execution_count": 16,
   "id": "mechanical-violence",
   "metadata": {},
   "outputs": [
    {
     "data": {
      "text/plain": [
       "labcd: List[String] = List(a, bb, ccc, dddd)\n"
      ]
     },
     "execution_count": 16,
     "metadata": {},
     "output_type": "execute_result"
    }
   ],
   "source": [
    "val labcd = \"a\" :: \"bb\" :: \"ccc\" :: \"dddd\" :: Nil"
   ]
  },
  {
   "cell_type": "code",
   "execution_count": 17,
   "id": "insured-candle",
   "metadata": {},
   "outputs": [
    {
     "data": {
      "text/plain": [
       "labcd: List[String] = List(a, bb, ccc, dddd)\n"
      ]
     },
     "execution_count": 17,
     "metadata": {},
     "output_type": "execute_result"
    }
   ],
   "source": [
    "val labcd = (\"a\" :: (\"bb\" :: (\"ccc\" :: (\"dddd\" :: Nil))))"
   ]
  },
  {
   "cell_type": "code",
   "execution_count": 18,
   "id": "likely-framing",
   "metadata": {},
   "outputs": [
    {
     "data": {
      "text/plain": [
       "labcd: List[String] = List(a, bb, ccc, dddd)\n"
      ]
     },
     "execution_count": 18,
     "metadata": {},
     "output_type": "execute_result"
    }
   ],
   "source": [
    "val labcd = Nil.::(\"dddd\").::(\"ccc\").::(\"bb\").::(\"a\")"
   ]
  },
  {
   "cell_type": "code",
   "execution_count": 19,
   "id": "sonic-fortune",
   "metadata": {},
   "outputs": [
    {
     "data": {
      "text/plain": [
       "labcd: List[String] = List(a, bb, ccc, dddd)\n"
      ]
     },
     "execution_count": 19,
     "metadata": {},
     "output_type": "execute_result"
    }
   ],
   "source": [
    "val labcd = List(\"a\", \"bb\", \"ccc\", \"dddd\")"
   ]
  },
  {
   "cell_type": "markdown",
   "id": "major-tuner",
   "metadata": {},
   "source": [
    "\n"
   ]
  },
  {
   "cell_type": "code",
   "execution_count": 20,
   "id": "bright-turkey",
   "metadata": {},
   "outputs": [
    {
     "data": {
      "text/plain": [
       "ld: List[String] = List(dddd)\n"
      ]
     },
     "execution_count": 20,
     "metadata": {},
     "output_type": "execute_result"
    }
   ],
   "source": [
    "val ld = \"dddd\" :: Nil"
   ]
  },
  {
   "cell_type": "code",
   "execution_count": 21,
   "id": "cutting-glossary",
   "metadata": {},
   "outputs": [
    {
     "data": {
      "text/plain": [
       "lcd: List[String] = List(ccc, dddd)\n"
      ]
     },
     "execution_count": 21,
     "metadata": {},
     "output_type": "execute_result"
    }
   ],
   "source": [
    "val lcd = \"ccc\" :: ld"
   ]
  },
  {
   "cell_type": "code",
   "execution_count": 22,
   "id": "creative-symphony",
   "metadata": {},
   "outputs": [
    {
     "data": {
      "text/plain": [
       "lbcd: List[String] = List(bb, ccc, dddd)\n"
      ]
     },
     "execution_count": 22,
     "metadata": {},
     "output_type": "execute_result"
    }
   ],
   "source": [
    "val lbcd = \"bb\" :: lcd"
   ]
  },
  {
   "cell_type": "code",
   "execution_count": 23,
   "id": "conceptual-rental",
   "metadata": {},
   "outputs": [
    {
     "data": {
      "text/plain": [
       "labcd: List[String] = List(a, bb, ccc, dddd)\n"
      ]
     },
     "execution_count": 23,
     "metadata": {},
     "output_type": "execute_result"
    }
   ],
   "source": [
    "val labcd = \"a\" :: lbcd"
   ]
  },
  {
   "cell_type": "markdown",
   "id": "sorted-model",
   "metadata": {},
   "source": [
    "\n"
   ]
  },
  {
   "cell_type": "code",
   "execution_count": 24,
   "id": "presidential-russell",
   "metadata": {},
   "outputs": [
    {
     "data": {
      "text/plain": [
       "ld: List[String] = List(dddd)\n"
      ]
     },
     "execution_count": 24,
     "metadata": {},
     "output_type": "execute_result"
    }
   ],
   "source": [
    "val ld = Nil.::(\"dddd\")"
   ]
  },
  {
   "cell_type": "code",
   "execution_count": 25,
   "id": "fundamental-bridges",
   "metadata": {},
   "outputs": [
    {
     "data": {
      "text/plain": [
       "lcd: List[String] = List(ccc, dddd)\n"
      ]
     },
     "execution_count": 25,
     "metadata": {},
     "output_type": "execute_result"
    }
   ],
   "source": [
    "val lcd = ld.::(\"ccc\")"
   ]
  },
  {
   "cell_type": "code",
   "execution_count": 26,
   "id": "protecting-library",
   "metadata": {},
   "outputs": [
    {
     "data": {
      "text/plain": [
       "lbcd: List[String] = List(bb, ccc, dddd)\n"
      ]
     },
     "execution_count": 26,
     "metadata": {},
     "output_type": "execute_result"
    }
   ],
   "source": [
    "val lbcd = lcd.::(\"bb\")"
   ]
  },
  {
   "cell_type": "code",
   "execution_count": 27,
   "id": "weekly-angola",
   "metadata": {},
   "outputs": [
    {
     "data": {
      "text/plain": [
       "labcd: List[String] = List(a, bb, ccc, dddd)\n"
      ]
     },
     "execution_count": 27,
     "metadata": {},
     "output_type": "execute_result"
    }
   ],
   "source": [
    "val labcd = lbcd.::(\"a\")"
   ]
  },
  {
   "cell_type": "markdown",
   "id": "combined-south",
   "metadata": {},
   "source": [
    "\n"
   ]
  },
  {
   "cell_type": "code",
   "execution_count": 28,
   "id": "devoted-carter",
   "metadata": {},
   "outputs": [
    {
     "data": {
      "text/plain": [
       "ld: scala.collection.immutable.::[String] = List(dddd)\n"
      ]
     },
     "execution_count": 28,
     "metadata": {},
     "output_type": "execute_result"
    }
   ],
   "source": [
    "val ld = new ::(\"dddd\", Nil)"
   ]
  },
  {
   "cell_type": "code",
   "execution_count": 29,
   "id": "several-finding",
   "metadata": {},
   "outputs": [
    {
     "data": {
      "text/plain": [
       "lcd: scala.collection.immutable.::[String] = List(ccc, dddd)\n"
      ]
     },
     "execution_count": 29,
     "metadata": {},
     "output_type": "execute_result"
    }
   ],
   "source": [
    "val lcd = new ::(\"ccc\", ld)"
   ]
  },
  {
   "cell_type": "code",
   "execution_count": 30,
   "id": "premier-afternoon",
   "metadata": {},
   "outputs": [
    {
     "data": {
      "text/plain": [
       "lbcd: scala.collection.immutable.::[String] = List(bb, ccc, dddd)\n"
      ]
     },
     "execution_count": 30,
     "metadata": {},
     "output_type": "execute_result"
    }
   ],
   "source": [
    "val lbcd = new ::(\"bb\", lcd)"
   ]
  },
  {
   "cell_type": "code",
   "execution_count": 31,
   "id": "gorgeous-disease",
   "metadata": {},
   "outputs": [
    {
     "data": {
      "text/plain": [
       "labcd: scala.collection.immutable.::[String] = List(a, bb, ccc, dddd)\n"
      ]
     },
     "execution_count": 31,
     "metadata": {},
     "output_type": "execute_result"
    }
   ],
   "source": [
    "val labcd = new ::(\"a\", lbcd)"
   ]
  },
  {
   "cell_type": "markdown",
   "id": "challenging-expert",
   "metadata": {},
   "source": [
    "-------------------------------"
   ]
  },
  {
   "cell_type": "code",
   "execution_count": 32,
   "id": "threaded-insertion",
   "metadata": {},
   "outputs": [
    {
     "data": {
      "text/plain": [
       "res0: Int = 1\n"
      ]
     },
     "execution_count": 32,
     "metadata": {},
     "output_type": "execute_result"
    }
   ],
   "source": [
    "List(1, 2, 3).head"
   ]
  },
  {
   "cell_type": "code",
   "execution_count": 33,
   "id": "other-alarm",
   "metadata": {},
   "outputs": [
    {
     "data": {
      "text/plain": [
       "res1: List[Int] = List(2, 3)\n"
      ]
     },
     "execution_count": 33,
     "metadata": {},
     "output_type": "execute_result"
    }
   ],
   "source": [
    "List(1, 2, 3).tail"
   ]
  },
  {
   "cell_type": "code",
   "execution_count": 34,
   "id": "composite-store",
   "metadata": {},
   "outputs": [
    {
     "data": {
      "text/plain": [
       "res2: Int = 1\n"
      ]
     },
     "execution_count": 34,
     "metadata": {},
     "output_type": "execute_result"
    }
   ],
   "source": [
    "(1 :: 2 :: 3 :: Nil).head"
   ]
  },
  {
   "cell_type": "code",
   "execution_count": 35,
   "id": "recovered-manner",
   "metadata": {},
   "outputs": [
    {
     "data": {
      "text/plain": [
       "res3: List[Int] = List(2, 3)\n"
      ]
     },
     "execution_count": 35,
     "metadata": {},
     "output_type": "execute_result"
    }
   ],
   "source": [
    "(1 :: 2 :: 3 :: Nil).tail"
   ]
  },
  {
   "cell_type": "code",
   "execution_count": 36,
   "id": "floating-popularity",
   "metadata": {},
   "outputs": [
    {
     "data": {
      "text/plain": [
       "res4: Int = 3\n"
      ]
     },
     "execution_count": 36,
     "metadata": {},
     "output_type": "execute_result"
    }
   ],
   "source": [
    "(1 :: 2 :: 3 :: Nil).last"
   ]
  },
  {
   "cell_type": "markdown",
   "id": "excellent-district",
   "metadata": {},
   "source": [
    "\n"
   ]
  },
  {
   "cell_type": "code",
   "execution_count": 37,
   "id": "sustainable-benchmark",
   "metadata": {},
   "outputs": [
    {
     "ename": "java.lang.UnsupportedOperationException",
     "evalue": " tail of empty list",
     "output_type": "error",
     "traceback": [
      "java.lang.UnsupportedOperationException: tail of empty list",
      "  at scala.collection.immutable.Nil$.tail(List.scala:432)",
      "  at scala.collection.immutable.Nil$.tail(List.scala:427)",
      "  ... 36 elided",
      ""
     ]
    }
   ],
   "source": [
    "List(1).tail.tail"
   ]
  },
  {
   "cell_type": "code",
   "execution_count": 38,
   "id": "obvious-explosion",
   "metadata": {},
   "outputs": [
    {
     "ename": "java.util.NoSuchElementException",
     "evalue": " head of empty list",
     "output_type": "error",
     "traceback": [
      "java.util.NoSuchElementException: head of empty list",
      "  at scala.collection.immutable.Nil$.head(List.scala:430)",
      "  at scala.collection.immutable.Nil$.head(List.scala:427)",
      "  ... 36 elided",
      ""
     ]
    }
   ],
   "source": [
    "List().head"
   ]
  },
  {
   "cell_type": "code",
   "execution_count": 39,
   "id": "altered-basketball",
   "metadata": {},
   "outputs": [
    {
     "ename": "java.lang.UnsupportedOperationException",
     "evalue": " tail of empty list",
     "output_type": "error",
     "traceback": [
      "java.lang.UnsupportedOperationException: tail of empty list",
      "  at scala.collection.immutable.Nil$.tail(List.scala:432)",
      "  at scala.collection.immutable.Nil$.tail(List.scala:427)",
      "  ... 36 elided",
      ""
     ]
    }
   ],
   "source": [
    "List().tail"
   ]
  },
  {
   "cell_type": "code",
   "execution_count": 40,
   "id": "advance-transaction",
   "metadata": {},
   "outputs": [
    {
     "ename": "java.util.NoSuchElementException",
     "evalue": "",
     "output_type": "error",
     "traceback": [
      "java.util.NoSuchElementException",
      "  at scala.collection.LinearSeqOptimized.last(LinearSeqOptimized.scala:150)",
      "  at scala.collection.LinearSeqOptimized.last$(LinearSeqOptimized.scala:149)",
      "  at scala.collection.immutable.List.last(List.scala:89)",
      "  ... 36 elided",
      ""
     ]
    }
   ],
   "source": [
    "List().last"
   ]
  },
  {
   "cell_type": "code",
   "execution_count": 41,
   "id": "related-traveler",
   "metadata": {},
   "outputs": [
    {
     "ename": "java.util.NoSuchElementException",
     "evalue": " head of empty list",
     "output_type": "error",
     "traceback": [
      "java.util.NoSuchElementException: head of empty list",
      "  at scala.collection.immutable.Nil$.head(List.scala:430)",
      "  ... 36 elided",
      ""
     ]
    }
   ],
   "source": [
    "Nil.head"
   ]
  },
  {
   "cell_type": "code",
   "execution_count": 42,
   "id": "subsequent-cincinnati",
   "metadata": {},
   "outputs": [
    {
     "ename": "java.lang.UnsupportedOperationException",
     "evalue": " tail of empty list",
     "output_type": "error",
     "traceback": [
      "java.lang.UnsupportedOperationException: tail of empty list",
      "  at scala.collection.immutable.Nil$.tail(List.scala:432)",
      "  ... 36 elided",
      ""
     ]
    }
   ],
   "source": [
    "Nil.tail"
   ]
  },
  {
   "cell_type": "code",
   "execution_count": 43,
   "id": "strange-basketball",
   "metadata": {},
   "outputs": [
    {
     "ename": "java.lang.UnsupportedOperationException",
     "evalue": " tail of empty list",
     "output_type": "error",
     "traceback": [
      "java.lang.UnsupportedOperationException: tail of empty list",
      "  at scala.collection.immutable.Nil$.tail(List.scala:432)",
      "  ... 36 elided",
      ""
     ]
    }
   ],
   "source": [
    "1 :: 2 :: 3 :: Nil.tail"
   ]
  },
  {
   "cell_type": "code",
   "execution_count": 44,
   "id": "defensive-oriental",
   "metadata": {},
   "outputs": [
    {
     "data": {
      "text/plain": [
       "_1To1e6List: List[Int] = List(1, 2, 3, 4, 5, 6, 7, 8, 9, 10, 11, 12, 13, 14, 15, 16, 17, 18, 19, 20, 21, 22, 23, 24, 25, 26, 27, 28, 29, 30, 31, 32, 33, 34, 35, 36, 37, 38, 39, 40, 41, 42, 43, 44, 45, 46, 47, 48, 49, 50, 51, 52, 53, 54, 55, 56, 57, 58, 59, 60, 61, 62, 63, 64, 65, 66, 67, 68, 69, 70, 71, 72, 73, 74, 75, 76, 77, 78, 79, 80, 81, 82, 83, 84, 85, 86, 87, 88, 89, 90, 91, 92, 93, 94, 95, 96, 97, 98, 99, 100, 101, 102, 103, 104, 105, 106, 107, 108, 109, 110, 111, 112, 113, 114, 115, 116, 117, 118, 119, 120, 121, 122, 123, 124, 125, 126, 127, 128, 129, 130, 131, 132, 133, 134, 135, 136, 137, 138, 139, 140, 141, 142, 143, 144, 145, 146, 147, 148, 149, 150, 151, 152, 153, 154, 155, 156, 157, 158, 159, 160, 161, 162, 163, 164, 165, 166, 167, 168, 169, 170, 171, 172, 173, 174, 175, ...\n"
      ]
     },
     "execution_count": 44,
     "metadata": {},
     "output_type": "execute_result"
    }
   ],
   "source": [
    "val _1To1e6List = (1 to 1000000).toList"
   ]
  },
  {
   "cell_type": "code",
   "execution_count": 45,
   "id": "welcome-confidence",
   "metadata": {},
   "outputs": [
    {
     "data": {
      "text/plain": [
       "res12: Int = 1\n"
      ]
     },
     "execution_count": 45,
     "metadata": {},
     "output_type": "execute_result"
    }
   ],
   "source": [
    "_1To1e6List.head"
   ]
  },
  {
   "cell_type": "code",
   "execution_count": 46,
   "id": "simple-portuguese",
   "metadata": {},
   "outputs": [
    {
     "data": {
      "text/plain": [
       "res13: List[Int] = List(2, 3, 4, 5, 6, 7, 8, 9, 10, 11, 12, 13, 14, 15, 16, 17, 18, 19, 20, 21, 22, 23, 24, 25, 26, 27, 28, 29, 30, 31, 32, 33, 34, 35, 36, 37, 38, 39, 40, 41, 42, 43, 44, 45, 46, 47, 48, 49, 50, 51, 52, 53, 54, 55, 56, 57, 58, 59, 60, 61, 62, 63, 64, 65, 66, 67, 68, 69, 70, 71, 72, 73, 74, 75, 76, 77, 78, 79, 80, 81, 82, 83, 84, 85, 86, 87, 88, 89, 90, 91, 92, 93, 94, 95, 96, 97, 98, 99, 100, 101, 102, 103, 104, 105, 106, 107, 108, 109, 110, 111, 112, 113, 114, 115, 116, 117, 118, 119, 120, 121, 122, 123, 124, 125, 126, 127, 128, 129, 130, 131, 132, 133, 134, 135, 136, 137, 138, 139, 140, 141, 142, 143, 144, 145, 146, 147, 148, 149, 150, 151, 152, 153, 154, 155, 156, 157, 158, 159, 160, 161, 162, 163, 164, 165, 166, 167, 168, 169, 170, 171, 172, 173, 174, 175, 176, 177,...\n"
      ]
     },
     "execution_count": 46,
     "metadata": {},
     "output_type": "execute_result"
    }
   ],
   "source": [
    "_1To1e6List.tail"
   ]
  },
  {
   "cell_type": "markdown",
   "id": "hollow-spiritual",
   "metadata": {},
   "source": [
    "\n"
   ]
  },
  {
   "cell_type": "code",
   "execution_count": 47,
   "id": "alive-indicator",
   "metadata": {},
   "outputs": [
    {
     "data": {
      "text/plain": [
       "_1To1e7List: List[Int] = List(1, 2, 3, 4, 5, 6, 7, 8, 9, 10, 11, 12, 13, 14, 15, 16, 17, 18, 19, 20, 21, 22, 23, 24, 25, 26, 27, 28, 29, 30, 31, 32, 33, 34, 35, 36, 37, 38, 39, 40, 41, 42, 43, 44, 45, 46, 47, 48, 49, 50, 51, 52, 53, 54, 55, 56, 57, 58, 59, 60, 61, 62, 63, 64, 65, 66, 67, 68, 69, 70, 71, 72, 73, 74, 75, 76, 77, 78, 79, 80, 81, 82, 83, 84, 85, 86, 87, 88, 89, 90, 91, 92, 93, 94, 95, 96, 97, 98, 99, 100, 101, 102, 103, 104, 105, 106, 107, 108, 109, 110, 111, 112, 113, 114, 115, 116, 117, 118, 119, 120, 121, 122, 123, 124, 125, 126, 127, 128, 129, 130, 131, 132, 133, 134, 135, 136, 137, 138, 139, 140, 141, 142, 143, 144, 145, 146, 147, 148, 149, 150, 151, 152, 153, 154, 155, 156, 157, 158, 159, 160, 161, 162, 163, 164, 165, 166, 167, 168, 169, 170, 171, 172, 173, 174, 175, ...\n"
      ]
     },
     "execution_count": 47,
     "metadata": {},
     "output_type": "execute_result"
    }
   ],
   "source": [
    "val _1To1e7List = (1 to 10000000).toList"
   ]
  },
  {
   "cell_type": "markdown",
   "id": "genetic-macro",
   "metadata": {},
   "source": [
    "\n"
   ]
  },
  {
   "cell_type": "code",
   "execution_count": 48,
   "id": "coordinated-midwest",
   "metadata": {},
   "outputs": [
    {
     "data": {
      "text/plain": [
       "_1To100List: List[Int] = List(1, 2, 3, 4, 5, 6, 7, 8, 9, 10, 11, 12, 13, 14, 15, 16, 17, 18, 19, 20, 21, 22, 23, 24, 25, 26, 27, 28, 29, 30, 31, 32, 33, 34, 35, 36, 37, 38, 39, 40, 41, 42, 43, 44, 45, 46, 47, 48, 49, 50, 51, 52, 53, 54, 55, 56, 57, 58, 59, 60, 61, 62, 63, 64, 65, 66, 67, 68, 69, 70, 71, 72, 73, 74, 75, 76, 77, 78, 79, 80, 81, 82, 83, 84, 85, 86, 87, 88, 89, 90, 91, 92, 93, 94, 95, 96, 97, 98, 99, 100)\n"
      ]
     },
     "execution_count": 48,
     "metadata": {},
     "output_type": "execute_result"
    }
   ],
   "source": [
    "val _1To100List = (1 to 100).toList"
   ]
  },
  {
   "cell_type": "code",
   "execution_count": 49,
   "id": "bacterial-concrete",
   "metadata": {},
   "outputs": [
    {
     "data": {
      "text/plain": [
       "res14: Int = 2\n"
      ]
     },
     "execution_count": 49,
     "metadata": {},
     "output_type": "execute_result"
    }
   ],
   "source": [
    "_1To100List.tail.head"
   ]
  },
  {
   "cell_type": "code",
   "execution_count": 50,
   "id": "direct-sussex",
   "metadata": {},
   "outputs": [
    {
     "data": {
      "text/plain": [
       "res15: Int = 3\n"
      ]
     },
     "execution_count": 50,
     "metadata": {},
     "output_type": "execute_result"
    }
   ],
   "source": [
    "_1To100List.tail.tail.head"
   ]
  },
  {
   "cell_type": "code",
   "execution_count": 51,
   "id": "initial-associate",
   "metadata": {},
   "outputs": [
    {
     "data": {
      "text/plain": [
       "res16: Int = 100\n"
      ]
     },
     "execution_count": 51,
     "metadata": {},
     "output_type": "execute_result"
    }
   ],
   "source": [
    "_1To100List.last"
   ]
  },
  {
   "cell_type": "code",
   "execution_count": 52,
   "id": "passive-holocaust",
   "metadata": {},
   "outputs": [
    {
     "ename": "<console>",
     "evalue": "28: error: value head is not a member of Int",
     "output_type": "error",
     "traceback": [
      "<console>:28: error: value head is not a member of Int",
      "       _1To100List.tail.tail.head.head",
      "                                  ^",
      ""
     ]
    }
   ],
   "source": [
    "_1To100List.tail.tail.head.head"
   ]
  },
  {
   "cell_type": "code",
   "execution_count": 53,
   "id": "recovered-default",
   "metadata": {},
   "outputs": [
    {
     "data": {
      "text/plain": [
       "even1to1e3List: List[Int] = List(2, 4, 6, 8, 10, 12, 14, 16, 18, 20, 22, 24, 26, 28, 30, 32, 34, 36, 38, 40, 42, 44, 46, 48, 50, 52, 54, 56, 58, 60, 62, 64, 66, 68, 70, 72, 74, 76, 78, 80, 82, 84, 86, 88, 90, 92, 94, 96, 98, 100, 102, 104, 106, 108, 110, 112, 114, 116, 118, 120, 122, 124, 126, 128, 130, 132, 134, 136, 138, 140, 142, 144, 146, 148, 150, 152, 154, 156, 158, 160, 162, 164, 166, 168, 170, 172, 174, 176, 178, 180, 182, 184, 186, 188, 190, 192, 194, 196, 198, 200, 202, 204, 206, 208, 210, 212, 214, 216, 218, 220, 222, 224, 226, 228, 230, 232, 234, 236, 238, 240, 242, 244, 246, 248, 250, 252, 254, 256, 258, 260, 262, 264, 266, 268, 270, 272, 274, 276, 278, 280, 282, 284, 286, 288, 290, 292, 294, 296, 298, 300, 302, 304, 306, 308, 310, 312, 314, 316, 318, 320, 322, 324, 326, 32...\n"
      ]
     },
     "execution_count": 53,
     "metadata": {},
     "output_type": "execute_result"
    }
   ],
   "source": [
    "val even1to1e3List = for (i <- (1 to 1000).toList if i % 2 == 0) yield i"
   ]
  },
  {
   "cell_type": "code",
   "execution_count": 54,
   "id": "likely-prefix",
   "metadata": {},
   "outputs": [
    {
     "data": {
      "text/plain": [
       "res18: Int = 2\n"
      ]
     },
     "execution_count": 54,
     "metadata": {},
     "output_type": "execute_result"
    }
   ],
   "source": [
    "even1to1e3List.head"
   ]
  },
  {
   "cell_type": "code",
   "execution_count": 55,
   "id": "magnetic-citation",
   "metadata": {},
   "outputs": [
    {
     "data": {
      "text/plain": [
       "res19: List[Int] = List(4, 6, 8, 10, 12, 14, 16, 18, 20, 22, 24, 26, 28, 30, 32, 34, 36, 38, 40, 42, 44, 46, 48, 50, 52, 54, 56, 58, 60, 62, 64, 66, 68, 70, 72, 74, 76, 78, 80, 82, 84, 86, 88, 90, 92, 94, 96, 98, 100, 102, 104, 106, 108, 110, 112, 114, 116, 118, 120, 122, 124, 126, 128, 130, 132, 134, 136, 138, 140, 142, 144, 146, 148, 150, 152, 154, 156, 158, 160, 162, 164, 166, 168, 170, 172, 174, 176, 178, 180, 182, 184, 186, 188, 190, 192, 194, 196, 198, 200, 202, 204, 206, 208, 210, 212, 214, 216, 218, 220, 222, 224, 226, 228, 230, 232, 234, 236, 238, 240, 242, 244, 246, 248, 250, 252, 254, 256, 258, 260, 262, 264, 266, 268, 270, 272, 274, 276, 278, 280, 282, 284, 286, 288, 290, 292, 294, 296, 298, 300, 302, 304, 306, 308, 310, 312, 314, 316, 318, 320, 322, 324, 326, 328, 330, 332,...\n"
      ]
     },
     "execution_count": 55,
     "metadata": {},
     "output_type": "execute_result"
    }
   ],
   "source": [
    "even1to1e3List.tail"
   ]
  },
  {
   "cell_type": "code",
   "execution_count": 56,
   "id": "improved-syracuse",
   "metadata": {},
   "outputs": [
    {
     "data": {
      "text/plain": [
       "res20: Int = 1000\n"
      ]
     },
     "execution_count": 56,
     "metadata": {},
     "output_type": "execute_result"
    }
   ],
   "source": [
    "even1to1e3List.last"
   ]
  },
  {
   "cell_type": "markdown",
   "id": "macro-generic",
   "metadata": {},
   "source": [
    "#### Zadanie\n",
    "utworzyć listę składającą się z pierwszych stu liczb podzielnych przez 3, następnie odczytać jej pierwszy, drugi i ostatni element."
   ]
  },
  {
   "cell_type": "code",
   "execution_count": 57,
   "id": "ordinary-yield",
   "metadata": {},
   "outputs": [
    {
     "data": {
      "text/plain": [
       "divisibleBy3: List[Int] = List(3, 6, 9, 12, 15, 18, 21, 24, 27, 30, 33, 36, 39, 42, 45, 48, 51, 54, 57, 60, 63, 66, 69, 72, 75, 78, 81, 84, 87, 90, 93, 96, 99, 102, 105, 108, 111, 114, 117, 120, 123, 126, 129, 132, 135, 138, 141, 144, 147, 150, 153, 156, 159, 162, 165, 168, 171, 174, 177, 180, 183, 186, 189, 192, 195, 198, 201, 204, 207, 210, 213, 216, 219, 222, 225, 228, 231, 234, 237, 240, 243, 246, 249, 252, 255, 258, 261, 264, 267, 270, 273, 276, 279, 282, 285, 288, 291, 294, 297, 300)\n"
      ]
     },
     "execution_count": 57,
     "metadata": {},
     "output_type": "execute_result"
    }
   ],
   "source": [
    "val divisibleBy3 = for (i <- (1 to 300).toList if i % 3 == 0) yield i"
   ]
  },
  {
   "cell_type": "code",
   "execution_count": 58,
   "id": "warming-journal",
   "metadata": {},
   "outputs": [
    {
     "data": {
      "text/plain": [
       "res21: Int = 100\n"
      ]
     },
     "execution_count": 58,
     "metadata": {},
     "output_type": "execute_result"
    }
   ],
   "source": [
    "divisibleBy3.length"
   ]
  },
  {
   "cell_type": "code",
   "execution_count": 59,
   "id": "interstate-boost",
   "metadata": {},
   "outputs": [
    {
     "data": {
      "text/plain": [
       "res22: Int = 3\n"
      ]
     },
     "execution_count": 59,
     "metadata": {},
     "output_type": "execute_result"
    }
   ],
   "source": [
    "divisibleBy3.head"
   ]
  },
  {
   "cell_type": "code",
   "execution_count": 60,
   "id": "lonely-renewal",
   "metadata": {},
   "outputs": [
    {
     "data": {
      "text/plain": [
       "res23: Int = 6\n"
      ]
     },
     "execution_count": 60,
     "metadata": {},
     "output_type": "execute_result"
    }
   ],
   "source": [
    "divisibleBy3.tail.head"
   ]
  },
  {
   "cell_type": "code",
   "execution_count": 61,
   "id": "extreme-bargain",
   "metadata": {},
   "outputs": [
    {
     "data": {
      "text/plain": [
       "res24: Int = 300\n"
      ]
     },
     "execution_count": 61,
     "metadata": {},
     "output_type": "execute_result"
    }
   ],
   "source": [
    "divisibleBy3.last"
   ]
  },
  {
   "cell_type": "markdown",
   "id": "mighty-currency",
   "metadata": {},
   "source": [
    "-------------------------------"
   ]
  },
  {
   "cell_type": "code",
   "execution_count": 62,
   "id": "parental-calcium",
   "metadata": {},
   "outputs": [
    {
     "data": {
      "text/plain": [
       "lengthOf: [T](xs: List[T])Int\n"
      ]
     },
     "execution_count": 62,
     "metadata": {},
     "output_type": "execute_result"
    }
   ],
   "source": [
    "def lengthOf[T](xs: List[T]) = {\n",
    "    @annotation.tailrec\n",
    "    def iter(ys: List[T], acc: Int): Int = ys match {\n",
    "        case List() => acc\n",
    "        case y :: ys1 => iter(ys1, acc + 1)\n",
    "    }\n",
    "    iter(xs, 0)\n",
    "}"
   ]
  },
  {
   "cell_type": "code",
   "execution_count": 63,
   "id": "coated-lemon",
   "metadata": {},
   "outputs": [
    {
     "data": {
      "text/plain": [
       "_100To20List: List[Int] = List(100, 98, 96, 94, 92, 90, 88, 86, 84, 82, 80, 78, 76, 74, 72, 70, 68, 66, 64, 62, 60, 58, 56, 54, 52, 50, 48, 46, 44, 42, 40, 38, 36, 34, 32, 30, 28, 26, 24, 22, 20)\n"
      ]
     },
     "execution_count": 63,
     "metadata": {},
     "output_type": "execute_result"
    }
   ],
   "source": [
    "val _100To20List = (20 to 100).toList.reverse.filter(i => i % 2 == 0)"
   ]
  },
  {
   "cell_type": "code",
   "execution_count": 64,
   "id": "frozen-absence",
   "metadata": {},
   "outputs": [
    {
     "data": {
      "text/plain": [
       "res25: Int = 41\n"
      ]
     },
     "execution_count": 64,
     "metadata": {},
     "output_type": "execute_result"
    }
   ],
   "source": [
    "_100To20List.length"
   ]
  },
  {
   "cell_type": "code",
   "execution_count": 65,
   "id": "rolled-latin",
   "metadata": {},
   "outputs": [
    {
     "data": {
      "text/plain": [
       "res26: Int = 41\n"
      ]
     },
     "execution_count": 65,
     "metadata": {},
     "output_type": "execute_result"
    }
   ],
   "source": [
    "lengthOf(_100To20List)"
   ]
  },
  {
   "cell_type": "markdown",
   "id": "separate-title",
   "metadata": {},
   "source": [
    "#### Zadanie\n",
    "napisać zestaw testów jednostkowych dla metody `lengthOf`"
   ]
  },
  {
   "cell_type": "code",
   "execution_count": 66,
   "id": "floating-subdivision",
   "metadata": {},
   "outputs": [
    {
     "data": {
      "text/plain": [
       "emptyList: List[Nothing] = List()\n",
       "_5elementList: List[Int] = List(1, 2, 3, 4, 5)\n",
       "_1To1e6List: List[Int] = List(1, 2, 3, 4, 5, 6, 7, 8, 9, 10, 11, 12, 13, 14, 15, 16, 17, 18, 19, 20, 21, 22, 23, 24, 25, 26, 27, 28, 29, 30, 31, 32, 33, 34, 35, 36, 37, 38, 39, 40, 41, 42, 43, 44, 45, 46, 47, 48, 49, 50, 51, 52, 53, 54, 55, 56, 57, 58, 59, 60, 61, 62, 63, 64, 65, 66, 67, 68, 69, 70, 71, 72, 73, 74, 75, 76, 77, 78, 79, 80, 81, 82, 83, 84, 85, 86, 87, 88, 89, 90, 91, 92, 93, 94, 95, 96, 97, 98, 99, 100, 101, 102, 103, 104, 105, 106, 107, 108, 109, 110, 111, 112, 113, 114, 115, 116, 117, 118, 119, 120, 121, 122, 123, 124, 125, 126, 127, 128, 129, 130, 131, 132, 133, 134, 135, 136, 137, 138, 139, 140, 141, 142, 143, 144, 145, 146, 147, 148, 149, 150, 151, 152, 153, 154, 155, 156, 157, 158, 159,...\n"
      ]
     },
     "execution_count": 66,
     "metadata": {},
     "output_type": "execute_result"
    }
   ],
   "source": [
    "val emptyList = List()\n",
    "assert(lengthOf(emptyList) == 0)\n",
    "\n",
    "val _5elementList = List(1, 2, 3, 4, 5)\n",
    "assert(lengthOf(_5elementList) == 5)\n",
    "\n",
    "val _1To1e6List = (1 to 1000000).toList\n",
    "assert(lengthOf(_1To1e6List) == 1000000)"
   ]
  },
  {
   "cell_type": "markdown",
   "id": "micro-belfast",
   "metadata": {},
   "source": [
    "## 2. Podstawowe kolekcje dostępne w Scali"
   ]
  },
  {
   "cell_type": "code",
   "execution_count": 67,
   "id": "horizontal-prevention",
   "metadata": {},
   "outputs": [
    {
     "data": {
      "text/plain": [
       "abcde: List[String] = List(a, b, c, d, e)\n"
      ]
     },
     "execution_count": 67,
     "metadata": {},
     "output_type": "execute_result"
    }
   ],
   "source": [
    "val abcde = List(\"a\", \"b\", \"c\", \"d\", \"e\")"
   ]
  },
  {
   "cell_type": "code",
   "execution_count": 68,
   "id": "dominant-empty",
   "metadata": {},
   "outputs": [
    {
     "data": {
      "text/plain": [
       "res28: List[String] = List(a, b)\n"
      ]
     },
     "execution_count": 68,
     "metadata": {},
     "output_type": "execute_result"
    }
   ],
   "source": [
    "abcde take 2"
   ]
  },
  {
   "cell_type": "code",
   "execution_count": 69,
   "id": "operational-kelly",
   "metadata": {},
   "outputs": [
    {
     "data": {
      "text/plain": [
       "res29: List[String] = List(c, d, e)\n"
      ]
     },
     "execution_count": 69,
     "metadata": {},
     "output_type": "execute_result"
    }
   ],
   "source": [
    "abcde drop 2"
   ]
  },
  {
   "cell_type": "code",
   "execution_count": 70,
   "id": "current-setup",
   "metadata": {},
   "outputs": [
    {
     "data": {
      "text/plain": [
       "res30: List[String] = List(c, d, e)\n"
      ]
     },
     "execution_count": 70,
     "metadata": {},
     "output_type": "execute_result"
    }
   ],
   "source": [
    "abcde.dropWhile(_ != \"c\")"
   ]
  },
  {
   "cell_type": "code",
   "execution_count": 71,
   "id": "southwest-fourth",
   "metadata": {},
   "outputs": [
    {
     "data": {
      "text/plain": [
       "res31: List[String] = List(e)\n"
      ]
     },
     "execution_count": 71,
     "metadata": {},
     "output_type": "execute_result"
    }
   ],
   "source": [
    "abcde.dropWhile(_ != \"e\")"
   ]
  },
  {
   "cell_type": "code",
   "execution_count": 72,
   "id": "practical-amateur",
   "metadata": {},
   "outputs": [
    {
     "data": {
      "text/plain": [
       "res32: List[String] = List(a, b, c, d)\n"
      ]
     },
     "execution_count": 72,
     "metadata": {},
     "output_type": "execute_result"
    }
   ],
   "source": [
    "abcde.init"
   ]
  },
  {
   "cell_type": "code",
   "execution_count": 73,
   "id": "inclusive-crown",
   "metadata": {},
   "outputs": [
    {
     "data": {
      "text/plain": [
       "res33: (List[String], List[String]) = (List(a, b),List(c, d, e))\n"
      ]
     },
     "execution_count": 73,
     "metadata": {},
     "output_type": "execute_result"
    }
   ],
   "source": [
    "abcde splitAt 2"
   ]
  },
  {
   "cell_type": "code",
   "execution_count": 74,
   "id": "assured-procurement",
   "metadata": {},
   "outputs": [
    {
     "data": {
      "text/plain": [
       "res34: scala.collection.immutable.Range = Range 0 until 5\n"
      ]
     },
     "execution_count": 74,
     "metadata": {},
     "output_type": "execute_result"
    }
   ],
   "source": [
    "abcde.indices"
   ]
  },
  {
   "cell_type": "code",
   "execution_count": 75,
   "id": "spoken-roulette",
   "metadata": {},
   "outputs": [
    {
     "data": {
      "text/plain": [
       "res35: String = List(a, b, c, d, e)\n"
      ]
     },
     "execution_count": 75,
     "metadata": {},
     "output_type": "execute_result"
    }
   ],
   "source": [
    "abcde.toString"
   ]
  },
  {
   "cell_type": "code",
   "execution_count": 76,
   "id": "wooden-owner",
   "metadata": {},
   "outputs": [
    {
     "data": {
      "text/plain": [
       "res36: String = abcde\n"
      ]
     },
     "execution_count": 76,
     "metadata": {},
     "output_type": "execute_result"
    }
   ],
   "source": [
    "abcde mkString \"\""
   ]
  },
  {
   "cell_type": "code",
   "execution_count": 77,
   "id": "eligible-vector",
   "metadata": {},
   "outputs": [
    {
     "data": {
      "text/plain": [
       "res37: String = abcde\n"
      ]
     },
     "execution_count": 77,
     "metadata": {},
     "output_type": "execute_result"
    }
   ],
   "source": [
    "abcde.mkString"
   ]
  },
  {
   "cell_type": "code",
   "execution_count": 78,
   "id": "comparative-bubble",
   "metadata": {},
   "outputs": [
    {
     "data": {
      "text/plain": [
       "res38: Array[String] = Array(a, b, c, d, e)\n"
      ]
     },
     "execution_count": 78,
     "metadata": {},
     "output_type": "execute_result"
    }
   ],
   "source": [
    "abcde.toArray"
   ]
  },
  {
   "cell_type": "markdown",
   "id": "czech-bread",
   "metadata": {},
   "source": [
    "\n"
   ]
  },
  {
   "cell_type": "code",
   "execution_count": 79,
   "id": "stock-headline",
   "metadata": {},
   "outputs": [
    {
     "data": {
      "text/plain": [
       "res39: Option[String] = Some(d)\n"
      ]
     },
     "execution_count": 79,
     "metadata": {},
     "output_type": "execute_result"
    }
   ],
   "source": [
    "abcde.find(_ == \"d\")"
   ]
  },
  {
   "cell_type": "code",
   "execution_count": 80,
   "id": "helpful-approach",
   "metadata": {},
   "outputs": [
    {
     "data": {
      "text/plain": [
       "res40: Option[String] = None\n"
      ]
     },
     "execution_count": 80,
     "metadata": {},
     "output_type": "execute_result"
    }
   ],
   "source": [
    "abcde.find(_ == \"f\")"
   ]
  },
  {
   "cell_type": "markdown",
   "id": "electronic-reasoning",
   "metadata": {},
   "source": [
    "\n"
   ]
  },
  {
   "cell_type": "code",
   "execution_count": 81,
   "id": "deluxe-virgin",
   "metadata": {},
   "outputs": [
    {
     "data": {
      "text/plain": [
       "it: Iterator[String] = <iterator>\n"
      ]
     },
     "execution_count": 81,
     "metadata": {},
     "output_type": "execute_result"
    }
   ],
   "source": [
    "val it = abcde.iterator"
   ]
  },
  {
   "cell_type": "code",
   "execution_count": 82,
   "id": "activated-ground",
   "metadata": {},
   "outputs": [
    {
     "data": {
      "text/plain": [
       "res41: String = a\n"
      ]
     },
     "execution_count": 82,
     "metadata": {},
     "output_type": "execute_result"
    }
   ],
   "source": [
    "it.next"
   ]
  },
  {
   "cell_type": "code",
   "execution_count": 83,
   "id": "durable-gnome",
   "metadata": {},
   "outputs": [
    {
     "ename": "<console>",
     "evalue": "28: error: value next is not a member of String",
     "output_type": "error",
     "traceback": [
      "<console>:28: error: value next is not a member of String",
      "       it.next.next",
      "               ^",
      ""
     ]
    }
   ],
   "source": [
    "it.next.next"
   ]
  },
  {
   "cell_type": "code",
   "execution_count": 84,
   "id": "spiritual-smile",
   "metadata": {},
   "outputs": [
    {
     "data": {
      "text/plain": [
       "res43: String = b\n"
      ]
     },
     "execution_count": 84,
     "metadata": {},
     "output_type": "execute_result"
    }
   ],
   "source": [
    "it.next"
   ]
  },
  {
   "cell_type": "markdown",
   "id": "increased-mileage",
   "metadata": {},
   "source": [
    "-----------------------"
   ]
  },
  {
   "cell_type": "code",
   "execution_count": 85,
   "id": "moderate-cursor",
   "metadata": {},
   "outputs": [
    {
     "data": {
      "text/plain": [
       "a1: Array[Int] = Array(0, 0, 0)\n"
      ]
     },
     "execution_count": 85,
     "metadata": {},
     "output_type": "execute_result"
    }
   ],
   "source": [
    "val a1 = new Array[Int](3)"
   ]
  },
  {
   "cell_type": "code",
   "execution_count": 86,
   "id": "affecting-obligation",
   "metadata": {},
   "outputs": [
    {
     "data": {
      "text/plain": [
       "a2: Array[Int] = Array(3)\n"
      ]
     },
     "execution_count": 86,
     "metadata": {},
     "output_type": "execute_result"
    }
   ],
   "source": [
    "val a2 = Array(3)"
   ]
  },
  {
   "cell_type": "code",
   "execution_count": 87,
   "id": "adolescent-asset",
   "metadata": {},
   "outputs": [],
   "source": [
    "a1(1) = a2(0)"
   ]
  },
  {
   "cell_type": "code",
   "execution_count": 88,
   "id": "understood-closing",
   "metadata": {},
   "outputs": [
    {
     "data": {
      "text/plain": [
       "res45: Array[Int] = Array(0, 3, 0)\n"
      ]
     },
     "execution_count": 88,
     "metadata": {},
     "output_type": "execute_result"
    }
   ],
   "source": [
    "a1"
   ]
  },
  {
   "cell_type": "markdown",
   "id": "still-breast",
   "metadata": {},
   "source": [
    "\n"
   ]
  },
  {
   "cell_type": "code",
   "execution_count": 89,
   "id": "cooked-texture",
   "metadata": {},
   "outputs": [
    {
     "data": {
      "text/plain": [
       "a3: Array[Int] = Array(1, 2, 3, 4, 5)\n"
      ]
     },
     "execution_count": 89,
     "metadata": {},
     "output_type": "execute_result"
    }
   ],
   "source": [
    "val a3 = Array(1, 2, 3, 4, 5)"
   ]
  },
  {
   "cell_type": "code",
   "execution_count": 90,
   "id": "forty-brunswick",
   "metadata": {},
   "outputs": [
    {
     "data": {
      "text/plain": [
       "res46: Int = 1\n"
      ]
     },
     "execution_count": 90,
     "metadata": {},
     "output_type": "execute_result"
    }
   ],
   "source": [
    "a3.head"
   ]
  },
  {
   "cell_type": "code",
   "execution_count": 91,
   "id": "exclusive-bridges",
   "metadata": {},
   "outputs": [
    {
     "data": {
      "text/plain": [
       "res47: Array[Int] = Array(2, 3, 4, 5)\n"
      ]
     },
     "execution_count": 91,
     "metadata": {},
     "output_type": "execute_result"
    }
   ],
   "source": [
    "a3.tail"
   ]
  },
  {
   "cell_type": "code",
   "execution_count": 92,
   "id": "advanced-healing",
   "metadata": {},
   "outputs": [
    {
     "data": {
      "text/plain": [
       "res48: Int = 2\n"
      ]
     },
     "execution_count": 92,
     "metadata": {},
     "output_type": "execute_result"
    }
   ],
   "source": [
    "a3.tail.head"
   ]
  },
  {
   "cell_type": "code",
   "execution_count": 93,
   "id": "mediterranean-stable",
   "metadata": {},
   "outputs": [
    {
     "data": {
      "text/plain": [
       "res49: Array[Int] = Array(3, 4, 5)\n"
      ]
     },
     "execution_count": 93,
     "metadata": {},
     "output_type": "execute_result"
    }
   ],
   "source": [
    "a3.tail.tail"
   ]
  },
  {
   "cell_type": "code",
   "execution_count": 94,
   "id": "swiss-empty",
   "metadata": {},
   "outputs": [
    {
     "data": {
      "text/plain": [
       "res50: Int = 5\n"
      ]
     },
     "execution_count": 94,
     "metadata": {},
     "output_type": "execute_result"
    }
   ],
   "source": [
    "a3.last"
   ]
  },
  {
   "cell_type": "markdown",
   "id": "smooth-aberdeen",
   "metadata": {},
   "source": [
    "\n"
   ]
  },
  {
   "cell_type": "code",
   "execution_count": 95,
   "id": "convertible-robertson",
   "metadata": {},
   "outputs": [
    {
     "data": {
      "text/plain": [
       "res51: Array[Int] = Array(1, 2)\n"
      ]
     },
     "execution_count": 95,
     "metadata": {},
     "output_type": "execute_result"
    }
   ],
   "source": [
    "a3.take(2)"
   ]
  },
  {
   "cell_type": "code",
   "execution_count": 96,
   "id": "absent-dispatch",
   "metadata": {},
   "outputs": [
    {
     "data": {
      "text/plain": [
       "res52: Array[Int] = Array(4, 5)\n"
      ]
     },
     "execution_count": 96,
     "metadata": {},
     "output_type": "execute_result"
    }
   ],
   "source": [
    "a3.drop(3)"
   ]
  },
  {
   "cell_type": "code",
   "execution_count": 97,
   "id": "completed-burke",
   "metadata": {},
   "outputs": [
    {
     "data": {
      "text/plain": [
       "res53: (Array[Int], Array[Int]) = (Array(1, 2),Array(3, 4, 5))\n"
      ]
     },
     "execution_count": 97,
     "metadata": {},
     "output_type": "execute_result"
    }
   ],
   "source": [
    "a3 splitAt 2"
   ]
  },
  {
   "cell_type": "markdown",
   "id": "passive-princeton",
   "metadata": {},
   "source": [
    "\n"
   ]
  },
  {
   "cell_type": "code",
   "execution_count": 98,
   "id": "owned-chicago",
   "metadata": {},
   "outputs": [
    {
     "data": {
      "text/plain": [
       "res54: Option[Int] = Some(4)\n"
      ]
     },
     "execution_count": 98,
     "metadata": {},
     "output_type": "execute_result"
    }
   ],
   "source": [
    "a3.find(_ > 3)"
   ]
  },
  {
   "cell_type": "code",
   "execution_count": 99,
   "id": "interested-kentucky",
   "metadata": {},
   "outputs": [
    {
     "data": {
      "text/plain": [
       "res55: Int = 4\n"
      ]
     },
     "execution_count": 99,
     "metadata": {},
     "output_type": "execute_result"
    }
   ],
   "source": [
    "a3.find(_ > 3).get"
   ]
  },
  {
   "cell_type": "code",
   "execution_count": 100,
   "id": "encouraging-morrison",
   "metadata": {},
   "outputs": [
    {
     "data": {
      "text/plain": [
       "res56: Array[Int] = Array(1, 2, 3)\n"
      ]
     },
     "execution_count": 100,
     "metadata": {},
     "output_type": "execute_result"
    }
   ],
   "source": [
    "a3.takeWhile(_ < 4)"
   ]
  },
  {
   "cell_type": "code",
   "execution_count": 101,
   "id": "thorough-values",
   "metadata": {},
   "outputs": [
    {
     "data": {
      "text/plain": [
       "res57: Array[Int] = Array(3, 4, 5)\n"
      ]
     },
     "execution_count": 101,
     "metadata": {},
     "output_type": "execute_result"
    }
   ],
   "source": [
    "a3.dropWhile(_ < 3)"
   ]
  },
  {
   "cell_type": "markdown",
   "id": "logical-country",
   "metadata": {},
   "source": [
    "------------------------"
   ]
  },
  {
   "cell_type": "code",
   "execution_count": 102,
   "id": "comparable-price",
   "metadata": {},
   "outputs": [
    {
     "data": {
      "text/plain": [
       "s123: scala.collection.immutable.Set[Int] = Set(1, 2, 3)\n"
      ]
     },
     "execution_count": 102,
     "metadata": {},
     "output_type": "execute_result"
    }
   ],
   "source": [
    "val s123 = Set(1, 2, 3)"
   ]
  },
  {
   "cell_type": "code",
   "execution_count": 103,
   "id": "theoretical-province",
   "metadata": {},
   "outputs": [
    {
     "data": {
      "text/plain": [
       "s1234: scala.collection.immutable.Set[Int] = Set(1, 2, 3, 4)\n"
      ]
     },
     "execution_count": 103,
     "metadata": {},
     "output_type": "execute_result"
    }
   ],
   "source": [
    "val s1234 = s123 + 4"
   ]
  },
  {
   "cell_type": "code",
   "execution_count": 104,
   "id": "needed-drain",
   "metadata": {},
   "outputs": [
    {
     "data": {
      "text/plain": [
       "s124: scala.collection.immutable.Set[Int] = Set(1, 2, 4)\n"
      ]
     },
     "execution_count": 104,
     "metadata": {},
     "output_type": "execute_result"
    }
   ],
   "source": [
    "val s124 = s1234 - 3"
   ]
  },
  {
   "cell_type": "code",
   "execution_count": 105,
   "id": "circular-clarity",
   "metadata": {},
   "outputs": [
    {
     "data": {
      "text/plain": [
       "s12456: scala.collection.immutable.Set[Int] = Set(5, 1, 6, 2, 4)\n"
      ]
     },
     "execution_count": 105,
     "metadata": {},
     "output_type": "execute_result"
    }
   ],
   "source": [
    "val s12456 = s124 ++ List(5, 6)"
   ]
  },
  {
   "cell_type": "code",
   "execution_count": 106,
   "id": "cultural-acting",
   "metadata": {},
   "outputs": [
    {
     "data": {
      "text/plain": [
       "s456: scala.collection.immutable.Set[Int] = Set(5, 6, 4)\n"
      ]
     },
     "execution_count": 106,
     "metadata": {},
     "output_type": "execute_result"
    }
   ],
   "source": [
    "val s456 = s12456 -- List(1, 2)"
   ]
  },
  {
   "cell_type": "code",
   "execution_count": 107,
   "id": "numerical-turner",
   "metadata": {},
   "outputs": [
    {
     "data": {
      "text/plain": [
       "s45: scala.collection.immutable.Set[Int] = Set(5, 4)\n"
      ]
     },
     "execution_count": 107,
     "metadata": {},
     "output_type": "execute_result"
    }
   ],
   "source": [
    "val s45 = s456 & Set(3, 4, 5)"
   ]
  },
  {
   "cell_type": "code",
   "execution_count": 108,
   "id": "juvenile-table",
   "metadata": {},
   "outputs": [
    {
     "data": {
      "text/plain": [
       "res58: Int = 2\n"
      ]
     },
     "execution_count": 108,
     "metadata": {},
     "output_type": "execute_result"
    }
   ],
   "source": [
    "s45.size"
   ]
  },
  {
   "cell_type": "code",
   "execution_count": 109,
   "id": "overall-monitor",
   "metadata": {},
   "outputs": [
    {
     "data": {
      "text/plain": [
       "res59: Boolean = true\n"
      ]
     },
     "execution_count": 109,
     "metadata": {},
     "output_type": "execute_result"
    }
   ],
   "source": [
    "s12456.contains(5)"
   ]
  },
  {
   "cell_type": "code",
   "execution_count": 110,
   "id": "stuck-encoding",
   "metadata": {},
   "outputs": [
    {
     "data": {
      "text/plain": [
       "res60: Boolean = false\n"
      ]
     },
     "execution_count": 110,
     "metadata": {},
     "output_type": "execute_result"
    }
   ],
   "source": [
    "s12456.contains(9)"
   ]
  },
  {
   "cell_type": "markdown",
   "id": "naughty-figure",
   "metadata": {},
   "source": [
    "\n"
   ]
  },
  {
   "cell_type": "code",
   "execution_count": 111,
   "id": "handmade-archives",
   "metadata": {},
   "outputs": [
    {
     "data": {
      "text/plain": [
       "fruits: scala.collection.mutable.Set[String] = Set()\n"
      ]
     },
     "execution_count": 111,
     "metadata": {},
     "output_type": "execute_result"
    }
   ],
   "source": [
    "val fruits = collection.mutable.Set.empty[String]"
   ]
  },
  {
   "cell_type": "code",
   "execution_count": 112,
   "id": "imperial-bleeding",
   "metadata": {},
   "outputs": [
    {
     "data": {
      "text/plain": [
       "res61: fruits.type = Set(apple)\n"
      ]
     },
     "execution_count": 112,
     "metadata": {},
     "output_type": "execute_result"
    }
   ],
   "source": [
    "fruits += \"apple\""
   ]
  },
  {
   "cell_type": "code",
   "execution_count": 113,
   "id": "personalized-lover",
   "metadata": {},
   "outputs": [
    {
     "data": {
      "text/plain": [
       "res62: fruits.type = Set(pear, apple)\n"
      ]
     },
     "execution_count": 113,
     "metadata": {},
     "output_type": "execute_result"
    }
   ],
   "source": [
    "fruits += \"pear\""
   ]
  },
  {
   "cell_type": "code",
   "execution_count": 114,
   "id": "supreme-construction",
   "metadata": {},
   "outputs": [
    {
     "data": {
      "text/plain": [
       "res63: fruits.type = Set(pear, apple, plum)\n"
      ]
     },
     "execution_count": 114,
     "metadata": {},
     "output_type": "execute_result"
    }
   ],
   "source": [
    "fruits += \"plum\""
   ]
  },
  {
   "cell_type": "code",
   "execution_count": 115,
   "id": "broken-brunei",
   "metadata": {},
   "outputs": [
    {
     "data": {
      "text/plain": [
       "res64: fruits.type = Set(pear, apple, orange, plum)\n"
      ]
     },
     "execution_count": 115,
     "metadata": {},
     "output_type": "execute_result"
    }
   ],
   "source": [
    "fruits += \"orange\""
   ]
  },
  {
   "cell_type": "code",
   "execution_count": 116,
   "id": "prerequisite-gender",
   "metadata": {},
   "outputs": [
    {
     "data": {
      "text/plain": [
       "res65: fruits.type = Set(pear, apple, orange, plum)\n"
      ]
     },
     "execution_count": 116,
     "metadata": {},
     "output_type": "execute_result"
    }
   ],
   "source": [
    "fruits += \"orange\""
   ]
  },
  {
   "cell_type": "code",
   "execution_count": 117,
   "id": "norman-reconstruction",
   "metadata": {},
   "outputs": [
    {
     "data": {
      "text/plain": [
       "res66: fruits.type = Set(pear, banana, lemon, apple, orange, plum)\n"
      ]
     },
     "execution_count": 117,
     "metadata": {},
     "output_type": "execute_result"
    }
   ],
   "source": [
    "fruits ++= List(\"lemon\", \"banana\")"
   ]
  },
  {
   "cell_type": "code",
   "execution_count": 118,
   "id": "patient-movie",
   "metadata": {},
   "outputs": [],
   "source": [
    "fruits.clear"
   ]
  },
  {
   "cell_type": "code",
   "execution_count": 119,
   "id": "latin-paintball",
   "metadata": {},
   "outputs": [
    {
     "data": {
      "text/plain": [
       "res68: scala.collection.mutable.Set[String] = Set()\n"
      ]
     },
     "execution_count": 119,
     "metadata": {},
     "output_type": "execute_result"
    }
   ],
   "source": [
    "fruits"
   ]
  },
  {
   "cell_type": "markdown",
   "id": "statewide-negative",
   "metadata": {},
   "source": [
    "\n"
   ]
  },
  {
   "cell_type": "code",
   "execution_count": 120,
   "id": "continent-science",
   "metadata": {},
   "outputs": [
    {
     "data": {
      "text/plain": [
       "ms: scala.collection.mutable.Set[Int] = Set(1, 2, 3)\n"
      ]
     },
     "execution_count": 120,
     "metadata": {},
     "output_type": "execute_result"
    }
   ],
   "source": [
    "val ms = collection.mutable.Set.empty ++= collection.immutable.Set(1, 2, 3)"
   ]
  },
  {
   "cell_type": "code",
   "execution_count": 121,
   "id": "supreme-imagination",
   "metadata": {},
   "outputs": [
    {
     "data": {
      "text/plain": [
       "ims: scala.collection.mutable.Set[Int] = Set(1, 2, 3)\n"
      ]
     },
     "execution_count": 121,
     "metadata": {},
     "output_type": "execute_result"
    }
   ],
   "source": [
    "val ims = collection.mutable.Set.empty ++ collection.immutable.Set(1, 2, 3)"
   ]
  },
  {
   "cell_type": "markdown",
   "id": "returning-serum",
   "metadata": {},
   "source": [
    "--------------------------------------"
   ]
  },
  {
   "cell_type": "code",
   "execution_count": 122,
   "id": "adaptive-writing",
   "metadata": {},
   "outputs": [
    {
     "data": {
      "text/plain": [
       "romanToArabic: scala.collection.immutable.Map[String,Int] = Map(I -> 1, II -> 2)\n"
      ]
     },
     "execution_count": 122,
     "metadata": {},
     "output_type": "execute_result"
    }
   ],
   "source": [
    "val romanToArabic = Map(\"I\" -> 1, \"II\" -> 2)"
   ]
  },
  {
   "cell_type": "code",
   "execution_count": 123,
   "id": "medium-suite",
   "metadata": {},
   "outputs": [
    {
     "data": {
      "text/plain": [
       "res69: scala.collection.immutable.Map[String,Int] = Map(I -> 1, II -> 2, VI -> 6)\n"
      ]
     },
     "execution_count": 123,
     "metadata": {},
     "output_type": "execute_result"
    }
   ],
   "source": [
    "romanToArabic + (\"VI\" -> 6)"
   ]
  },
  {
   "cell_type": "code",
   "execution_count": 124,
   "id": "guilty-description",
   "metadata": {},
   "outputs": [
    {
     "data": {
      "text/plain": [
       "res70: scala.collection.immutable.Map[String,Int] = Map(II -> 2)\n"
      ]
     },
     "execution_count": 124,
     "metadata": {},
     "output_type": "execute_result"
    }
   ],
   "source": [
    "romanToArabic - \"I\""
   ]
  },
  {
   "cell_type": "code",
   "execution_count": 125,
   "id": "weekly-manhattan",
   "metadata": {},
   "outputs": [
    {
     "data": {
      "text/plain": [
       "res71: scala.collection.immutable.Map[String,Int] = Map(I -> 1, II -> 2, III -> 3, V -> 5)\n"
      ]
     },
     "execution_count": 125,
     "metadata": {},
     "output_type": "execute_result"
    }
   ],
   "source": [
    "romanToArabic ++ List(\"III\" -> 3, \"V\" -> 5)"
   ]
  },
  {
   "cell_type": "code",
   "execution_count": 126,
   "id": "distinct-palestine",
   "metadata": {},
   "outputs": [
    {
     "data": {
      "text/plain": [
       "res72: scala.collection.immutable.Map[String,Int] = Map()\n"
      ]
     },
     "execution_count": 126,
     "metadata": {},
     "output_type": "execute_result"
    }
   ],
   "source": [
    "romanToArabic -- List(\"I\", \"II\")"
   ]
  },
  {
   "cell_type": "code",
   "execution_count": 127,
   "id": "neural-midwest",
   "metadata": {},
   "outputs": [
    {
     "data": {
      "text/plain": [
       "res73: Int = 2\n"
      ]
     },
     "execution_count": 127,
     "metadata": {},
     "output_type": "execute_result"
    }
   ],
   "source": [
    "romanToArabic.size"
   ]
  },
  {
   "cell_type": "code",
   "execution_count": 128,
   "id": "published-particular",
   "metadata": {},
   "outputs": [
    {
     "data": {
      "text/plain": [
       "res74: Boolean = true\n"
      ]
     },
     "execution_count": 128,
     "metadata": {},
     "output_type": "execute_result"
    }
   ],
   "source": [
    "romanToArabic.contains(\"I\")"
   ]
  },
  {
   "cell_type": "code",
   "execution_count": 129,
   "id": "recovered-medicine",
   "metadata": {},
   "outputs": [
    {
     "data": {
      "text/plain": [
       "res75: Boolean = false\n"
      ]
     },
     "execution_count": 129,
     "metadata": {},
     "output_type": "execute_result"
    }
   ],
   "source": [
    "romanToArabic.contains(\"L\")"
   ]
  },
  {
   "cell_type": "code",
   "execution_count": 130,
   "id": "hazardous-bundle",
   "metadata": {},
   "outputs": [
    {
     "data": {
      "text/plain": [
       "res76: Int = 1\n"
      ]
     },
     "execution_count": 130,
     "metadata": {},
     "output_type": "execute_result"
    }
   ],
   "source": [
    "romanToArabic(\"I\")"
   ]
  },
  {
   "cell_type": "code",
   "execution_count": 131,
   "id": "falling-genius",
   "metadata": {},
   "outputs": [
    {
     "data": {
      "text/plain": [
       "res77: Iterable[String] = Set(I, II)\n"
      ]
     },
     "execution_count": 131,
     "metadata": {},
     "output_type": "execute_result"
    }
   ],
   "source": [
    "romanToArabic.keys"
   ]
  },
  {
   "cell_type": "code",
   "execution_count": 132,
   "id": "overall-course",
   "metadata": {},
   "outputs": [
    {
     "data": {
      "text/plain": [
       "res78: scala.collection.immutable.Set[String] = Set(I, II)\n"
      ]
     },
     "execution_count": 132,
     "metadata": {},
     "output_type": "execute_result"
    }
   ],
   "source": [
    "romanToArabic.keySet"
   ]
  },
  {
   "cell_type": "code",
   "execution_count": 133,
   "id": "adaptive-temperature",
   "metadata": {},
   "outputs": [
    {
     "data": {
      "text/plain": [
       "res79: Iterable[Int] = MapLike.DefaultValuesIterable(1, 2)\n"
      ]
     },
     "execution_count": 133,
     "metadata": {},
     "output_type": "execute_result"
    }
   ],
   "source": [
    "romanToArabic.values"
   ]
  },
  {
   "cell_type": "code",
   "execution_count": 134,
   "id": "complex-skirt",
   "metadata": {},
   "outputs": [
    {
     "data": {
      "text/plain": [
       "res80: Boolean = false\n"
      ]
     },
     "execution_count": 134,
     "metadata": {},
     "output_type": "execute_result"
    }
   ],
   "source": [
    "romanToArabic.isEmpty"
   ]
  },
  {
   "cell_type": "markdown",
   "id": "peaceful-courage",
   "metadata": {},
   "source": [
    "\n"
   ]
  },
  {
   "cell_type": "code",
   "execution_count": 135,
   "id": "harmful-command",
   "metadata": {},
   "outputs": [
    {
     "data": {
      "text/plain": [
       "import scala.collection.mutable\n",
       "romanToArabic: scala.collection.mutable.Map[String,Int] = Map()\n"
      ]
     },
     "execution_count": 135,
     "metadata": {},
     "output_type": "execute_result"
    }
   ],
   "source": [
    "import scala.collection.mutable\n",
    "val romanToArabic = mutable.Map.empty[String, Int]"
   ]
  },
  {
   "cell_type": "code",
   "execution_count": 136,
   "id": "informal-picture",
   "metadata": {},
   "outputs": [
    {
     "data": {
      "text/plain": [
       "res81: romanToArabic.type = Map(I -> 1)\n"
      ]
     },
     "execution_count": 136,
     "metadata": {},
     "output_type": "execute_result"
    }
   ],
   "source": [
    "romanToArabic += (\"I\" -> 1)"
   ]
  },
  {
   "cell_type": "code",
   "execution_count": 137,
   "id": "offshore-street",
   "metadata": {},
   "outputs": [
    {
     "data": {
      "text/plain": [
       "res82: romanToArabic.type = Map(I -> 1, II -> 2)\n"
      ]
     },
     "execution_count": 137,
     "metadata": {},
     "output_type": "execute_result"
    }
   ],
   "source": [
    "romanToArabic += (\"II\" -> 2)"
   ]
  },
  {
   "cell_type": "code",
   "execution_count": 138,
   "id": "dangerous-liberal",
   "metadata": {},
   "outputs": [
    {
     "data": {
      "text/plain": [
       "res83: romanToArabic.type = Map(I -> 1)\n"
      ]
     },
     "execution_count": 138,
     "metadata": {},
     "output_type": "execute_result"
    }
   ],
   "source": [
    "romanToArabic -= \"II\""
   ]
  },
  {
   "cell_type": "code",
   "execution_count": 139,
   "id": "improving-peoples",
   "metadata": {},
   "outputs": [
    {
     "data": {
      "text/plain": [
       "res84: romanToArabic.type = Map(III -> 3, IV -> 4, I -> 1, II -> 2)\n"
      ]
     },
     "execution_count": 139,
     "metadata": {},
     "output_type": "execute_result"
    }
   ],
   "source": [
    "romanToArabic ++= List(\"II\" -> 2, \"III\" -> 3, \"IV\" -> 4)"
   ]
  },
  {
   "cell_type": "code",
   "execution_count": 140,
   "id": "western-productivity",
   "metadata": {},
   "outputs": [
    {
     "data": {
      "text/plain": [
       "res85: romanToArabic.type = Map(I -> 1, II -> 2)\n"
      ]
     },
     "execution_count": 140,
     "metadata": {},
     "output_type": "execute_result"
    }
   ],
   "source": [
    "romanToArabic --= List(\"III\", \"IV\")"
   ]
  },
  {
   "cell_type": "markdown",
   "id": "incoming-butter",
   "metadata": {},
   "source": [
    "\n"
   ]
  },
  {
   "cell_type": "code",
   "execution_count": 141,
   "id": "similar-representative",
   "metadata": {},
   "outputs": [
    {
     "data": {
      "text/plain": [
       "immutMap: scala.collection.immutable.Map[String,Int] = Map(I -> 1, II -> 2)\n"
      ]
     },
     "execution_count": 141,
     "metadata": {},
     "output_type": "execute_result"
    }
   ],
   "source": [
    "val immutMap = collection.immutable.Map.empty ++ collection.mutable.Map(\"I\" -> 1, \"II\" -> 2)"
   ]
  },
  {
   "cell_type": "code",
   "execution_count": 142,
   "id": "confirmed-improvement",
   "metadata": {},
   "outputs": [
    {
     "data": {
      "text/plain": [
       "mutMap: scala.collection.mutable.Map[String,Int] = Map(I -> 1, II -> 2)\n"
      ]
     },
     "execution_count": 142,
     "metadata": {},
     "output_type": "execute_result"
    }
   ],
   "source": [
    "val mutMap = collection.mutable.Map.empty ++= collection.immutable.Map(\"I\" -> 1, \"II\" -> 2)"
   ]
  },
  {
   "cell_type": "markdown",
   "id": "neither-election",
   "metadata": {},
   "source": [
    "---------------------"
   ]
  },
  {
   "cell_type": "code",
   "execution_count": 143,
   "id": "moral-carolina",
   "metadata": {},
   "outputs": [
    {
     "data": {
      "text/plain": [
       "import scala.collection.immutable.TreeSet\n",
       "res86: scala.collection.immutable.TreeSet[Int] = TreeSet(0, 1, 2, 3, 4, 5, 6, 7, 8, 9)\n"
      ]
     },
     "execution_count": 143,
     "metadata": {},
     "output_type": "execute_result"
    }
   ],
   "source": [
    "import scala.collection.immutable.TreeSet\n",
    "TreeSet(9, 3, 1, 8, 0, 2, 7, 4, 6, 5)"
   ]
  },
  {
   "cell_type": "code",
   "execution_count": 144,
   "id": "applicable-british",
   "metadata": {},
   "outputs": [
    {
     "data": {
      "text/plain": [
       "import scala.collection.immutable.TreeMap\n",
       "res87: scala.collection.immutable.TreeSet[(Int, String)] = TreeSet((1,I), (3,III), (4,IV))\n"
      ]
     },
     "execution_count": 144,
     "metadata": {},
     "output_type": "execute_result"
    }
   ],
   "source": [
    "import scala.collection.immutable.TreeMap\n",
    "TreeSet(3 -> \"III\", 1 -> \"I\", 4 -> \"IV\")"
   ]
  },
  {
   "cell_type": "markdown",
   "id": "earlier-gilbert",
   "metadata": {},
   "source": [
    "---------------------"
   ]
  },
  {
   "cell_type": "code",
   "execution_count": 145,
   "id": "yellow-valentine",
   "metadata": {},
   "outputs": [
    {
     "data": {
      "text/plain": [
       "t3: (Int, String, Double) = (1,a,1.5)\n"
      ]
     },
     "execution_count": 145,
     "metadata": {},
     "output_type": "execute_result"
    }
   ],
   "source": [
    "val t3 = (1, \"a\", 1.5)"
   ]
  },
  {
   "cell_type": "code",
   "execution_count": 146,
   "id": "listed-benefit",
   "metadata": {},
   "outputs": [
    {
     "data": {
      "text/plain": [
       "res88: Int = 1\n"
      ]
     },
     "execution_count": 146,
     "metadata": {},
     "output_type": "execute_result"
    }
   ],
   "source": [
    "t3._1"
   ]
  },
  {
   "cell_type": "code",
   "execution_count": 147,
   "id": "digital-sarah",
   "metadata": {},
   "outputs": [
    {
     "data": {
      "text/plain": [
       "res89: String = a\n"
      ]
     },
     "execution_count": 147,
     "metadata": {},
     "output_type": "execute_result"
    }
   ],
   "source": [
    "t3._2"
   ]
  },
  {
   "cell_type": "code",
   "execution_count": 148,
   "id": "naval-congo",
   "metadata": {},
   "outputs": [
    {
     "data": {
      "text/plain": [
       "res90: Double = 1.5\n"
      ]
     },
     "execution_count": 148,
     "metadata": {},
     "output_type": "execute_result"
    }
   ],
   "source": [
    "t3._3"
   ]
  },
  {
   "cell_type": "code",
   "execution_count": 149,
   "id": "agreed-going",
   "metadata": {},
   "outputs": [
    {
     "data": {
      "text/plain": [
       "i: Int = 1\n",
       "s: String = a\n"
      ]
     },
     "execution_count": 149,
     "metadata": {},
     "output_type": "execute_result"
    }
   ],
   "source": [
    "val (i, s, _) = t3"
   ]
  },
  {
   "cell_type": "code",
   "execution_count": 150,
   "id": "signed-headline",
   "metadata": {},
   "outputs": [
    {
     "ename": "<console>",
     "evalue": "29: error: reassignment to val",
     "output_type": "error",
     "traceback": [
      "<console>:29: error: reassignment to val",
      "       t3 = (2, \"b\", 2.5)",
      "          ^",
      ""
     ]
    }
   ],
   "source": [
    "t3 = (2, \"b\", 2.5)"
   ]
  },
  {
   "cell_type": "code",
   "execution_count": 151,
   "id": "acknowledged-shower",
   "metadata": {},
   "outputs": [
    {
     "ename": "<console>",
     "evalue": "29: error: reassignment to val",
     "output_type": "error",
     "traceback": [
      "<console>:29: error: reassignment to val",
      "       t3._1 = 2",
      "             ^",
      ""
     ]
    }
   ],
   "source": [
    "t3._1 = 2"
   ]
  },
  {
   "cell_type": "code",
   "execution_count": 152,
   "id": "proved-spray",
   "metadata": {},
   "outputs": [
    {
     "ename": "<console>",
     "evalue": "29: error: reassignment to val",
     "output_type": "error",
     "traceback": [
      "<console>:29: error: reassignment to val",
      "       t3._2 = \"b\"",
      "             ^",
      ""
     ]
    }
   ],
   "source": [
    "t3._2 = \"b\""
   ]
  },
  {
   "cell_type": "code",
   "execution_count": 153,
   "id": "authentic-advice",
   "metadata": {},
   "outputs": [
    {
     "ename": "<console>",
     "evalue": "29: error: reassignment to val",
     "output_type": "error",
     "traceback": [
      "<console>:29: error: reassignment to val",
      "       t3._3 = 2.5",
      "             ^",
      ""
     ]
    }
   ],
   "source": [
    "t3._3 = 2.5"
   ]
  },
  {
   "cell_type": "markdown",
   "id": "published-eating",
   "metadata": {},
   "source": [
    "--------------------"
   ]
  },
  {
   "cell_type": "code",
   "execution_count": 154,
   "id": "threaded-executive",
   "metadata": {},
   "outputs": [
    {
     "data": {
      "text/plain": [
       "import scala.collection.mutable.ArrayBuffer\n"
      ]
     },
     "execution_count": 154,
     "metadata": {},
     "output_type": "execute_result"
    }
   ],
   "source": [
    "import scala.collection.mutable.ArrayBuffer"
   ]
  },
  {
   "cell_type": "code",
   "execution_count": 155,
   "id": "comic-south",
   "metadata": {},
   "outputs": [
    {
     "data": {
      "text/plain": [
       "buf: scala.collection.mutable.ArrayBuffer[Int] = ArrayBuffer()\n"
      ]
     },
     "execution_count": 155,
     "metadata": {},
     "output_type": "execute_result"
    }
   ],
   "source": [
    "val buf = new ArrayBuffer[Int]()"
   ]
  },
  {
   "cell_type": "code",
   "execution_count": 156,
   "id": "rubber-assist",
   "metadata": {},
   "outputs": [
    {
     "data": {
      "text/plain": [
       "res91: Int = 0\n"
      ]
     },
     "execution_count": 156,
     "metadata": {},
     "output_type": "execute_result"
    }
   ],
   "source": [
    "buf.size"
   ]
  },
  {
   "cell_type": "code",
   "execution_count": 157,
   "id": "aware-soccer",
   "metadata": {},
   "outputs": [
    {
     "data": {
      "text/plain": [
       "res92: buf.type = ArrayBuffer(1)\n"
      ]
     },
     "execution_count": 157,
     "metadata": {},
     "output_type": "execute_result"
    }
   ],
   "source": [
    "buf += 1"
   ]
  },
  {
   "cell_type": "code",
   "execution_count": 158,
   "id": "dangerous-vietnam",
   "metadata": {},
   "outputs": [
    {
     "data": {
      "text/plain": [
       "res93: buf.type = ArrayBuffer(1, 2)\n"
      ]
     },
     "execution_count": 158,
     "metadata": {},
     "output_type": "execute_result"
    }
   ],
   "source": [
    "buf += 2"
   ]
  },
  {
   "cell_type": "code",
   "execution_count": 159,
   "id": "concerned-fluid",
   "metadata": {},
   "outputs": [
    {
     "data": {
      "text/plain": [
       "res94: Int = 2\n"
      ]
     },
     "execution_count": 159,
     "metadata": {},
     "output_type": "execute_result"
    }
   ],
   "source": [
    "buf.length"
   ]
  },
  {
   "cell_type": "code",
   "execution_count": 160,
   "id": "deadly-density",
   "metadata": {},
   "outputs": [
    {
     "data": {
      "text/plain": [
       "res95: Int = 2\n"
      ]
     },
     "execution_count": 160,
     "metadata": {},
     "output_type": "execute_result"
    }
   ],
   "source": [
    "buf.size"
   ]
  },
  {
   "cell_type": "code",
   "execution_count": 161,
   "id": "looking-quality",
   "metadata": {},
   "outputs": [
    {
     "data": {
      "text/plain": [
       "res96: Int = 1\n"
      ]
     },
     "execution_count": 161,
     "metadata": {},
     "output_type": "execute_result"
    }
   ],
   "source": [
    "buf(0)"
   ]
  },
  {
   "cell_type": "code",
   "execution_count": 162,
   "id": "advisory-charleston",
   "metadata": {},
   "outputs": [],
   "source": [
    "buf(1) = 20"
   ]
  },
  {
   "cell_type": "code",
   "execution_count": 163,
   "id": "retired-passing",
   "metadata": {},
   "outputs": [
    {
     "data": {
      "text/plain": [
       "res98: Array[Int] = Array(1, 20)\n"
      ]
     },
     "execution_count": 163,
     "metadata": {},
     "output_type": "execute_result"
    }
   ],
   "source": [
    "buf.toArray"
   ]
  },
  {
   "cell_type": "markdown",
   "id": "egyptian-sensitivity",
   "metadata": {},
   "source": [
    "---------------------------------"
   ]
  },
  {
   "cell_type": "code",
   "execution_count": 164,
   "id": "fantastic-accused",
   "metadata": {},
   "outputs": [
    {
     "data": {
      "text/plain": [
       "import scala.collection.mutable.ListBuffer\n"
      ]
     },
     "execution_count": 164,
     "metadata": {},
     "output_type": "execute_result"
    }
   ],
   "source": [
    "import scala.collection.mutable.ListBuffer"
   ]
  },
  {
   "cell_type": "code",
   "execution_count": 165,
   "id": "verbal-conditions",
   "metadata": {},
   "outputs": [
    {
     "data": {
      "text/plain": [
       "buf: scala.collection.mutable.ListBuffer[Int] = ListBuffer()\n"
      ]
     },
     "execution_count": 165,
     "metadata": {},
     "output_type": "execute_result"
    }
   ],
   "source": [
    "val buf = new ListBuffer[Int]"
   ]
  },
  {
   "cell_type": "code",
   "execution_count": 166,
   "id": "thirty-second",
   "metadata": {},
   "outputs": [
    {
     "data": {
      "text/plain": [
       "res99: buf.type = ListBuffer(1)\n"
      ]
     },
     "execution_count": 166,
     "metadata": {},
     "output_type": "execute_result"
    }
   ],
   "source": [
    "buf += 1"
   ]
  },
  {
   "cell_type": "code",
   "execution_count": 167,
   "id": "suburban-september",
   "metadata": {},
   "outputs": [
    {
     "data": {
      "text/plain": [
       "res100: buf.type = ListBuffer(1, 2)\n"
      ]
     },
     "execution_count": 167,
     "metadata": {},
     "output_type": "execute_result"
    }
   ],
   "source": [
    "buf += 2"
   ]
  },
  {
   "cell_type": "code",
   "execution_count": 168,
   "id": "frequent-concert",
   "metadata": {},
   "outputs": [
    {
     "data": {
      "text/plain": [
       "res101: scala.collection.mutable.ListBuffer[Int] = ListBuffer(1, 2)\n"
      ]
     },
     "execution_count": 168,
     "metadata": {},
     "output_type": "execute_result"
    }
   ],
   "source": [
    "buf"
   ]
  },
  {
   "cell_type": "code",
   "execution_count": 169,
   "id": "medium-wellington",
   "metadata": {},
   "outputs": [
    {
     "data": {
      "text/plain": [
       "res102: buf.type = ListBuffer(3, 1, 2)\n"
      ]
     },
     "execution_count": 169,
     "metadata": {},
     "output_type": "execute_result"
    }
   ],
   "source": [
    "3 +=: buf"
   ]
  },
  {
   "cell_type": "code",
   "execution_count": 170,
   "id": "charitable-comfort",
   "metadata": {},
   "outputs": [
    {
     "data": {
      "text/plain": [
       "res103: List[Int] = List(3, 1, 2)\n"
      ]
     },
     "execution_count": 170,
     "metadata": {},
     "output_type": "execute_result"
    }
   ],
   "source": [
    "buf.toList"
   ]
  },
  {
   "cell_type": "markdown",
   "id": "identical-berlin",
   "metadata": {},
   "source": [
    "## 3. Operatory: `filter`, `map`, `flatten`, `flatMap`, `reduce`, `fold`, `zip`, `foreach`"
   ]
  },
  {
   "cell_type": "code",
   "execution_count": 171,
   "id": "smooth-warehouse",
   "metadata": {},
   "outputs": [
    {
     "data": {
      "text/plain": [
       "s67: scala.collection.immutable.Set[Int] = Set(6, 7)\n"
      ]
     },
     "execution_count": 171,
     "metadata": {},
     "output_type": "execute_result"
    }
   ],
   "source": [
    "val s67 = Set(1, 2, 3, 4, 5, 6, 7).filter(_ > 5)"
   ]
  },
  {
   "cell_type": "code",
   "execution_count": 172,
   "id": "cathedral-brother",
   "metadata": {},
   "outputs": [
    {
     "data": {
      "text/plain": [
       "a1: Array[String] = Array(Scala, Clojure, Groovy)\n"
      ]
     },
     "execution_count": 172,
     "metadata": {},
     "output_type": "execute_result"
    }
   ],
   "source": [
    "val a1 = Array(\"Scala\", \"Clojure\", \"Groovy\", \"Java\").filter(_.length > 4)"
   ]
  },
  {
   "cell_type": "code",
   "execution_count": 173,
   "id": "developmental-concern",
   "metadata": {},
   "outputs": [
    {
     "data": {
      "text/plain": [
       "vWithN: scala.collection.immutable.Map[String,String] = Map(blue -> niebieski, red -> czerwony)\n"
      ]
     },
     "execution_count": 173,
     "metadata": {},
     "output_type": "execute_result"
    }
   ],
   "source": [
    "val vWithN = Map(\"blue\" -> \"niebieski\", \"white\" -> \"biały\", \"red\" -> \"czerwony\")\n",
    "    .filter{ case (_, v) => v.contains(\"n\") }"
   ]
  },
  {
   "cell_type": "markdown",
   "id": "artificial-wells",
   "metadata": {},
   "source": [
    "-----------------"
   ]
  },
  {
   "cell_type": "code",
   "execution_count": 174,
   "id": "floating-angle",
   "metadata": {},
   "outputs": [
    {
     "data": {
      "text/plain": [
       "res104: Array[Int] = Array(1, 4, 9, 16)\n"
      ]
     },
     "execution_count": 174,
     "metadata": {},
     "output_type": "execute_result"
    }
   ],
   "source": [
    "for (e <- Array(1, 2, 3, 4)) yield (e * e)"
   ]
  },
  {
   "cell_type": "code",
   "execution_count": 175,
   "id": "inclusive-refund",
   "metadata": {},
   "outputs": [
    {
     "data": {
      "text/plain": [
       "res105: Array[Int] = Array(1, 4, 9, 16)\n"
      ]
     },
     "execution_count": 175,
     "metadata": {},
     "output_type": "execute_result"
    }
   ],
   "source": [
    "Array(1, 2, 3, 4).map(e => e * e)"
   ]
  },
  {
   "cell_type": "code",
   "execution_count": 176,
   "id": "adequate-westminster",
   "metadata": {},
   "outputs": [
    {
     "data": {
      "text/plain": [
       "res106: scala.collection.immutable.Set[Int] = Set(1, 2, 3)\n"
      ]
     },
     "execution_count": 176,
     "metadata": {},
     "output_type": "execute_result"
    }
   ],
   "source": [
    "Set(\"I\", \"II\", \"III\").map{ Map(\"I\" -> 1, \"II\" -> 2, \"III\" -> 3) }"
   ]
  },
  {
   "cell_type": "code",
   "execution_count": 177,
   "id": "equivalent-delhi",
   "metadata": {},
   "outputs": [
    {
     "data": {
      "text/plain": [
       "res107: List[(String, Int)] = List((a,1), (bb,2), (ccc,3))\n"
      ]
     },
     "execution_count": 177,
     "metadata": {},
     "output_type": "execute_result"
    }
   ],
   "source": [
    "List(\"a\", \"bb\", \"ccc\").map(e => (e, e.length))"
   ]
  },
  {
   "cell_type": "code",
   "execution_count": 178,
   "id": "formed-snake",
   "metadata": {},
   "outputs": [
    {
     "data": {
      "text/plain": [
       "res108: Array[List[Int]] = Array(List(1, 4, 9), List(16, 25, 36), List(49, 64, 81))\n"
      ]
     },
     "execution_count": 178,
     "metadata": {},
     "output_type": "execute_result"
    }
   ],
   "source": [
    "Array(List(1, 2, 3), List(4, 5, 6), List(7, 8, 9)).map(e1 => e1.map(e2 => e2 * e2))"
   ]
  },
  {
   "cell_type": "code",
   "execution_count": 179,
   "id": "daily-benjamin",
   "metadata": {},
   "outputs": [
    {
     "data": {
      "text/plain": [
       "res109: Array[String] = Array(1, 10, 1000, 10000)\n"
      ]
     },
     "execution_count": 179,
     "metadata": {},
     "output_type": "execute_result"
    }
   ],
   "source": [
    "Array(1, 10, 1000, 10000).map(e => e.toString)"
   ]
  },
  {
   "cell_type": "code",
   "execution_count": 180,
   "id": "novel-declaration",
   "metadata": {},
   "outputs": [
    {
     "data": {
      "text/plain": [
       "res110: scala.collection.immutable.Set[Double] = Set(1.0, 10.0, 1000.0, 10000.0)\n"
      ]
     },
     "execution_count": 180,
     "metadata": {},
     "output_type": "execute_result"
    }
   ],
   "source": [
    "Set(1, 10, 1000, 10000).map(e => e.toDouble)"
   ]
  },
  {
   "cell_type": "markdown",
   "id": "beautiful-yugoslavia",
   "metadata": {},
   "source": [
    "-------------------"
   ]
  },
  {
   "cell_type": "code",
   "execution_count": 181,
   "id": "precious-communist",
   "metadata": {},
   "outputs": [
    {
     "data": {
      "text/plain": [
       "s3: scala.collection.immutable.Set[Array[List[Int]]] = Set(Array(List(1, 2), List(3, 4)), Array(List(5, 6), List(7, 8)))\n"
      ]
     },
     "execution_count": 181,
     "metadata": {},
     "output_type": "execute_result"
    }
   ],
   "source": [
    "val s3 = Set(Array(List(1, 2), List(3, 4)), Array(List(5, 6), List(7, 8)))"
   ]
  },
  {
   "cell_type": "code",
   "execution_count": 182,
   "id": "professional-hurricane",
   "metadata": {},
   "outputs": [
    {
     "data": {
      "text/plain": [
       "res111: scala.collection.immutable.Set[List[Int]] = Set(List(1, 2), List(3, 4), List(5, 6), List(7, 8))\n"
      ]
     },
     "execution_count": 182,
     "metadata": {},
     "output_type": "execute_result"
    }
   ],
   "source": [
    "s3.flatten"
   ]
  },
  {
   "cell_type": "code",
   "execution_count": 183,
   "id": "transsexual-glance",
   "metadata": {},
   "outputs": [
    {
     "data": {
      "text/plain": [
       "res112: scala.collection.immutable.Set[Int] = Set(5, 1, 6, 2, 7, 3, 8, 4)\n"
      ]
     },
     "execution_count": 183,
     "metadata": {},
     "output_type": "execute_result"
    }
   ],
   "source": [
    "s3.flatten.flatten"
   ]
  },
  {
   "cell_type": "code",
   "execution_count": 184,
   "id": "brazilian-thunder",
   "metadata": {},
   "outputs": [
    {
     "ename": "<console>",
     "evalue": "33: error: No implicit view available from Int => scala.collection.GenTraversableOnce[B].",
     "output_type": "error",
     "traceback": [
      "<console>:33: error: No implicit view available from Int => scala.collection.GenTraversableOnce[B].",
      "       s3.flatten.flatten.flatten",
      "                          ^",
      ""
     ]
    }
   ],
   "source": [
    "s3.flatten.flatten.flatten"
   ]
  },
  {
   "cell_type": "code",
   "execution_count": 185,
   "id": "unlikely-tribute",
   "metadata": {},
   "outputs": [
    {
     "ename": "<console>",
     "evalue": "31: error: No implicit view available from Int => Traversable[U].",
     "output_type": "error",
     "traceback": [
      "<console>:31: error: No implicit view available from Int => Traversable[U].",
      "       Array(1, 2, 3, 4, 5).flatten",
      "                            ^",
      ""
     ]
    }
   ],
   "source": [
    "Array(1, 2, 3, 4, 5).flatten"
   ]
  },
  {
   "cell_type": "markdown",
   "id": "tribal-essex",
   "metadata": {},
   "source": [
    "------------------------------"
   ]
  },
  {
   "cell_type": "code",
   "execution_count": 186,
   "id": "noticed-secretariat",
   "metadata": {},
   "outputs": [
    {
     "data": {
      "text/plain": [
       "s3: scala.collection.immutable.Set[Array[List[Int]]] = Set(Array(List(1, 2), List(3, 4)), Array(List(5, 6), List(7, 8)))\n"
      ]
     },
     "execution_count": 186,
     "metadata": {},
     "output_type": "execute_result"
    }
   ],
   "source": [
    "val s3 = Set(Array(List(1, 2), List(3, 4)), Array(List(5, 6), List(7, 8)))"
   ]
  },
  {
   "cell_type": "code",
   "execution_count": 187,
   "id": "accomplished-departure",
   "metadata": {},
   "outputs": [
    {
     "data": {
      "text/plain": [
       "res115: scala.collection.immutable.Set[List[Int]] = Set(List(1, 2), List(3, 4), List(5, 6), List(7, 8))\n"
      ]
     },
     "execution_count": 187,
     "metadata": {},
     "output_type": "execute_result"
    }
   ],
   "source": [
    "s3.flatMap(e => e)"
   ]
  },
  {
   "cell_type": "code",
   "execution_count": 188,
   "id": "trained-territory",
   "metadata": {},
   "outputs": [
    {
     "data": {
      "text/plain": [
       "res116: scala.collection.immutable.Set[Int] = Set(5, 1, 6, 2, 7, 3, 8, 4)\n"
      ]
     },
     "execution_count": 188,
     "metadata": {},
     "output_type": "execute_result"
    }
   ],
   "source": [
    "s3.flatMap(e => e).flatMap(e => e)"
   ]
  },
  {
   "cell_type": "code",
   "execution_count": 189,
   "id": "improving-split",
   "metadata": {},
   "outputs": [
    {
     "data": {
      "text/plain": [
       "res117: scala.collection.immutable.Set[Int] = Set(25, 1, 9, 64, 49, 16, 36, 4)\n"
      ]
     },
     "execution_count": 189,
     "metadata": {},
     "output_type": "execute_result"
    }
   ],
   "source": [
    "s3.flatMap(e1 => e1.flatMap(e2 => e2.map(e3 => e3 * e3)))"
   ]
  },
  {
   "cell_type": "code",
   "execution_count": 190,
   "id": "aging-japanese",
   "metadata": {},
   "outputs": [
    {
     "data": {
      "text/plain": [
       "res118: List[(Int, Int)] = List((1,1), (1,2), (2,1), (2,2), (3,1), (3,2))\n"
      ]
     },
     "execution_count": 190,
     "metadata": {},
     "output_type": "execute_result"
    }
   ],
   "source": [
    "for (i <- (1 to 3).toList;\n",
    "     j <- (1 to 2).toList) yield(i, j)"
   ]
  },
  {
   "cell_type": "code",
   "execution_count": 191,
   "id": "analyzed-soccer",
   "metadata": {},
   "outputs": [
    {
     "data": {
      "text/plain": [
       "res119: List[(Int, Int)] = List((1,1), (1,2), (1,1), (1,2), (1,1), (1,2))\n"
      ]
     },
     "execution_count": 191,
     "metadata": {},
     "output_type": "execute_result"
    }
   ],
   "source": [
    "(1 to 3).toList.flatMap(i => (1 to 2).toList).map(j => (i, j))"
   ]
  },
  {
   "cell_type": "code",
   "execution_count": 192,
   "id": "first-projector",
   "metadata": {},
   "outputs": [
    {
     "data": {
      "text/plain": [
       "res120: List[List[(Int, Int)]] = List(List((1,1), (1,2)), List((2,1), (2,2)), List((3,1), (3,2)))\n"
      ]
     },
     "execution_count": 192,
     "metadata": {},
     "output_type": "execute_result"
    }
   ],
   "source": [
    "(1 to 3).toList.map(i => (1 to 2).toList.map(j => (i, j)))"
   ]
  },
  {
   "cell_type": "code",
   "execution_count": 193,
   "id": "unknown-trustee",
   "metadata": {},
   "outputs": [
    {
     "data": {
      "text/plain": [
       "res121: List[(Int, Int)] = List((1,1), (1,2), (2,1), (2,2), (3,1), (3,2))\n"
      ]
     },
     "execution_count": 193,
     "metadata": {},
     "output_type": "execute_result"
    }
   ],
   "source": [
    "(1 to 3).toList.map(i => (1 to 2).toList.map(j => (i, j))).flatten"
   ]
  },
  {
   "cell_type": "code",
   "execution_count": 194,
   "id": "advanced-columbia",
   "metadata": {},
   "outputs": [
    {
     "data": {
      "text/plain": [
       "res122: List[(Int, Int)] = List((1,2), (2,1), (2,2), (3,2))\n"
      ]
     },
     "execution_count": 194,
     "metadata": {},
     "output_type": "execute_result"
    }
   ],
   "source": [
    "for (i <- (1 to 3).toList;\n",
    "     j <- (1 to 2).toList if (i * j % 2 == 0)) yield(i, j)"
   ]
  },
  {
   "cell_type": "code",
   "execution_count": 195,
   "id": "willing-museum",
   "metadata": {},
   "outputs": [
    {
     "data": {
      "text/plain": [
       "res123: List[(Int, Int)] = List((1,2), (2,1), (2,2), (3,2))\n"
      ]
     },
     "execution_count": 195,
     "metadata": {},
     "output_type": "execute_result"
    }
   ],
   "source": [
    "(1 to 3).toList.flatMap(i => (1 to 2).toList.withFilter(j => i * j % 2 == 0).map(j => (i, j)))"
   ]
  },
  {
   "cell_type": "markdown",
   "id": "constitutional-hawaii",
   "metadata": {},
   "source": [
    "--------------------------------"
   ]
  },
  {
   "cell_type": "code",
   "execution_count": 196,
   "id": "cardiovascular-taxation",
   "metadata": {},
   "outputs": [
    {
     "data": {
      "text/plain": [
       "res124: Int = 10\n"
      ]
     },
     "execution_count": 196,
     "metadata": {},
     "output_type": "execute_result"
    }
   ],
   "source": [
    "List(1, 2, 3, 4).reduce(_ + _)"
   ]
  },
  {
   "cell_type": "code",
   "execution_count": 197,
   "id": "arabic-geometry",
   "metadata": {},
   "outputs": [
    {
     "data": {
      "text/plain": [
       "res125: Int = 10\n"
      ]
     },
     "execution_count": 197,
     "metadata": {},
     "output_type": "execute_result"
    }
   ],
   "source": [
    "List(1, 2, 3, 4).reduceLeft(_ + _)"
   ]
  },
  {
   "cell_type": "code",
   "execution_count": 198,
   "id": "finite-appreciation",
   "metadata": {},
   "outputs": [
    {
     "data": {
      "text/plain": [
       "res126: Int = 10\n"
      ]
     },
     "execution_count": 198,
     "metadata": {},
     "output_type": "execute_result"
    }
   ],
   "source": [
    "List(1, 2, 3, 4).reduceRight(_ + _)"
   ]
  },
  {
   "cell_type": "markdown",
   "id": "complex-florence",
   "metadata": {},
   "source": [
    "\n"
   ]
  },
  {
   "cell_type": "code",
   "execution_count": 199,
   "id": "classical-representative",
   "metadata": {},
   "outputs": [
    {
     "data": {
      "text/plain": [
       "res127: Int = 24\n"
      ]
     },
     "execution_count": 199,
     "metadata": {},
     "output_type": "execute_result"
    }
   ],
   "source": [
    "List(1, 2, 3, 4).reduce(_ * _)"
   ]
  },
  {
   "cell_type": "code",
   "execution_count": 200,
   "id": "bulgarian-solution",
   "metadata": {},
   "outputs": [
    {
     "data": {
      "text/plain": [
       "res128: Int = 24\n"
      ]
     },
     "execution_count": 200,
     "metadata": {},
     "output_type": "execute_result"
    }
   ],
   "source": [
    "List(1, 2, 3, 4).reduceLeft(_ * _)"
   ]
  },
  {
   "cell_type": "code",
   "execution_count": 201,
   "id": "sunrise-listing",
   "metadata": {},
   "outputs": [
    {
     "data": {
      "text/plain": [
       "res129: Int = 24\n"
      ]
     },
     "execution_count": 201,
     "metadata": {},
     "output_type": "execute_result"
    }
   ],
   "source": [
    "List(1, 2, 3, 4).reduceRight(_ * _)"
   ]
  },
  {
   "cell_type": "markdown",
   "id": "solved-permit",
   "metadata": {},
   "source": [
    "\n"
   ]
  },
  {
   "cell_type": "code",
   "execution_count": 202,
   "id": "strange-sunset",
   "metadata": {},
   "outputs": [
    {
     "data": {
      "text/plain": [
       "res130: Int = -8\n"
      ]
     },
     "execution_count": 202,
     "metadata": {},
     "output_type": "execute_result"
    }
   ],
   "source": [
    "List(1, 2, 3, 4).reduce(_ - _)"
   ]
  },
  {
   "cell_type": "code",
   "execution_count": 203,
   "id": "foreign-seeker",
   "metadata": {},
   "outputs": [
    {
     "data": {
      "text/plain": [
       "res131: Int = -8\n"
      ]
     },
     "execution_count": 203,
     "metadata": {},
     "output_type": "execute_result"
    }
   ],
   "source": [
    "List(1, 2, 3, 4).reduceLeft(_ - _)"
   ]
  },
  {
   "cell_type": "code",
   "execution_count": 204,
   "id": "egyptian-reader",
   "metadata": {},
   "outputs": [
    {
     "data": {
      "text/plain": [
       "res132: Int = -2\n"
      ]
     },
     "execution_count": 204,
     "metadata": {},
     "output_type": "execute_result"
    }
   ],
   "source": [
    "List(1, 2, 3, 4).reduceRight(_ - _)"
   ]
  },
  {
   "cell_type": "markdown",
   "id": "bulgarian-greeting",
   "metadata": {},
   "source": [
    "\n"
   ]
  },
  {
   "cell_type": "code",
   "execution_count": 205,
   "id": "documentary-madagascar",
   "metadata": {},
   "outputs": [
    {
     "data": {
      "text/plain": [
       "res133: Double = 0.041666666666666664\n"
      ]
     },
     "execution_count": 205,
     "metadata": {},
     "output_type": "execute_result"
    }
   ],
   "source": [
    "List(1, 2, 3, 4).map(_.toDouble).reduce(_ / _)"
   ]
  },
  {
   "cell_type": "code",
   "execution_count": 206,
   "id": "fitting-rotation",
   "metadata": {},
   "outputs": [
    {
     "data": {
      "text/plain": [
       "res134: Double = 0.041666666666666664\n"
      ]
     },
     "execution_count": 206,
     "metadata": {},
     "output_type": "execute_result"
    }
   ],
   "source": [
    "List(1, 2, 3, 4).map(_.toDouble).reduceLeft(_ / _)"
   ]
  },
  {
   "cell_type": "code",
   "execution_count": 207,
   "id": "precise-turning",
   "metadata": {},
   "outputs": [
    {
     "data": {
      "text/plain": [
       "res135: Double = 0.375\n"
      ]
     },
     "execution_count": 207,
     "metadata": {},
     "output_type": "execute_result"
    }
   ],
   "source": [
    "List(1, 2, 3, 4).map(_.toDouble).reduceRight(_ / _)"
   ]
  },
  {
   "cell_type": "markdown",
   "id": "eleven-violation",
   "metadata": {},
   "source": [
    "------------------------------"
   ]
  },
  {
   "cell_type": "code",
   "execution_count": 208,
   "id": "falling-inclusion",
   "metadata": {},
   "outputs": [
    {
     "data": {
      "text/plain": [
       "res136: Int = 10\n"
      ]
     },
     "execution_count": 208,
     "metadata": {},
     "output_type": "execute_result"
    }
   ],
   "source": [
    "List(1, 2, 3, 4).fold(0)(_ + _)"
   ]
  },
  {
   "cell_type": "code",
   "execution_count": 209,
   "id": "taken-springer",
   "metadata": {},
   "outputs": [
    {
     "data": {
      "text/plain": [
       "res137: Int = 10\n"
      ]
     },
     "execution_count": 209,
     "metadata": {},
     "output_type": "execute_result"
    }
   ],
   "source": [
    "List(1, 2, 3, 4).foldLeft(0)(_ + _)"
   ]
  },
  {
   "cell_type": "code",
   "execution_count": 210,
   "id": "linear-graduation",
   "metadata": {},
   "outputs": [
    {
     "data": {
      "text/plain": [
       "res138: Int = 10\n"
      ]
     },
     "execution_count": 210,
     "metadata": {},
     "output_type": "execute_result"
    }
   ],
   "source": [
    "List(1, 2, 3, 4).foldRight(0)(_ + _)"
   ]
  },
  {
   "cell_type": "code",
   "execution_count": 211,
   "id": "confused-times",
   "metadata": {},
   "outputs": [
    {
     "data": {
      "text/plain": [
       "res139: Int = 10\n"
      ]
     },
     "execution_count": 211,
     "metadata": {},
     "output_type": "execute_result"
    }
   ],
   "source": [
    "(0 /: List(1, 2, 3, 4))(_ + _)"
   ]
  },
  {
   "cell_type": "code",
   "execution_count": 212,
   "id": "demonstrated-christmas",
   "metadata": {},
   "outputs": [
    {
     "data": {
      "text/plain": [
       "res140: Int = 10\n"
      ]
     },
     "execution_count": 212,
     "metadata": {},
     "output_type": "execute_result"
    }
   ],
   "source": [
    "(List(1, 2, 3, 4) :\\ 0)(_ + _)"
   ]
  },
  {
   "cell_type": "markdown",
   "id": "choice-departure",
   "metadata": {},
   "source": [
    "\n"
   ]
  },
  {
   "cell_type": "code",
   "execution_count": 213,
   "id": "underlying-milton",
   "metadata": {},
   "outputs": [
    {
     "data": {
      "text/plain": [
       "res141: Int = -10\n"
      ]
     },
     "execution_count": 213,
     "metadata": {},
     "output_type": "execute_result"
    }
   ],
   "source": [
    "List(1, 2, 3, 4).fold(0)(_ - _)"
   ]
  },
  {
   "cell_type": "code",
   "execution_count": 214,
   "id": "graphic-grocery",
   "metadata": {},
   "outputs": [
    {
     "data": {
      "text/plain": [
       "res142: Int = -10\n"
      ]
     },
     "execution_count": 214,
     "metadata": {},
     "output_type": "execute_result"
    }
   ],
   "source": [
    "List(1, 2, 3, 4).foldLeft(0)(_ - _)"
   ]
  },
  {
   "cell_type": "code",
   "execution_count": 215,
   "id": "binding-commercial",
   "metadata": {},
   "outputs": [
    {
     "data": {
      "text/plain": [
       "res143: Int = -2\n"
      ]
     },
     "execution_count": 215,
     "metadata": {},
     "output_type": "execute_result"
    }
   ],
   "source": [
    "List(1, 2, 3, 4).foldRight(0)(_ - _)"
   ]
  },
  {
   "cell_type": "code",
   "execution_count": 216,
   "id": "accomplished-marijuana",
   "metadata": {},
   "outputs": [
    {
     "data": {
      "text/plain": [
       "res144: Int = -10\n"
      ]
     },
     "execution_count": 216,
     "metadata": {},
     "output_type": "execute_result"
    }
   ],
   "source": [
    "(0 /: List(1, 2, 3, 4))(_ - _)"
   ]
  },
  {
   "cell_type": "code",
   "execution_count": 217,
   "id": "arctic-communist",
   "metadata": {},
   "outputs": [
    {
     "data": {
      "text/plain": [
       "res145: Int = -2\n"
      ]
     },
     "execution_count": 217,
     "metadata": {},
     "output_type": "execute_result"
    }
   ],
   "source": [
    "(List(1, 2, 3, 4) :\\ 0)(_ - _)"
   ]
  },
  {
   "cell_type": "markdown",
   "id": "moderate-cookbook",
   "metadata": {},
   "source": [
    "\n"
   ]
  },
  {
   "cell_type": "code",
   "execution_count": 218,
   "id": "conservative-relation",
   "metadata": {},
   "outputs": [
    {
     "data": {
      "text/plain": [
       "res146: Int = 24\n"
      ]
     },
     "execution_count": 218,
     "metadata": {},
     "output_type": "execute_result"
    }
   ],
   "source": [
    "List(1, 2, 3, 4).fold(1)(_ * _)"
   ]
  },
  {
   "cell_type": "code",
   "execution_count": 219,
   "id": "conceptual-integrity",
   "metadata": {},
   "outputs": [
    {
     "data": {
      "text/plain": [
       "res147: Int = 24\n"
      ]
     },
     "execution_count": 219,
     "metadata": {},
     "output_type": "execute_result"
    }
   ],
   "source": [
    "List(1, 2, 3, 4).foldLeft(1)(_ * _)"
   ]
  },
  {
   "cell_type": "code",
   "execution_count": 220,
   "id": "departmental-oliver",
   "metadata": {},
   "outputs": [
    {
     "data": {
      "text/plain": [
       "res148: Int = 24\n"
      ]
     },
     "execution_count": 220,
     "metadata": {},
     "output_type": "execute_result"
    }
   ],
   "source": [
    "List(1, 2, 3, 4).foldRight(1)(_ * _)"
   ]
  },
  {
   "cell_type": "code",
   "execution_count": 221,
   "id": "sonic-liver",
   "metadata": {},
   "outputs": [
    {
     "data": {
      "text/plain": [
       "res149: Int = 24\n"
      ]
     },
     "execution_count": 221,
     "metadata": {},
     "output_type": "execute_result"
    }
   ],
   "source": [
    "(1 /: List(1, 2, 3, 4))(_ * _)"
   ]
  },
  {
   "cell_type": "code",
   "execution_count": 222,
   "id": "appointed-member",
   "metadata": {},
   "outputs": [
    {
     "data": {
      "text/plain": [
       "res150: Int = 24\n"
      ]
     },
     "execution_count": 222,
     "metadata": {},
     "output_type": "execute_result"
    }
   ],
   "source": [
    "(List(1, 2, 3, 4) :\\ 1)(_ * _)"
   ]
  },
  {
   "cell_type": "markdown",
   "id": "cellular-rolling",
   "metadata": {},
   "source": [
    "\n"
   ]
  },
  {
   "cell_type": "code",
   "execution_count": 223,
   "id": "mechanical-marking",
   "metadata": {},
   "outputs": [
    {
     "ename": "<console>",
     "evalue": "31: error: value / is not a member of AnyVal",
     "output_type": "error",
     "traceback": [
      "<console>:31: error: value / is not a member of AnyVal",
      "       List(1, 2, 3, 4).map(_.toDouble).fold(1)(_ / _)",
      "                                                  ^",
      ""
     ]
    }
   ],
   "source": [
    "List(1, 2, 3, 4).map(_.toDouble).fold(1)(_ / _)"
   ]
  },
  {
   "cell_type": "markdown",
   "id": "powered-rates",
   "metadata": {},
   "source": [
    "\n"
   ]
  },
  {
   "cell_type": "code",
   "execution_count": 224,
   "id": "through-gather",
   "metadata": {},
   "outputs": [
    {
     "data": {
      "text/plain": [
       "res152: Double = 0.041666666666666664\n"
      ]
     },
     "execution_count": 224,
     "metadata": {},
     "output_type": "execute_result"
    }
   ],
   "source": [
    "List(1, 2, 3, 4).map(_.toDouble).fold(1.0)(_ / _)"
   ]
  },
  {
   "cell_type": "code",
   "execution_count": 225,
   "id": "corresponding-portrait",
   "metadata": {},
   "outputs": [
    {
     "data": {
      "text/plain": [
       "res153: Double = 0.041666666666666664\n"
      ]
     },
     "execution_count": 225,
     "metadata": {},
     "output_type": "execute_result"
    }
   ],
   "source": [
    "List(1, 2, 3, 4).map(_.toDouble).foldLeft(1.0)(_ / _)"
   ]
  },
  {
   "cell_type": "code",
   "execution_count": 226,
   "id": "innocent-glance",
   "metadata": {},
   "outputs": [
    {
     "data": {
      "text/plain": [
       "res154: Double = 0.375\n"
      ]
     },
     "execution_count": 226,
     "metadata": {},
     "output_type": "execute_result"
    }
   ],
   "source": [
    "List(1, 2, 3, 4).map(_.toDouble).foldRight(1.0)(_ / _)"
   ]
  },
  {
   "cell_type": "code",
   "execution_count": 227,
   "id": "patent-measurement",
   "metadata": {},
   "outputs": [
    {
     "data": {
      "text/plain": [
       "res155: Double = 0.041666666666666664\n"
      ]
     },
     "execution_count": 227,
     "metadata": {},
     "output_type": "execute_result"
    }
   ],
   "source": [
    "(1.0 /: List(1, 2, 3, 4))(_ / _)"
   ]
  },
  {
   "cell_type": "code",
   "execution_count": 228,
   "id": "similar-designer",
   "metadata": {},
   "outputs": [
    {
     "data": {
      "text/plain": [
       "res156: Double = 0.375\n"
      ]
     },
     "execution_count": 228,
     "metadata": {},
     "output_type": "execute_result"
    }
   ],
   "source": [
    "(List(1, 2, 3, 4) :\\ 1.0)(_ / _)"
   ]
  },
  {
   "cell_type": "markdown",
   "id": "phantom-static",
   "metadata": {},
   "source": [
    "\n"
   ]
  },
  {
   "cell_type": "code",
   "execution_count": 229,
   "id": "caring-gnome",
   "metadata": {},
   "outputs": [
    {
     "data": {
      "text/plain": [
       "res157: String = z f 1 f 2 f 3\n"
      ]
     },
     "execution_count": 229,
     "metadata": {},
     "output_type": "execute_result"
    }
   ],
   "source": [
    "(\"z\" /: List(\"1\", \"2\", \"3\")) (_ + \" f \" + _)"
   ]
  },
  {
   "cell_type": "code",
   "execution_count": 230,
   "id": "frequent-stick",
   "metadata": {},
   "outputs": [
    {
     "data": {
      "text/plain": [
       "res158: String = (((z f 1) f 2) f 3)\n"
      ]
     },
     "execution_count": 230,
     "metadata": {},
     "output_type": "execute_result"
    }
   ],
   "source": [
    "(\"z\" /: List(\"1\", \"2\", \"3\"))(\"(\" + _ + \" f \" + _ + \")\")"
   ]
  },
  {
   "cell_type": "markdown",
   "id": "graduate-craft",
   "metadata": {},
   "source": [
    "\n"
   ]
  },
  {
   "cell_type": "code",
   "execution_count": 231,
   "id": "rocky-attendance",
   "metadata": {},
   "outputs": [
    {
     "data": {
      "text/plain": [
       "res159: String = 1 f 2 f 3 f z\n"
      ]
     },
     "execution_count": 231,
     "metadata": {},
     "output_type": "execute_result"
    }
   ],
   "source": [
    "(List(\"1\", \"2\", \"3\") :\\ \"z\") (_ + \" f \" + _)"
   ]
  },
  {
   "cell_type": "code",
   "execution_count": 232,
   "id": "alpha-checklist",
   "metadata": {},
   "outputs": [
    {
     "data": {
      "text/plain": [
       "res160: String = (1 f (2 f (3 f z)))\n"
      ]
     },
     "execution_count": 232,
     "metadata": {},
     "output_type": "execute_result"
    }
   ],
   "source": [
    "(List(\"1\", \"2\", \"3\") :\\ \"z\") (\"(\" + _ + \" f \" + _ + \")\")"
   ]
  },
  {
   "cell_type": "markdown",
   "id": "above-uruguay",
   "metadata": {},
   "source": [
    "\n"
   ]
  },
  {
   "cell_type": "code",
   "execution_count": 233,
   "id": "useful-image",
   "metadata": {},
   "outputs": [
    {
     "data": {
      "text/plain": [
       "res161: List[Int] = List(1, 2, 3)\n"
      ]
     },
     "execution_count": 233,
     "metadata": {},
     "output_type": "execute_result"
    }
   ],
   "source": [
    "(List(1, 2, 3) :\\ List[Int]()) ((head, tail) => head :: tail)"
   ]
  },
  {
   "cell_type": "code",
   "execution_count": 234,
   "id": "discrete-appendix",
   "metadata": {},
   "outputs": [
    {
     "data": {
      "text/plain": [
       "res162: List[Int] = List(2, 4, 6)\n"
      ]
     },
     "execution_count": 234,
     "metadata": {},
     "output_type": "execute_result"
    }
   ],
   "source": [
    "(List(1, 2, 3) :\\ List[Int]()) ((head, tail) => 2 * head :: tail)"
   ]
  },
  {
   "cell_type": "code",
   "execution_count": 235,
   "id": "focal-velvet",
   "metadata": {},
   "outputs": [
    {
     "data": {
      "text/plain": [
       "res163: List[Int] = List(1, 2, 3, 4, 5, 6, 7, 8, 9)\n"
      ]
     },
     "execution_count": 235,
     "metadata": {},
     "output_type": "execute_result"
    }
   ],
   "source": [
    "(List(List(1, 2, 3), List(4, 5, 6), List(7, 8, 9)) :\\ List[Int]()) (_ ::: _)"
   ]
  },
  {
   "cell_type": "markdown",
   "id": "framed-begin",
   "metadata": {},
   "source": [
    "------------------------"
   ]
  },
  {
   "cell_type": "code",
   "execution_count": 236,
   "id": "three-flooring",
   "metadata": {},
   "outputs": [
    {
     "name": "stdout",
     "output_type": "stream",
     "text": [
      "1\n",
      "2\n",
      "3\n"
     ]
    }
   ],
   "source": [
    "List(1, 2, 3).foreach(e => println(e))"
   ]
  },
  {
   "cell_type": "code",
   "execution_count": 237,
   "id": "lined-plate",
   "metadata": {},
   "outputs": [
    {
     "name": "stdout",
     "output_type": "stream",
     "text": [
      "1\n",
      "2\n",
      "3\n"
     ]
    }
   ],
   "source": [
    "Array(\"a\", \"bb\", \"ccc\").foreach(e => println(e.length))"
   ]
  },
  {
   "cell_type": "markdown",
   "id": "corresponding-officer",
   "metadata": {},
   "source": [
    "----------------------"
   ]
  },
  {
   "cell_type": "code",
   "execution_count": 238,
   "id": "characteristic-needle",
   "metadata": {},
   "outputs": [
    {
     "data": {
      "text/plain": [
       "res166: List[(Int, String)] = List((1,a), (2,b))\n"
      ]
     },
     "execution_count": 238,
     "metadata": {},
     "output_type": "execute_result"
    }
   ],
   "source": [
    "List(1, 2, 3).zip(Array(\"a\", \"b\"))"
   ]
  },
  {
   "cell_type": "code",
   "execution_count": 239,
   "id": "compact-carolina",
   "metadata": {},
   "outputs": [
    {
     "data": {
      "text/plain": [
       "res167: List[(Int, String)] = List((1,a), (1,b), (2,a), (2,b), (3,a), (3,b))\n"
      ]
     },
     "execution_count": 239,
     "metadata": {},
     "output_type": "execute_result"
    }
   ],
   "source": [
    "List(1, 2, 3).flatMap(e1 => Array(\"a\", \"b\").map(e2 => (e1, e2)))"
   ]
  },
  {
   "cell_type": "code",
   "execution_count": 240,
   "id": "waiting-bouquet",
   "metadata": {},
   "outputs": [
    {
     "data": {
      "text/plain": [
       "res168: (List[Int], List[String]) = (List(1, 2),List(a, b))\n"
      ]
     },
     "execution_count": 240,
     "metadata": {},
     "output_type": "execute_result"
    }
   ],
   "source": [
    "List(1, 2, 3).zip(Array(\"a\", \"b\")).unzip"
   ]
  },
  {
   "cell_type": "markdown",
   "id": "royal-missile",
   "metadata": {},
   "source": [
    "\n"
   ]
  },
  {
   "cell_type": "code",
   "execution_count": 241,
   "id": "powerful-pizza",
   "metadata": {},
   "outputs": [
    {
     "data": {
      "text/plain": [
       "l1: List[String] = List(a, b, c, d)\n"
      ]
     },
     "execution_count": 241,
     "metadata": {},
     "output_type": "execute_result"
    }
   ],
   "source": [
    "val l1 = List(\"a\", \"b\", \"c\", \"d\")"
   ]
  },
  {
   "cell_type": "code",
   "execution_count": 242,
   "id": "rubber-ancient",
   "metadata": {},
   "outputs": [
    {
     "data": {
      "text/plain": [
       "l1WithIndices: List[(String, Int)] = List((a,0), (b,1), (c,2), (d,3))\n"
      ]
     },
     "execution_count": 242,
     "metadata": {},
     "output_type": "execute_result"
    }
   ],
   "source": [
    "val l1WithIndices = l1.zip(l1.indices)"
   ]
  },
  {
   "cell_type": "code",
   "execution_count": 243,
   "id": "practical-estate",
   "metadata": {},
   "outputs": [
    {
     "data": {
      "text/plain": [
       "res169: List[(String, Int)] = List((a,0), (b,1), (c,2), (d,3))\n"
      ]
     },
     "execution_count": 243,
     "metadata": {},
     "output_type": "execute_result"
    }
   ],
   "source": [
    "List(\"a\", \"b\", \"c\", \"d\").zipWithIndex"
   ]
  },
  {
   "cell_type": "markdown",
   "id": "smooth-waters",
   "metadata": {},
   "source": [
    "\n"
   ]
  },
  {
   "cell_type": "code",
   "execution_count": 244,
   "id": "chemical-perspective",
   "metadata": {},
   "outputs": [
    {
     "data": {
      "text/plain": [
       "res170: List[(String, Int)] = List((a,1), (b,2), (c,3), (d,4))\n"
      ]
     },
     "execution_count": 244,
     "metadata": {},
     "output_type": "execute_result"
    }
   ],
   "source": [
    "l1.zip(l1.indices.map(_ + 1))"
   ]
  },
  {
   "cell_type": "markdown",
   "id": "quality-solomon",
   "metadata": {},
   "source": [
    "## 4. Wzorzec _\"Collection Pipeline\"_"
   ]
  },
  {
   "cell_type": "code",
   "execution_count": 245,
   "id": "canadian-logistics",
   "metadata": {},
   "outputs": [
    {
     "data": {
      "text/plain": [
       "namesStr: String = tomasz, t, bohdan, anna, jerzy, j, maria\n",
       "formStr: String = Tomasz, Bohdan, Anna, Jerzy, Maria\n"
      ]
     },
     "execution_count": 245,
     "metadata": {},
     "output_type": "execute_result"
    }
   ],
   "source": [
    "val namesStr = \"tomasz, t, bohdan, anna, jerzy, j, maria\"\n",
    "val formStr = namesStr.split(\",[ ]+\").filter(_.length > 1).map(_.capitalize).reduce(_ + \", \" + _)"
   ]
  },
  {
   "cell_type": "markdown",
   "id": "thrown-calcium",
   "metadata": {},
   "source": [
    "#### Zadanie\n",
    "przeanalizować wyniki kolejnych etapów przetwarzania"
   ]
  },
  {
   "cell_type": "code",
   "execution_count": 246,
   "id": "central-waste",
   "metadata": {},
   "outputs": [
    {
     "data": {
      "text/plain": [
       "formStrPart1: Array[String] = Array(tomasz, t, bohdan, anna, jerzy, j, maria)\n"
      ]
     },
     "execution_count": 246,
     "metadata": {},
     "output_type": "execute_result"
    }
   ],
   "source": [
    "val formStrPart1 = namesStr.split(\",[ ]+\")"
   ]
  },
  {
   "cell_type": "code",
   "execution_count": 247,
   "id": "alpine-cinema",
   "metadata": {},
   "outputs": [
    {
     "data": {
      "text/plain": [
       "formStrPart2: Array[String] = Array(tomasz, bohdan, anna, jerzy, maria)\n"
      ]
     },
     "execution_count": 247,
     "metadata": {},
     "output_type": "execute_result"
    }
   ],
   "source": [
    "val formStrPart2 = namesStr.split(\", \").filter(_.length > 1)"
   ]
  },
  {
   "cell_type": "code",
   "execution_count": 248,
   "id": "joined-cambodia",
   "metadata": {},
   "outputs": [
    {
     "data": {
      "text/plain": [
       "formStrPart3: Array[String] = Array(Tomasz, Bohdan, Anna, Jerzy, Maria)\n"
      ]
     },
     "execution_count": 248,
     "metadata": {},
     "output_type": "execute_result"
    }
   ],
   "source": [
    "val formStrPart3 = namesStr.split(\", \").filter(_.length > 1).map(_.capitalize)"
   ]
  },
  {
   "cell_type": "code",
   "execution_count": 249,
   "id": "figured-banner",
   "metadata": {},
   "outputs": [
    {
     "data": {
      "text/plain": [
       "formStrPart4: String = Tomasz, Bohdan, Anna, Jerzy, Maria\n"
      ]
     },
     "execution_count": 249,
     "metadata": {},
     "output_type": "execute_result"
    }
   ],
   "source": [
    "val formStrPart4 = namesStr.split(\", \").filter(_.length > 1).map(_.capitalize).reduce(_ + \", \" + _)"
   ]
  },
  {
   "cell_type": "markdown",
   "id": "racial-lloyd",
   "metadata": {},
   "source": [
    "--------------------"
   ]
  },
  {
   "cell_type": "code",
   "execution_count": 250,
   "id": "portuguese-myanmar",
   "metadata": {},
   "outputs": [
    {
     "data": {
      "text/plain": [
       "numOfDiffLetters: Int = 15\n"
      ]
     },
     "execution_count": 250,
     "metadata": {},
     "output_type": "execute_result"
    }
   ],
   "source": [
    "val numOfDiffLetters = List(\"Trzynastu\", \"musi\", \"pójść\").mkString.toLowerCase.toSet.size"
   ]
  },
  {
   "cell_type": "markdown",
   "id": "decent-biotechnology",
   "metadata": {},
   "source": [
    "#### Zadanie\n",
    "przeanalizować wyniki kolejnych etapów przetwarzania"
   ]
  },
  {
   "cell_type": "code",
   "execution_count": 251,
   "id": "fitting-favorite",
   "metadata": {},
   "outputs": [
    {
     "data": {
      "text/plain": [
       "numOfDiffLettersPart1: List[String] = List(Trzynastu, musi, pójść)\n"
      ]
     },
     "execution_count": 251,
     "metadata": {},
     "output_type": "execute_result"
    }
   ],
   "source": [
    "val numOfDiffLettersPart1 = List(\"Trzynastu\", \"musi\", \"pójść\")"
   ]
  },
  {
   "cell_type": "code",
   "execution_count": 252,
   "id": "needed-child",
   "metadata": {},
   "outputs": [
    {
     "data": {
      "text/plain": [
       "numOfDiffLettersPart2: String = Trzynastumusipójść\n"
      ]
     },
     "execution_count": 252,
     "metadata": {},
     "output_type": "execute_result"
    }
   ],
   "source": [
    "val numOfDiffLettersPart2 = List(\"Trzynastu\", \"musi\", \"pójść\").mkString"
   ]
  },
  {
   "cell_type": "code",
   "execution_count": 253,
   "id": "moving-netscape",
   "metadata": {},
   "outputs": [
    {
     "data": {
      "text/plain": [
       "numOfDiffLettersPart3: String = trzynastumusipójść\n"
      ]
     },
     "execution_count": 253,
     "metadata": {},
     "output_type": "execute_result"
    }
   ],
   "source": [
    "val numOfDiffLettersPart3 = List(\"Trzynastu\", \"musi\", \"pójść\").mkString.toLowerCase"
   ]
  },
  {
   "cell_type": "code",
   "execution_count": 254,
   "id": "compact-amount",
   "metadata": {},
   "outputs": [
    {
     "data": {
      "text/plain": [
       "numOfDiffLettersPart4: scala.collection.immutable.Set[Char] = Set(ś, s, n, j, y, t, ó, u, a, m, i, p, ć, r, z)\n"
      ]
     },
     "execution_count": 254,
     "metadata": {},
     "output_type": "execute_result"
    }
   ],
   "source": [
    "val numOfDiffLettersPart4 = List(\"Trzynastu\", \"musi\", \"pójść\").mkString.toLowerCase.toSet"
   ]
  },
  {
   "cell_type": "code",
   "execution_count": 255,
   "id": "imported-lying",
   "metadata": {},
   "outputs": [
    {
     "data": {
      "text/plain": [
       "numOfDiffLettersPart5: Int = 15\n"
      ]
     },
     "execution_count": 255,
     "metadata": {},
     "output_type": "execute_result"
    }
   ],
   "source": [
    "val numOfDiffLettersPart5 = List(\"Trzynastu\", \"musi\", \"pójść\").mkString.toLowerCase.toSet.size"
   ]
  },
  {
   "cell_type": "markdown",
   "id": "unavailable-sight",
   "metadata": {},
   "source": [
    "----------------------------"
   ]
  },
  {
   "cell_type": "code",
   "execution_count": 256,
   "id": "representative-testimony",
   "metadata": {},
   "outputs": [
    {
     "data": {
      "text/plain": [
       "prodPrices: scala.collection.immutable.Map[String,Int] = Map(A -> 100, B -> 500, C -> 1000)\n"
      ]
     },
     "execution_count": 256,
     "metadata": {},
     "output_type": "execute_result"
    }
   ],
   "source": [
    "val prodPrices = Map(\"A\" -> 100, \"B\" -> 500, \"C\" -> 1000)"
   ]
  },
  {
   "cell_type": "code",
   "execution_count": 257,
   "id": "shared-berlin",
   "metadata": {},
   "outputs": [
    {
     "data": {
      "text/plain": [
       "products: List[String] = List(A, B, C)\n"
      ]
     },
     "execution_count": 257,
     "metadata": {},
     "output_type": "execute_result"
    }
   ],
   "source": [
    "val products = List(\"A\", \"B\", \"C\")"
   ]
  },
  {
   "cell_type": "code",
   "execution_count": 258,
   "id": "efficient-mobile",
   "metadata": {},
   "outputs": [
    {
     "data": {
      "text/plain": [
       "totalDiscount: Double = 350.0\n"
      ]
     },
     "execution_count": 258,
     "metadata": {},
     "output_type": "execute_result"
    }
   ],
   "source": [
    "val totalDiscount = products\n",
    "                        .filter(prodPrices(_) > 499)\n",
    "                        .map(e => { val pr = prodPrices(e); if (pr > 999) pr * 0.3 else pr * 0.1})\n",
    "                        .reduce(_ + _)"
   ]
  },
  {
   "cell_type": "markdown",
   "id": "surprising-significance",
   "metadata": {},
   "source": [
    "#### Zadanie\n",
    "przeanalizować wyniki kolejnych etapów przetwarzania"
   ]
  },
  {
   "cell_type": "code",
   "execution_count": 259,
   "id": "adequate-gather",
   "metadata": {},
   "outputs": [
    {
     "data": {
      "text/plain": [
       "totalDiscountPart1: List[String] = List(B, C)\n"
      ]
     },
     "execution_count": 259,
     "metadata": {},
     "output_type": "execute_result"
    }
   ],
   "source": [
    "val totalDiscountPart1 = products.filter(prodPrices(_) > 499)"
   ]
  },
  {
   "cell_type": "code",
   "execution_count": 260,
   "id": "behavioral-catalog",
   "metadata": {},
   "outputs": [
    {
     "data": {
      "text/plain": [
       "totalDiscountPart2: List[Double] = List(50.0, 300.0)\n"
      ]
     },
     "execution_count": 260,
     "metadata": {},
     "output_type": "execute_result"
    }
   ],
   "source": [
    "val totalDiscountPart2 = products\n",
    "                            .filter(prodPrices(_) > 499)\n",
    "                            .map(e => { val pr = prodPrices(e); if (pr > 999) pr * 0.3 else pr * 0.1})"
   ]
  },
  {
   "cell_type": "code",
   "execution_count": 261,
   "id": "emotional-article",
   "metadata": {},
   "outputs": [
    {
     "data": {
      "text/plain": [
       "totalDiscountPart3: Double = 350.0\n"
      ]
     },
     "execution_count": 261,
     "metadata": {},
     "output_type": "execute_result"
    }
   ],
   "source": [
    "val totalDiscountPart3 = products\n",
    "                            .filter(prodPrices(_) > 499)\n",
    "                            .map(e => { val pr = prodPrices(e); if (pr > 999) pr * 0.3 else pr * 0.1})\n",
    "                            .reduce(_ + _)"
   ]
  },
  {
   "cell_type": "markdown",
   "id": "initial-defendant",
   "metadata": {},
   "source": [
    "-----------------"
   ]
  },
  {
   "cell_type": "code",
   "execution_count": 262,
   "id": "standard-order",
   "metadata": {},
   "outputs": [
    {
     "data": {
      "text/plain": [
       "lines: List[String] = List(This is a line of text, And here the second line)\n"
      ]
     },
     "execution_count": 262,
     "metadata": {},
     "output_type": "execute_result"
    }
   ],
   "source": [
    "val lines = List(\"This is a line of text\", \"And here the second line\")"
   ]
  },
  {
   "cell_type": "code",
   "execution_count": 263,
   "id": "radical-experiment",
   "metadata": {},
   "outputs": [
    {
     "data": {
      "text/plain": [
       "wordCount1: Int = 11\n"
      ]
     },
     "execution_count": 263,
     "metadata": {},
     "output_type": "execute_result"
    }
   ],
   "source": [
    "val wordCount1 = lines\n",
    "                    .flatMap(_.split(\" \"))\n",
    "                    .map(_.toLowerCase)\n",
    "                    .foldLeft(0)((acc, e) => acc + 1)"
   ]
  },
  {
   "cell_type": "code",
   "execution_count": 264,
   "id": "lonely-account",
   "metadata": {},
   "outputs": [
    {
     "data": {
      "text/plain": [
       "wordCount2: Int = 15\n"
      ]
     },
     "execution_count": 264,
     "metadata": {},
     "output_type": "execute_result"
    }
   ],
   "source": [
    "val wordCount2 = lines\n",
    "                    .flatMap(_.split(\"\"))\n",
    "                    .map(_.toLowerCase)\n",
    "                    .toSet.foldLeft(0)((acc, e) => acc + 1)"
   ]
  },
  {
   "cell_type": "markdown",
   "id": "automotive-frequency",
   "metadata": {},
   "source": [
    "#### Zadanie\n",
    "przeanalizować wyniki kolejnych etapów przetwarzania"
   ]
  },
  {
   "cell_type": "code",
   "execution_count": 265,
   "id": "functional-vocabulary",
   "metadata": {},
   "outputs": [
    {
     "data": {
      "text/plain": [
       "wordCount1_part1: List[String] = List(This, is, a, line, of, text, And, here, the, second, line)\n"
      ]
     },
     "execution_count": 265,
     "metadata": {},
     "output_type": "execute_result"
    }
   ],
   "source": [
    "val wordCount1_part1 = lines.flatMap(_.split(\" \"))"
   ]
  },
  {
   "cell_type": "code",
   "execution_count": 266,
   "id": "empirical-hours",
   "metadata": {},
   "outputs": [
    {
     "data": {
      "text/plain": [
       "wordCount1_part2: List[String] = List(this, is, a, line, of, text, and, here, the, second, line)\n"
      ]
     },
     "execution_count": 266,
     "metadata": {},
     "output_type": "execute_result"
    }
   ],
   "source": [
    "val wordCount1_part2 = lines\n",
    "                        .flatMap(_.split(\" \"))\n",
    "                        .map(_.toLowerCase)"
   ]
  },
  {
   "cell_type": "code",
   "execution_count": 267,
   "id": "charitable-difficulty",
   "metadata": {},
   "outputs": [
    {
     "data": {
      "text/plain": [
       "wordCount1_part3: scala.collection.immutable.Set[String] = Set(this, is, line, a, text, here, second, of, and, the)\n"
      ]
     },
     "execution_count": 267,
     "metadata": {},
     "output_type": "execute_result"
    }
   ],
   "source": [
    "val wordCount1_part3 = lines\n",
    "                        .flatMap(_.split(\" \"))\n",
    "                        .map(_.toLowerCase)\n",
    "                        .toSet"
   ]
  },
  {
   "cell_type": "code",
   "execution_count": 268,
   "id": "seeing-wallpaper",
   "metadata": {},
   "outputs": [
    {
     "data": {
      "text/plain": [
       "wordCount1_part4: Int = 10\n"
      ]
     },
     "execution_count": 268,
     "metadata": {},
     "output_type": "execute_result"
    }
   ],
   "source": [
    "val wordCount1_part4 = lines\n",
    "                        .flatMap(_.split(\" \"))\n",
    "                        .map(_.toLowerCase)\n",
    "                        .toSet\n",
    "                        .foldLeft(0)((acc, e) => acc + 1)"
   ]
  },
  {
   "cell_type": "code",
   "execution_count": 269,
   "id": "spare-charles",
   "metadata": {},
   "outputs": [
    {
     "data": {
      "text/plain": [
       "wordCount2_part1: List[String] = List(T, h, i, s, \" \", i, s, \" \", a, \" \", l, i, n, e, \" \", o, f, \" \", t, e, x, t, A, n, d, \" \", h, e, r, e, \" \", t, h, e, \" \", s, e, c, o, n, d, \" \", l, i, n, e)\n"
      ]
     },
     "execution_count": 269,
     "metadata": {},
     "output_type": "execute_result"
    }
   ],
   "source": [
    "val wordCount2_part1 = lines.flatMap(_.split(\"\"))"
   ]
  },
  {
   "cell_type": "code",
   "execution_count": 270,
   "id": "brilliant-lounge",
   "metadata": {},
   "outputs": [
    {
     "data": {
      "text/plain": [
       "wordCount2_part2: List[String] = List(t, h, i, s, \" \", i, s, \" \", a, \" \", l, i, n, e, \" \", o, f, \" \", t, e, x, t, a, n, d, \" \", h, e, r, e, \" \", t, h, e, \" \", s, e, c, o, n, d, \" \", l, i, n, e)\n"
      ]
     },
     "execution_count": 270,
     "metadata": {},
     "output_type": "execute_result"
    }
   ],
   "source": [
    "val wordCount2_part2 = lines\n",
    "                        .flatMap(_.split(\"\"))\n",
    "                        .map(_.toLowerCase)"
   ]
  },
  {
   "cell_type": "code",
   "execution_count": 271,
   "id": "descending-temple",
   "metadata": {},
   "outputs": [
    {
     "data": {
      "text/plain": [
       "wordCount2_part2: scala.collection.immutable.Set[String] = Set(e, s, x, n, t, f, a, i, \" \", l, c, h, r, o, d)\n"
      ]
     },
     "execution_count": 271,
     "metadata": {},
     "output_type": "execute_result"
    }
   ],
   "source": [
    "val wordCount2_part2 = lines\n",
    "                        .flatMap(_.split(\"\"))\n",
    "                        .map(_.toLowerCase)\n",
    "                        .toSet"
   ]
  },
  {
   "cell_type": "code",
   "execution_count": 272,
   "id": "organizational-ambassador",
   "metadata": {},
   "outputs": [
    {
     "data": {
      "text/plain": [
       "wordCount2_part2: Int = 15\n"
      ]
     },
     "execution_count": 272,
     "metadata": {},
     "output_type": "execute_result"
    }
   ],
   "source": [
    "val wordCount2_part2 = lines\n",
    "                        .flatMap(_.split(\"\"))\n",
    "                        .map(_.toLowerCase)\n",
    "                        .toSet.foldLeft(0)((acc, e) => acc + 1)"
   ]
  },
  {
   "cell_type": "markdown",
   "id": "bizarre-austria",
   "metadata": {},
   "source": [
    "#### Zadanie\n",
    "w powyższym kodzie użyć `/:` zamiast `foldLeft`"
   ]
  },
  {
   "cell_type": "code",
   "execution_count": 273,
   "id": "mighty-illness",
   "metadata": {},
   "outputs": [
    {
     "data": {
      "text/plain": [
       "wordCount1: Int = 11\n"
      ]
     },
     "execution_count": 273,
     "metadata": {},
     "output_type": "execute_result"
    }
   ],
   "source": [
    "val wordCount1 = ( 0 /: lines\n",
    "                    .flatMap(_.split(\" \"))\n",
    "                    .map(_.toLowerCase))((acc, e) => acc + 1)"
   ]
  },
  {
   "cell_type": "code",
   "execution_count": 274,
   "id": "executive-consequence",
   "metadata": {},
   "outputs": [
    {
     "data": {
      "text/plain": [
       "wordCount2: Int = 15\n"
      ]
     },
     "execution_count": 274,
     "metadata": {},
     "output_type": "execute_result"
    }
   ],
   "source": [
    "val wordCount2 = ( 0 /: lines\n",
    "                    .flatMap(_.split(\"\"))\n",
    "                    .map(_.toLowerCase)\n",
    "                    .toSet)((acc, e) => acc + 1)"
   ]
  }
 ],
 "metadata": {
  "kernelspec": {
   "display_name": "spylon-kernel",
   "language": "scala",
   "name": "spylon-kernel"
  },
  "language_info": {
   "codemirror_mode": "text/x-scala",
   "file_extension": ".scala",
   "help_links": [
    {
     "text": "MetaKernel Magics",
     "url": "https://metakernel.readthedocs.io/en/latest/source/README.html"
    }
   ],
   "mimetype": "text/x-scala",
   "name": "scala",
   "pygments_lexer": "scala",
   "version": "0.4.1"
  }
 },
 "nbformat": 4,
 "nbformat_minor": 5
}
